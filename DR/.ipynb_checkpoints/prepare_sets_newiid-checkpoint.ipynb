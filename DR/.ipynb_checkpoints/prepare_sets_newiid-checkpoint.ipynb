{
 "cells": [
  {
   "cell_type": "code",
   "execution_count": 1,
   "metadata": {},
   "outputs": [],
   "source": [
    "import pandas as pd\n",
    "import numpy as np\n",
    "import os\n",
    "import matplotlib.pyplot as plt\n",
    "import glob\n",
    "import cv2\n",
    "%matplotlib inline"
   ]
  },
  {
   "cell_type": "markdown",
   "metadata": {},
   "source": [
    "### load data"
   ]
  },
  {
   "cell_type": "code",
   "execution_count": 2,
   "metadata": {},
   "outputs": [],
   "source": [
    "train_set = pd.read_pickle('assign_iid/train_set.pkl')"
   ]
  },
  {
   "cell_type": "code",
   "execution_count": 3,
   "metadata": {},
   "outputs": [],
   "source": [
    "worker_nb = 3\n",
    "worker_data = int(len(train_set)/worker_nb)"
   ]
  },
  {
   "cell_type": "code",
   "execution_count": 4,
   "metadata": {},
   "outputs": [],
   "source": [
    "worker1 = train_set[0:worker_data]\n",
    "worker2 = train_set[worker_data:worker_data*2]\n",
    "worker3 = train_set[worker_data*2:worker_data*3]"
   ]
  },
  {
   "cell_type": "code",
   "execution_count": null,
   "metadata": {},
   "outputs": [],
   "source": []
  },
  {
   "cell_type": "code",
   "execution_count": 5,
   "metadata": {},
   "outputs": [],
   "source": [
    "# worker1.to_pickle('assign_newiid/worker1.pkl')\n",
    "# worker2.to_pickle('assign_newiid/worker2.pkl')\n",
    "# worker3.to_pickle('assign_newiid/worker3.pkl')\n"
   ]
  },
  {
   "cell_type": "code",
   "execution_count": 6,
   "metadata": {},
   "outputs": [],
   "source": [
    "worker1 = pd.read_pickle('assign_newiid/worker1.pkl')\n",
    "worker2 = pd.read_pickle('assign_newiid/worker2.pkl')\n",
    "worker3 = pd.read_pickle('assign_newiid/worker3.pkl')"
   ]
  },
  {
   "cell_type": "code",
   "execution_count": 7,
   "metadata": {},
   "outputs": [
    {
     "data": {
      "text/plain": [
       "Text(0, 0.5, 'Sample counts')"
      ]
     },
     "execution_count": 7,
     "metadata": {},
     "output_type": "execute_result"
    },
    {
     "data": {
      "image/png": "[encoded data removed]",
      "text/plain": [
       "<Figure size 576x288 with 1 Axes>"
      ]
     },
     "metadata": {
      "needs_background": "light"
     },
     "output_type": "display_data"
    }
   ],
   "source": [
    "worker_counts = [worker1['label'].value_counts(), worker2['label'].value_counts(),worker3['label'].value_counts()]\n",
    "count_set = []\n",
    "for i in range(5):\n",
    "    workc = []\n",
    "    for j in worker_counts:\n",
    "        workc.append(j[i])\n",
    "    count_set.append(workc)\n",
    "\n",
    "\n",
    "labels = ['Worker1','Worker2','Worker3']\n",
    "mylabels = ['No DR','Mild','Moderate','Severe','Proliferative']\n",
    "    \n",
    "bottom_list = [0,0,0]\n",
    "for i in range(5):\n",
    "    plt.bar(labels,count_set[i],label=mylabels[i],bottom=bottom_list)\n",
    "    bottom_list[0] += count_set[i][0]\n",
    "    bottom_list[1] += count_set[i][1]\n",
    "    bottom_list[2] += count_set[i][2]\n",
    "\n",
    "plt.legend()\n",
    "plt.gcf().set_size_inches(8, 4)\n",
    "plt.title('Data in OIA-DDR', fontsize=16)\n",
    "plt.xticks(labels, labels, fontsize=12)\n",
    "plt.ylabel('Sample counts', fontsize=12)"
   ]
  },
  {
   "cell_type": "code",
   "execution_count": null,
   "metadata": {},
   "outputs": [],
   "source": []
  }
 ],
 "metadata": {
  "kernelspec": {
   "display_name": "Python 3",
   "language": "python",
   "name": "python3"
  },
  "language_info": {
   "codemirror_mode": {
    "name": "ipython",
    "version": 3
   },
   "file_extension": ".py",
   "mimetype": "text/x-python",
   "name": "python",
   "nbconvert_exporter": "python",
   "pygments_lexer": "ipython3",
   "version": "3.7.4"
  }
 },
 "nbformat": 4,
 "nbformat_minor": 2
}
