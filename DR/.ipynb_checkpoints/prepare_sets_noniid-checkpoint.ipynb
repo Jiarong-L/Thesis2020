{
 "cells": [
  {
   "cell_type": "code",
   "execution_count": 1,
   "metadata": {},
   "outputs": [],
   "source": [
    "import pandas as pd\n",
    "import numpy as np\n",
    "import os\n",
    "import matplotlib.pyplot as plt\n",
    "import glob\n",
    "import cv2\n",
    "%matplotlib inline"
   ]
  },
  {
   "cell_type": "code",
   "execution_count": null,
   "metadata": {},
   "outputs": [],
   "source": []
  },
  {
   "cell_type": "markdown",
   "metadata": {},
   "source": [
    "### load data"
   ]
  },
  {
   "cell_type": "code",
   "execution_count": 2,
   "metadata": {},
   "outputs": [],
   "source": [
    "train_set = pd.read_pickle('assign_iid/train_set.pkl')"
   ]
  },
  {
   "cell_type": "code",
   "execution_count": 3,
   "metadata": {},
   "outputs": [],
   "source": [
    "share_data = train_set[0:400] #share set provided by nodes\n",
    "new_trainset = train_set[400:]\n",
    "# worker\n",
    "worker1 = pd.concat([train_set[train_set['new_label']=='True'][:3000],train_set[train_set['new_label']=='False'][:500]]).reset_index(drop=True)\n",
    "worker2 = pd.concat([train_set[train_set['new_label']=='True'][3000:4000],train_set[train_set['new_label']=='False'][500:800]]).reset_index(drop=True)\n",
    "worker3 = pd.concat([train_set[train_set['new_label']=='True'][4000:],train_set[train_set['new_label']=='False'][800:]]).reset_index(drop=True)"
   ]
  },
  {
   "cell_type": "code",
   "execution_count": 4,
   "metadata": {},
   "outputs": [],
   "source": [
    "# worker1.to_pickle('assign_noniid/worker1.pkl')\n",
    "# worker2.to_pickle('assign_noniid/worker2.pkl')\n",
    "# worker3.to_pickle('assign_noniid/worker3.pkl')\n",
    "# share_data.to_pickle('assign_noniid/share_data.pkl')\n",
    "# new_trainset.to_pickle('assign_noniid/new_trainset.pkl')"
   ]
  },
  {
   "cell_type": "code",
   "execution_count": 5,
   "metadata": {},
   "outputs": [],
   "source": [
    "worker1 = pd.read_pickle('assign_noniid/worker1.pkl')\n",
    "worker2 = pd.read_pickle('assign_noniid/worker2.pkl')\n",
    "worker3 = pd.read_pickle('assign_noniid/worker3.pkl')"
   ]
  },
  {
   "cell_type": "code",
   "execution_count": 6,
   "metadata": {},
   "outputs": [
    {
     "data": {
      "text/plain": [
       "picture      10000\n",
       "label        10000\n",
       "dir          10000\n",
       "new_label    10000\n",
       "dtype: int64"
      ]
     },
     "execution_count": 6,
     "metadata": {},
     "output_type": "execute_result"
    }
   ],
   "source": [
    "train_set.count()"
   ]
  },
  {
   "cell_type": "code",
   "execution_count": 7,
   "metadata": {},
   "outputs": [
    {
     "data": {
      "text/plain": [
       "Text(0, 0.5, 'Sample counts')"
      ]
     },
     "execution_count": 7,
     "metadata": {},
     "output_type": "execute_result"
    },
    {
     "data": {
      "image/png": "[encoded data removed]",
      "text/plain": [
       "<Figure size 360x216 with 1 Axes>"
      ]
     },
     "metadata": {
      "needs_background": "light"
     },
     "output_type": "display_data"
    }
   ],
   "source": [
    "worker_counts = [worker1['label'].value_counts(), worker2['label'].value_counts(),worker3['label'].value_counts()]\n",
    "count_set = []\n",
    "for i in range(5):\n",
    "    workc = []\n",
    "    for j in worker_counts:\n",
    "        workc.append(j[i])\n",
    "    count_set.append(workc)\n",
    "\n",
    "\n",
    "labels = ['Worker1','Worker2','Worker3']\n",
    "mylabels = ['No DR','Mild','Moderate','Severe','Proliferative']\n",
    "    \n",
    "bottom_list = [0,0,0]\n",
    "for i in range(5):\n",
    "    plt.bar(labels,count_set[i],label=mylabels[i],bottom=bottom_list)\n",
    "    bottom_list[0] += count_set[i][0]\n",
    "    bottom_list[1] += count_set[i][1]\n",
    "    bottom_list[2] += count_set[i][2]\n",
    "\n",
    "plt.legend()\n",
    "plt.gcf().set_size_inches(5, 3)\n",
    "plt.title('non-IID Training Data', fontsize=16)\n",
    "plt.xticks(labels, labels, fontsize=14)\n",
    "plt.ylabel('Sample counts', fontsize=14)"
   ]
  },
  {
   "cell_type": "code",
   "execution_count": 12,
   "metadata": {},
   "outputs": [
    {
     "data": {
      "text/plain": [
       "10000"
      ]
     },
     "execution_count": 12,
     "metadata": {},
     "output_type": "execute_result"
    }
   ],
   "source": [
    "worker1.count()[0]+worker2.count()[0]+worker3.count()[0]"
   ]
  },
  {
   "cell_type": "code",
   "execution_count": null,
   "metadata": {},
   "outputs": [],
   "source": []
  },
  {
   "cell_type": "code",
   "execution_count": null,
   "metadata": {},
   "outputs": [],
   "source": []
  }
 ],
 "metadata": {
  "kernelspec": {
   "display_name": "Python 3",
   "language": "python",
   "name": "python3"
  },
  "language_info": {
   "codemirror_mode": {
    "name": "ipython",
    "version": 3
   },
   "file_extension": ".py",
   "mimetype": "text/x-python",
   "name": "python",
   "nbconvert_exporter": "python",
   "pygments_lexer": "ipython3",
   "version": "3.7.4"
  }
 },
 "nbformat": 4,
 "nbformat_minor": 2
}
