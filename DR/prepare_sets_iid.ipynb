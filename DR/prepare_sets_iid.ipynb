{
 "cells": [
  {
   "cell_type": "code",
   "execution_count": 1,
   "metadata": {},
   "outputs": [],
   "source": [
    "import pandas as pd\n",
    "import numpy as np\n",
    "import os\n",
    "import matplotlib.pyplot as plt\n",
    "import glob\n",
    "import cv2\n",
    "%matplotlib inline"
   ]
  },
  {
   "cell_type": "markdown",
   "metadata": {},
   "source": [
    "### load data"
   ]
  },
  {
   "cell_type": "code",
   "execution_count": 2,
   "metadata": {},
   "outputs": [],
   "source": [
    "test_data=pd.read_csv('test.txt',header=None,sep=' ',names=['picture','label'])\n",
    "train_data=pd.read_csv('train.txt',header=None,sep=' ',names=['picture','label'])\n",
    "valid_data=pd.read_csv('valid.txt',header=None,sep=' ',names=['picture','label'])\n",
    "\n",
    "test_data['dir']=['preprocessed/'+'test/'+pic for pic in test_data['picture']]\n",
    "train_data['dir']=['preprocessed/'+'train/'+pic for pic in train_data['picture']]\n",
    "valid_data['dir']=['preprocessed/'+'valid/'+pic for pic in valid_data['picture']]\n",
    "\n",
    "total_set = pd.concat([test_data,train_data,valid_data],ignore_index=True)\n",
    "iid_total_set = pd.concat([total_set[total_set['label']==i] for i in range(5)]).reset_index(drop=True)\n",
    "random_set = iid_total_set.reindex(np.random.permutation(iid_total_set.index))\n",
    "new_label = [str(i==0) for i in random_set['label'].values] #true means healthy\n",
    "random_set['new_label']=new_label\n",
    "## settings####################################################################################\n",
    "batch_SIZE=300\n",
    "img_SIZE = 224\n",
    "\n",
    "val_len = 2522\n",
    "val_set = random_set[:val_len]\n",
    "train_set = random_set[val_len:]"
   ]
  },
  {
   "cell_type": "code",
   "execution_count": 3,
   "metadata": {},
   "outputs": [
    {
     "data": {
      "text/plain": [
       "Text(0, 0.5, 'Sample counts')"
      ]
     },
     "execution_count": 3,
     "metadata": {},
     "output_type": "execute_result"
    },
    {
     "data": {
      "image/png": "[encoded data removed]",
      "text/plain": [
       "<Figure size 360x216 with 1 Axes>"
      ]
     },
     "metadata": {
      "needs_background": "light"
     },
     "output_type": "display_data"
    }
   ],
   "source": [
    "counts = iid_total_set['label'].value_counts()\n",
    "count_set = []\n",
    "for i in range(5):\n",
    "    if i==0:\n",
    "        a = [counts[i],0]\n",
    "    else:\n",
    "        a = [0,counts[i]]\n",
    "    count_set.append(a)\n",
    "labels = ['Healthy','DR']\n",
    "mylabels = ['No DR','Mild','Moderate','Severe','Proliferative']\n",
    "    \n",
    "bottom_list = [0,0]\n",
    "for i in range(5):\n",
    "    plt.bar(labels,count_set[i],width = 0.35,label=mylabels[i],bottom=bottom_list)\n",
    "    bottom_list[0] += count_set[i][0]\n",
    "    bottom_list[1] += count_set[i][1]\n",
    "\n",
    "plt.legend()\n",
    "plt.gcf().set_size_inches(5, 3)\n",
    "plt.title('Data in OIA-DDR', fontsize=16)\n",
    "plt.xticks(labels, labels, fontsize=14)\n",
    "plt.ylabel('Sample counts', fontsize=14)"
   ]
  },
  {
   "cell_type": "code",
   "execution_count": 4,
   "metadata": {},
   "outputs": [],
   "source": [
    "# worker_nb = 3\n",
    "# worker_data = int(len(train_set)/worker_nb)"
   ]
  },
  {
   "cell_type": "code",
   "execution_count": 5,
   "metadata": {},
   "outputs": [],
   "source": [
    "# worker1 = train_set[0:worker_data]\n",
    "# worker2 = train_set[worker_data:worker_data*2]\n",
    "# worker3 = train_set[worker_data*2:worker_data*3]"
   ]
  },
  {
   "cell_type": "code",
   "execution_count": null,
   "metadata": {},
   "outputs": [],
   "source": []
  },
  {
   "cell_type": "code",
   "execution_count": 6,
   "metadata": {},
   "outputs": [],
   "source": [
    "# worker1.to_pickle('assign_iid/worker1.pkl')\n",
    "# worker2.to_pickle('assign_iid/worker2.pkl')\n",
    "# worker3.to_pickle('assign_iid/worker3.pkl')\n",
    "# val_set.to_pickle('assign_iid/val_set.pkl')\n",
    "# train_set.to_pickle('assign_iid/train_set.pkl')"
   ]
  },
  {
   "cell_type": "code",
   "execution_count": 7,
   "metadata": {},
   "outputs": [],
   "source": [
    "# pd.read_pickle('assign_iid/worker3.pkl').hist()"
   ]
  },
  {
   "cell_type": "code",
   "execution_count": 8,
   "metadata": {},
   "outputs": [],
   "source": [
    "worker1 = pd.read_pickle('assign_iid/worker1.pkl')\n",
    "worker2 = pd.read_pickle('assign_iid/worker2.pkl')\n",
    "worker3 = pd.read_pickle('assign_iid/worker3.pkl')"
   ]
  },
  {
   "cell_type": "code",
   "execution_count": 9,
   "metadata": {},
   "outputs": [
    {
     "data": {
      "text/plain": [
       "Text(0, 0.5, 'Sample counts')"
      ]
     },
     "execution_count": 9,
     "metadata": {},
     "output_type": "execute_result"
    },
    {
     "data": {
      "image/png": "[encoded data removed]",
      "text/plain": [
       "<Figure size 576x288 with 1 Axes>"
      ]
     },
     "metadata": {
      "needs_background": "light"
     },
     "output_type": "display_data"
    }
   ],
   "source": [
    "worker_counts = [worker1['label'].value_counts(), worker2['label'].value_counts(),worker3['label'].value_counts()]\n",
    "count_set = []\n",
    "for i in range(5):\n",
    "    workc = []\n",
    "    for j in worker_counts:\n",
    "        workc.append(j[i])\n",
    "    count_set.append(workc)\n",
    "\n",
    "\n",
    "labels = ['Worker1','Worker2','Worker3']\n",
    "mylabels = ['No DR','Mild','Moderate','Severe','Proliferative']\n",
    "    \n",
    "bottom_list = [0,0,0]\n",
    "for i in range(5):\n",
    "    plt.bar(labels,count_set[i],label=mylabels[i],bottom=bottom_list)\n",
    "    bottom_list[0] += count_set[i][0]\n",
    "    bottom_list[1] += count_set[i][1]\n",
    "    bottom_list[2] += count_set[i][2]\n",
    "\n",
    "plt.legend()\n",
    "plt.gcf().set_size_inches(8, 4)\n",
    "plt.title('Data in OIA-DDR', fontsize=16)\n",
    "plt.xticks(labels, labels, fontsize=12)\n",
    "plt.ylabel('Sample counts', fontsize=12)"
   ]
  },
  {
   "cell_type": "code",
   "execution_count": null,
   "metadata": {},
   "outputs": [],
   "source": []
  }
 ],
 "metadata": {
  "kernelspec": {
   "display_name": "Python 3",
   "language": "python",
   "name": "python3"
  },
  "language_info": {
   "codemirror_mode": {
    "name": "ipython",
    "version": 3
   },
   "file_extension": ".py",
   "mimetype": "text/x-python",
   "name": "python",
   "nbconvert_exporter": "python",
   "pygments_lexer": "ipython3",
   "version": "3.7.4"
  }
 },
 "nbformat": 4,
 "nbformat_minor": 2
}
