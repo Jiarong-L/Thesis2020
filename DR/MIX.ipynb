{
 "cells": [
  {
   "cell_type": "code",
   "execution_count": 1,
   "metadata": {},
   "outputs": [],
   "source": [
    "import pandas as pd\n",
    "import tensorflow as tf\n",
    "import numpy as np\n",
    "import os\n",
    "import matplotlib.pyplot as plt\n",
    "import glob\n",
    "import cv2\n",
    "%matplotlib inline"
   ]
  },
  {
   "cell_type": "code",
   "execution_count": 2,
   "metadata": {},
   "outputs": [
    {
     "data": {
      "text/plain": [
       "'2.0.1'"
      ]
     },
     "execution_count": 2,
     "metadata": {},
     "output_type": "execute_result"
    }
   ],
   "source": [
    "tf.__version__"
   ]
  },
  {
   "cell_type": "code",
   "execution_count": 3,
   "metadata": {},
   "outputs": [
    {
     "data": {
      "text/plain": [
       "True"
      ]
     },
     "execution_count": 3,
     "metadata": {},
     "output_type": "execute_result"
    }
   ],
   "source": [
    "tf.test.is_gpu_available()"
   ]
  },
  {
   "cell_type": "code",
   "execution_count": 4,
   "metadata": {},
   "outputs": [],
   "source": [
    "gpus = tf.config.experimental.list_physical_devices(device_type='GPU')\n",
    "tf.config.experimental.set_virtual_device_configuration( gpus[0], [tf.config.experimental.VirtualDeviceConfiguration(memory_limit=3700)])"
   ]
  },
  {
   "cell_type": "markdown",
   "metadata": {},
   "source": [
    "### load data"
   ]
  },
  {
   "cell_type": "code",
   "execution_count": 5,
   "metadata": {},
   "outputs": [],
   "source": [
    "def load_img(img,lab):\n",
    "    img=tf.io.read_file(img)\n",
    "    img=tf.image.decode_jpeg(img, channels=1)\n",
    "    img = tf.cast(img,tf.float32) ##???\n",
    "    lab = tf.cast(lab,tf.float32)/2 #####???    turn 0,2,4 to 0,1,2 otherwise loss=NaN\n",
    "    return img,lab"
   ]
  },
  {
   "cell_type": "code",
   "execution_count": 6,
   "metadata": {},
   "outputs": [],
   "source": [
    "test_data=pd.read_csv('test.txt',header=None,sep=' ',names=['picture','label'])\n",
    "train_data=pd.read_csv('train.txt',header=None,sep=' ',names=['picture','label'])\n",
    "valid_data=pd.read_csv('valid.txt',header=None,sep=' ',names=['picture','label'])\n",
    "# test_data.head()"
   ]
  },
  {
   "cell_type": "code",
   "execution_count": 7,
   "metadata": {},
   "outputs": [],
   "source": [
    "test_data['dir']=[os.path.join('preprocessed','test',pic) for pic in test_data['picture']]\n",
    "train_data['dir']=[os.path.join('preprocessed','train',pic) for pic in train_data['picture']]\n",
    "valid_data['dir']=[os.path.join('preprocessed','valid',pic) for pic in valid_data['picture']]\n",
    "# test_data.head()"
   ]
  },
  {
   "cell_type": "code",
   "execution_count": 8,
   "metadata": {},
   "outputs": [
    {
     "data": {
      "text/plain": [
       "array([[<matplotlib.axes._subplots.AxesSubplot object at 0x0000018CDE81AC48>]],\n",
       "      dtype=object)"
      ]
     },
     "execution_count": 8,
     "metadata": {},
     "output_type": "execute_result"
    },
    {
     "data": {
      "image/png": "[encoded data removed]",
      "text/plain": [
       "<Figure size 432x288 with 1 Axes>"
      ]
     },
     "metadata": {
      "needs_background": "light"
     },
     "output_type": "display_data"
    }
   ],
   "source": [
    "total_set = pd.concat([test_data,train_data,valid_data],ignore_index=True)\n",
    "iid_total_set = pd.concat([total_set[total_set['label']==i*2][:1000] for i in range(3)])\n",
    "iid_total_set.hist()"
   ]
  },
  {
   "cell_type": "code",
   "execution_count": 9,
   "metadata": {},
   "outputs": [],
   "source": [
    "random_set = iid_total_set.sample(frac=1).reset_index(drop=True)"
   ]
  },
  {
   "cell_type": "code",
   "execution_count": 10,
   "metadata": {},
   "outputs": [],
   "source": [
    "## settings\n",
    "fraction_val = 0.1\n",
    "\n",
    "valid_LEN=int(len(random_set)*fraction_val)\n",
    "train_LEN=int(len(random_set)-valid_LEN)\n",
    "\n",
    "batch_SIZE=3 ### should't be that small but my laptop....\n",
    "train_EPO=int(train_LEN // batch_SIZE)\n",
    "valid_EPO=int(valid_LEN // batch_SIZE)"
   ]
  },
  {
   "cell_type": "code",
   "execution_count": 11,
   "metadata": {},
   "outputs": [
    {
     "data": {
      "text/plain": [
       "array([[<matplotlib.axes._subplots.AxesSubplot object at 0x0000018CAA72B948>]],\n",
       "      dtype=object)"
      ]
     },
     "execution_count": 11,
     "metadata": {},
     "output_type": "execute_result"
    },
    {
     "data": {
      "image/png": "[encoded data removed]",
      "text/plain": [
       "<Figure size 432x288 with 1 Axes>"
      ]
     },
     "metadata": {
      "needs_background": "light"
     },
     "output_type": "display_data"
    }
   ],
   "source": [
    "iid_valid = random_set[:valid_LEN]\n",
    "iid_valid.hist()"
   ]
  },
  {
   "cell_type": "code",
   "execution_count": 12,
   "metadata": {},
   "outputs": [
    {
     "data": {
      "text/plain": [
       "array([[<matplotlib.axes._subplots.AxesSubplot object at 0x0000018CFFF24B88>]],\n",
       "      dtype=object)"
      ]
     },
     "execution_count": 12,
     "metadata": {},
     "output_type": "execute_result"
    },
    {
     "data": {
      "image/png": "[encoded data removed]",
      "text/plain": [
       "<Figure size 432x288 with 1 Axes>"
      ]
     },
     "metadata": {
      "needs_background": "light"
     },
     "output_type": "display_data"
    }
   ],
   "source": [
    "iid_train = random_set[valid_LEN:]\n",
    "iid_train.hist()"
   ]
  },
  {
   "cell_type": "code",
   "execution_count": null,
   "metadata": {},
   "outputs": [],
   "source": []
  },
  {
   "cell_type": "code",
   "execution_count": 13,
   "metadata": {},
   "outputs": [],
   "source": [
    "train_SET = tf.data.Dataset.from_tensor_slices((iid_train['dir'],iid_train['label'])).\\\n",
    "                            shuffle(train_LEN).\\\n",
    "                            map(load_img).\\\n",
    "                            batch(batch_SIZE).\\\n",
    "                            repeat().\\\n",
    "                            prefetch(buffer_size=tf.data.experimental.AUTOTUNE)\n",
    "valid_SET = tf.data.Dataset.from_tensor_slices((iid_valid['dir'],iid_valid['label'])).\\\n",
    "                            shuffle(valid_LEN).\\\n",
    "                            map(load_img).\\\n",
    "                            batch(batch_SIZE).\\\n",
    "                            repeat().\\\n",
    "                            prefetch(buffer_size=tf.data.experimental.AUTOTUNE)"
   ]
  },
  {
   "cell_type": "code",
   "execution_count": 14,
   "metadata": {},
   "outputs": [],
   "source": [
    "myshape = (512,512,1)\n",
    "model = tf.keras.applications.xception.Xception(include_top=True, weights=None, input_shape=myshape, classes=6)\n",
    "# it said include_top should be false if input_shape is not (229,229,3), but the only difference is to add avg_pooling and prediction\n",
    "\n",
    "model.compile(optimizer='adam',\n",
    "                  loss='sparse_categorical_crossentropy',\n",
    "                  metrics=['acc'])\n",
    "# model.summary()"
   ]
  },
  {
   "cell_type": "code",
   "execution_count": null,
   "metadata": {},
   "outputs": [],
   "source": []
  },
  {
   "cell_type": "code",
   "execution_count": null,
   "metadata": {},
   "outputs": [],
   "source": []
  },
  {
   "cell_type": "code",
   "execution_count": null,
   "metadata": {},
   "outputs": [],
   "source": []
  },
  {
   "cell_type": "code",
   "execution_count": null,
   "metadata": {},
   "outputs": [
    {
     "name": "stdout",
     "output_type": "stream",
     "text": [
      "Train for 874 steps, validate for 97 steps\n",
      "Epoch 1/100\n",
      "874/874 [==============================] - 450s 515ms/step - loss: 1.0723 - acc: 0.4535 - val_loss: 0.8424 - val_acc: 0.5498\n",
      "Epoch 2/100\n",
      "874/874 [==============================] - 443s 506ms/step - loss: 0.9428 - acc: 0.5137 - val_loss: 1.2212 - val_acc: 0.5808\n",
      "Epoch 3/100\n",
      "874/874 [==============================] - 443s 507ms/step - loss: 0.8880 - acc: 0.5538 - val_loss: 1.0910 - val_acc: 0.5945\n",
      "Epoch 4/100\n",
      "874/874 [==============================] - 442s 506ms/step - loss: 0.8338 - acc: 0.5934 - val_loss: 0.8436 - val_acc: 0.6117\n",
      "Epoch 5/100\n",
      "874/874 [==============================] - 442s 506ms/step - loss: 0.8206 - acc: 0.6087 - val_loss: 0.8362 - val_acc: 0.5876\n",
      "Epoch 6/100\n",
      "874/874 [==============================] - 442s 506ms/step - loss: 0.7865 - acc: 0.6526 - val_loss: 1.6765 - val_acc: 0.5636\n",
      "Epoch 7/100\n",
      "874/874 [==============================] - 441s 505ms/step - loss: 0.7609 - acc: 0.6514 - val_loss: 0.7018 - val_acc: 0.6770\n",
      "Epoch 8/100\n",
      "874/874 [==============================] - 442s 506ms/step - loss: 0.7409 - acc: 0.6590 - val_loss: 0.8092 - val_acc: 0.5808\n",
      "Epoch 9/100\n",
      "874/874 [==============================] - 442s 505ms/step - loss: 0.7210 - acc: 0.6732 - val_loss: 1.3762 - val_acc: 0.6014\n",
      "Epoch 10/100\n",
      "874/874 [==============================] - 442s 506ms/step - loss: 0.6809 - acc: 0.6979 - val_loss: 1.0069 - val_acc: 0.5911\n",
      "Epoch 11/100\n",
      "874/874 [==============================] - 441s 505ms/step - loss: 0.6418 - acc: 0.7136 - val_loss: 1.2204 - val_acc: 0.5945\n",
      "Epoch 12/100\n",
      "874/874 [==============================] - 442s 506ms/step - loss: 0.5971 - acc: 0.7365 - val_loss: 0.9112 - val_acc: 0.6392\n",
      "Epoch 13/100\n",
      "874/874 [==============================] - 441s 505ms/step - loss: 0.5347 - acc: 0.7574 - val_loss: 0.6904 - val_acc: 0.7182\n",
      "Epoch 14/100\n",
      "874/874 [==============================] - 441s 505ms/step - loss: 0.5021 - acc: 0.7811 - val_loss: 0.8043 - val_acc: 0.6976\n",
      "Epoch 15/100\n",
      "874/874 [==============================] - 442s 506ms/step - loss: 0.4452 - acc: 0.8188 - val_loss: 0.9053 - val_acc: 0.6186\n",
      "Epoch 16/100\n",
      "874/874 [==============================] - 442s 506ms/step - loss: 0.3667 - acc: 0.8520 - val_loss: 1.3199 - val_acc: 0.6323\n",
      "Epoch 17/100\n",
      "874/874 [==============================] - 441s 505ms/step - loss: 0.3566 - acc: 0.8558 - val_loss: 0.7688 - val_acc: 0.6873\n",
      "Epoch 18/100\n",
      "874/874 [==============================] - 442s 506ms/step - loss: 0.2951 - acc: 0.8890 - val_loss: 1.3100 - val_acc: 0.6460\n",
      "Epoch 19/100\n",
      "874/874 [==============================] - 442s 506ms/step - loss: 0.2647 - acc: 0.8917 - val_loss: 1.1851 - val_acc: 0.6838\n",
      "Epoch 20/100\n",
      "874/874 [==============================] - 441s 505ms/step - loss: 0.2263 - acc: 0.9081 - val_loss: 1.3160 - val_acc: 0.5808\n",
      "Epoch 21/100\n",
      "874/874 [==============================] - 441s 504ms/step - loss: 0.2015 - acc: 0.9249 - val_loss: 1.8059 - val_acc: 0.6186\n",
      "Epoch 22/100\n",
      "874/874 [==============================] - 441s 504ms/step - loss: 0.2087 - acc: 0.9191 - val_loss: 1.5032 - val_acc: 0.6529\n",
      "Epoch 23/100\n",
      "874/874 [==============================] - 441s 505ms/step - loss: 0.1863 - acc: 0.9306 - val_loss: 0.9371 - val_acc: 0.7320\n",
      "Epoch 24/100\n",
      "874/874 [==============================] - 440s 503ms/step - loss: 0.1388 - acc: 0.9439 - val_loss: 2.0910 - val_acc: 0.5601\n",
      "Epoch 25/100\n",
      "874/874 [==============================] - 440s 503ms/step - loss: 0.1604 - acc: 0.9394 - val_loss: 1.6072 - val_acc: 0.6117\n",
      "Epoch 26/100\n",
      "874/874 [==============================] - 441s 504ms/step - loss: 0.1527 - acc: 0.9436 - val_loss: 1.0656 - val_acc: 0.7010\n",
      "Epoch 27/100\n",
      "874/874 [==============================] - 441s 504ms/step - loss: 0.1282 - acc: 0.9607 - val_loss: 1.1023 - val_acc: 0.6770\n",
      "Epoch 28/100\n",
      "874/874 [==============================] - 441s 504ms/step - loss: 0.1094 - acc: 0.9592 - val_loss: 1.8101 - val_acc: 0.5979\n",
      "Epoch 29/100\n",
      "874/874 [==============================] - 440s 504ms/step - loss: 0.1096 - acc: 0.9607 - val_loss: 2.0690 - val_acc: 0.6254\n",
      "Epoch 30/100\n",
      "874/874 [==============================] - 440s 504ms/step - loss: 0.1265 - acc: 0.9497 - val_loss: 3.4107 - val_acc: 0.5979\n",
      "Epoch 31/100\n",
      "874/874 [==============================] - 441s 504ms/step - loss: 0.1036 - acc: 0.9569 - val_loss: 1.4926 - val_acc: 0.6495\n",
      "Epoch 32/100\n",
      "874/874 [==============================] - 440s 504ms/step - loss: 0.1096 - acc: 0.9584 - val_loss: 1.2240 - val_acc: 0.6804\n",
      "Epoch 33/100\n",
      "874/874 [==============================] - 441s 505ms/step - loss: 0.1141 - acc: 0.9600 - val_loss: 1.2250 - val_acc: 0.6701\n",
      "Epoch 34/100\n",
      "874/874 [==============================] - 440s 504ms/step - loss: 0.0777 - acc: 0.9672 - val_loss: 1.4661 - val_acc: 0.6804\n",
      "Epoch 35/100\n",
      "874/874 [==============================] - 440s 503ms/step - loss: 0.1073 - acc: 0.9653 - val_loss: 3.0643 - val_acc: 0.5326\n",
      "Epoch 36/100\n",
      "874/874 [==============================] - 440s 503ms/step - loss: 0.0678 - acc: 0.9775 - val_loss: 1.9470 - val_acc: 0.5945\n",
      "Epoch 37/100\n",
      "874/874 [==============================] - 440s 503ms/step - loss: 0.1002 - acc: 0.9611 - val_loss: 1.8229 - val_acc: 0.6529\n",
      "Epoch 38/100\n",
      "874/874 [==============================] - 439s 503ms/step - loss: 0.0906 - acc: 0.9653 - val_loss: 1.7308 - val_acc: 0.6564\n",
      "Epoch 39/100\n",
      "874/874 [==============================] - 439s 503ms/step - loss: 0.0686 - acc: 0.9756 - val_loss: 1.9845 - val_acc: 0.5911\n",
      "Epoch 40/100\n",
      "874/874 [==============================] - 440s 503ms/step - loss: 0.0678 - acc: 0.9764 - val_loss: 1.4422 - val_acc: 0.6770\n",
      "Epoch 41/100\n",
      "874/874 [==============================] - 440s 504ms/step - loss: 0.0758 - acc: 0.9722 - val_loss: 1.2670 - val_acc: 0.6873\n",
      "Epoch 42/100\n",
      "874/874 [==============================] - 440s 504ms/step - loss: 0.0605 - acc: 0.9790 - val_loss: 1.4221 - val_acc: 0.6667\n",
      "Epoch 43/100\n",
      "874/874 [==============================] - 440s 503ms/step - loss: 0.0948 - acc: 0.9615 - val_loss: 1.3637 - val_acc: 0.7079\n",
      "Epoch 44/100\n",
      "874/874 [==============================] - 440s 503ms/step - loss: 0.0438 - acc: 0.9847 - val_loss: 2.1859 - val_acc: 0.6460\n",
      "Epoch 45/100\n",
      "874/874 [==============================] - 440s 504ms/step - loss: 0.0628 - acc: 0.9764 - val_loss: 1.3147 - val_acc: 0.7010\n",
      "Epoch 46/100\n",
      "874/874 [==============================] - 440s 503ms/step - loss: 0.0546 - acc: 0.9809 - val_loss: 1.5466 - val_acc: 0.6907\n",
      "Epoch 47/100\n",
      "874/874 [==============================] - 440s 503ms/step - loss: 0.0493 - acc: 0.9828 - val_loss: 1.6036 - val_acc: 0.6667\n",
      "Epoch 48/100\n",
      "874/874 [==============================] - 440s 504ms/step - loss: 0.0687 - acc: 0.9760 - val_loss: 2.2284 - val_acc: 0.6357\n",
      "Epoch 49/100\n",
      "501/874 [================>.............] - ETA: 3:03 - loss: 0.0380 - acc: 0.9900"
     ]
    }
   ],
   "source": [
    "epo=100\n",
    "history= model.fit(train_SET,\n",
    "                  epochs=epo,\n",
    "                  steps_per_epoch=train_EPO,\n",
    "                  validation_data=valid_SET,\n",
    "                  validation_steps=valid_EPO\n",
    "                  )"
   ]
  },
  {
   "cell_type": "code",
   "execution_count": null,
   "metadata": {},
   "outputs": [],
   "source": []
  },
  {
   "cell_type": "code",
   "execution_count": null,
   "metadata": {},
   "outputs": [],
   "source": []
  },
  {
   "cell_type": "code",
   "execution_count": null,
   "metadata": {},
   "outputs": [],
   "source": [
    "plt.plot(history.epoch, history.history.get('acc'), label='acc')\n",
    "plt.plot(history.epoch, history.history.get('val_acc'), label='val_acc')\n",
    "plt.legend()"
   ]
  },
  {
   "cell_type": "code",
   "execution_count": null,
   "metadata": {},
   "outputs": [],
   "source": [
    "plt.plot(history.epoch, history.history.get('loss'), label='loss')\n",
    "plt.plot(history.epoch, history.history.get('val_loss'), label='val_loss')\n",
    "plt.legend()"
   ]
  },
  {
   "cell_type": "code",
   "execution_count": null,
   "metadata": {},
   "outputs": [],
   "source": []
  },
  {
   "cell_type": "code",
   "execution_count": null,
   "metadata": {},
   "outputs": [],
   "source": []
  },
  {
   "cell_type": "code",
   "execution_count": null,
   "metadata": {},
   "outputs": [],
   "source": [
    "model.save_weights('myXception.h5')\n",
    "\n",
    "acc = history.history.get('acc')\n",
    "val_acc = history.history.get('val_acc')\n",
    "loss = history.history.get('loss')\n",
    "val_loss = history.history.get('val_loss')\n",
    "\n",
    "\n",
    "np.save(\"acc.npy\", acc)\n",
    "np.save(\"val_acc.npy\", val_acc)\n",
    "np.save(\"loss.npy\", loss)\n",
    "np.save(\"val_loss.npy\", val_loss)"
   ]
  },
  {
   "cell_type": "code",
   "execution_count": null,
   "metadata": {},
   "outputs": [],
   "source": []
  },
  {
   "cell_type": "code",
   "execution_count": null,
   "metadata": {},
   "outputs": [],
   "source": []
  }
 ],
 "metadata": {
  "kernelspec": {
   "display_name": "Python 3",
   "language": "python",
   "name": "python3"
  },
  "language_info": {
   "codemirror_mode": {
    "name": "ipython",
    "version": 3
   },
   "file_extension": ".py",
   "mimetype": "text/x-python",
   "name": "python",
   "nbconvert_exporter": "python",
   "pygments_lexer": "ipython3",
   "version": "3.7.4"
  }
 },
 "nbformat": 4,
 "nbformat_minor": 2
}
