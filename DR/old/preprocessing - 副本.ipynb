{
 "cells": [
  {
   "cell_type": "markdown",
   "metadata": {},
   "source": [
    "### These pre-processing codes are from:\n",
    "    https://www.kaggle.com/ratthachat/aptos-eye-preprocessing-in-diabetic-retinopathy"
   ]
  },
  {
   "cell_type": "code",
   "execution_count": 13,
   "metadata": {},
   "outputs": [],
   "source": [
    "import pandas as pd\n",
    "import numpy as np\n",
    "import os\n",
    "import matplotlib.pyplot as plt\n",
    "import glob\n",
    "import cv2\n",
    "%matplotlib inline"
   ]
  },
  {
   "cell_type": "code",
   "execution_count": 14,
   "metadata": {},
   "outputs": [],
   "source": [
    "IMG_SIZE = 456"
   ]
  },
  {
   "cell_type": "code",
   "execution_count": 15,
   "metadata": {},
   "outputs": [],
   "source": [
    "test_set=glob.glob(\"test/*\")\n",
    "train_set=glob.glob(\"train/*\")\n",
    "valid_set=glob.glob(\"valid/*\")"
   ]
  },
  {
   "cell_type": "code",
   "execution_count": 16,
   "metadata": {},
   "outputs": [],
   "source": [
    "def crop_image_from_gray(img,tol=7):\n",
    "    if img.ndim ==2:\n",
    "        mask = img>tol\n",
    "        return img[np.ix_(mask.any(1),mask.any(0))]\n",
    "    elif img.ndim==3:\n",
    "        gray_img = cv2.cvtColor(img, cv2.COLOR_RGB2GRAY)\n",
    "        mask = gray_img>tol\n",
    "        \n",
    "        check_shape = img[:,:,0][np.ix_(mask.any(1),mask.any(0))].shape[0]\n",
    "        if (check_shape == 0): # image is too dark so that we crop out everything,\n",
    "            return img # return original image\n",
    "        else:\n",
    "            img1=img[:,:,0][np.ix_(mask.any(1),mask.any(0))]\n",
    "            img2=img[:,:,1][np.ix_(mask.any(1),mask.any(0))]\n",
    "            img3=img[:,:,2][np.ix_(mask.any(1),mask.any(0))]\n",
    "    #         print(img1.shape,img2.shape,img3.shape)\n",
    "            img = np.stack([img1,img2,img3],axis=-1)\n",
    "    #         print(img.shape)\n",
    "        return img"
   ]
  },
  {
   "cell_type": "code",
   "execution_count": 17,
   "metadata": {},
   "outputs": [],
   "source": [
    "# def circle_crop(img, sigmaX=10):   \n",
    "#     \"\"\"\n",
    "#     Create circular crop around image centre    \n",
    "#     \"\"\"    \n",
    "    \n",
    "#     img = cv2.imread(img)\n",
    "#     img = crop_image_from_gray(img)    \n",
    "#     img = cv2.cvtColor(img, cv2.COLOR_BGR2RGB)\n",
    "    \n",
    "#     height, width, depth = img.shape    \n",
    "    \n",
    "#     x = int(width/2)\n",
    "#     y = int(height/2)\n",
    "#     r = np.amin((x,y))\n",
    "    \n",
    "#     circle_img = np.zeros((height, width), np.uint8)\n",
    "#     cv2.circle(circle_img, (x,y), int(r), 1, thickness=-1)\n",
    "#     img = cv2.bitwise_and(img, img, mask=circle_img)\n",
    "#     img = crop_image_from_gray(img)\n",
    "#     img=cv2.addWeighted ( img,4, cv2.GaussianBlur( img , (0,0) , sigmaX) ,-4 ,128)\n",
    "#     return img \n",
    "\n",
    "# def img_processing(path):\n",
    "#     img = circle_crop(path, sigmaX=10)\n",
    "#     img = cv2.resize(img, (IMG_SIZE, IMG_SIZE)) # \n",
    "# #     img = cv2.addWeighted ( img,4, cv2.GaussianBlur( img , (0,0) , IMG_SIZE/10) ,-4 ,128)# Ben Graham's \n",
    "    \n",
    "#     return img\n"
   ]
  },
  {
   "cell_type": "code",
   "execution_count": 18,
   "metadata": {},
   "outputs": [],
   "source": [
    "# New one!!!\n",
    "def img_processing(path, sigmaX=10):\n",
    "\n",
    "    image = cv2.imread(path)\n",
    "    image = cv2.cvtColor(image, cv2.COLOR_BGR2RGB)\n",
    "    image = crop_image_from_gray(image)\n",
    "    image = cv2.resize(image, (IMG_SIZE, IMG_SIZE))\n",
    "    image = cv2.addWeighted (image,4, cv2.GaussianBlur(image, (0,0) ,sigmaX), -4, 128)\n",
    "    return image"
   ]
  },
  {
   "cell_type": "code",
   "execution_count": 19,
   "metadata": {},
   "outputs": [],
   "source": [
    "# i=8\n",
    "# path=train_set[i]\n",
    "# img = img_processing(path)\n",
    "# plt.imshow(img)"
   ]
  },
  {
   "cell_type": "code",
   "execution_count": 26,
   "metadata": {},
   "outputs": [],
   "source": [
    "i=777\n",
    "path=train_set[i]\n",
    "img=cv2.imread(path)"
   ]
  },
  {
   "cell_type": "code",
   "execution_count": 27,
   "metadata": {},
   "outputs": [
    {
     "data": {
      "text/plain": [
       "255"
      ]
     },
     "execution_count": 27,
     "metadata": {},
     "output_type": "execute_result"
    }
   ],
   "source": [
    "img.max()"
   ]
  },
  {
   "cell_type": "code",
   "execution_count": null,
   "metadata": {},
   "outputs": [],
   "source": [
    "img.shape"
   ]
  },
  {
   "cell_type": "code",
   "execution_count": 11,
   "metadata": {},
   "outputs": [],
   "source": [
    "# for path in test_set:\n",
    "#     img = img_processing(path)\n",
    "#     path = os.path.join('preprocessed',path)\n",
    "#     cv2.imwrite(path, img)"
   ]
  },
  {
   "cell_type": "code",
   "execution_count": 12,
   "metadata": {},
   "outputs": [],
   "source": [
    "# for path in train_set:\n",
    "#     img = img_processing(path)\n",
    "#     path = os.path.join('preprocessed',path)\n",
    "#     cv2.imwrite(path, img)"
   ]
  },
  {
   "cell_type": "code",
   "execution_count": 13,
   "metadata": {},
   "outputs": [],
   "source": [
    "# for path in valid_set:\n",
    "#     img = img_processing(path)\n",
    "#     path = os.path.join('preprocessed',path)\n",
    "#     cv2.imwrite(path, img)"
   ]
  },
  {
   "cell_type": "code",
   "execution_count": null,
   "metadata": {},
   "outputs": [],
   "source": []
  }
 ],
 "metadata": {
  "kernelspec": {
   "display_name": "Python 3",
   "language": "python",
   "name": "python3"
  },
  "language_info": {
   "codemirror_mode": {
    "name": "ipython",
    "version": 3
   },
   "file_extension": ".py",
   "mimetype": "text/x-python",
   "name": "python",
   "nbconvert_exporter": "python",
   "pygments_lexer": "ipython3",
   "version": "3.7.4"
  }
 },
 "nbformat": 4,
 "nbformat_minor": 2
}
