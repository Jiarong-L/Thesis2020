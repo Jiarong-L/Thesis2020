{
 "cells": [
  {
   "cell_type": "code",
   "execution_count": null,
   "metadata": {},
   "outputs": [],
   "source": [
    "import pandas as pd\n",
    "import numpy as np\n",
    "import os\n",
    "import matplotlib.pyplot as plt\n",
    "import glob\n",
    "import cv2\n",
    "%matplotlib inline"
   ]
  },
  {
   "cell_type": "markdown",
   "metadata": {},
   "source": [
    "### load data"
   ]
  },
  {
   "cell_type": "code",
   "execution_count": null,
   "metadata": {},
   "outputs": [],
   "source": [
    "test_data=pd.read_csv('test.txt',header=None,sep=' ',names=['picture','label'])\n",
    "train_data=pd.read_csv('train.txt',header=None,sep=' ',names=['picture','label'])\n",
    "valid_data=pd.read_csv('valid.txt',header=None,sep=' ',names=['picture','label'])\n",
    "# test_data.head()"
   ]
  },
  {
   "cell_type": "code",
   "execution_count": null,
   "metadata": {},
   "outputs": [],
   "source": [
    "test_data['dir']=['preprocessed/'+'test/'+pic for pic in test_data['picture']]\n",
    "train_data['dir']=['preprocessed/'+'train/'+pic for pic in train_data['picture']]\n",
    "valid_data['dir']=['preprocessed/'+'valid/'+pic for pic in valid_data['picture']]\n",
    "\n",
    "\n",
    "# test_data['dir']=['test/'+pic for pic in test_data['picture']]\n",
    "# train_data['dir']=['train/'+pic for pic in train_data['picture']]\n",
    "# valid_data['dir']=['valid/'+pic for pic in valid_data['picture']]\n",
    "\n",
    "\n",
    "# test_data.head()"
   ]
  },
  {
   "cell_type": "code",
   "execution_count": null,
   "metadata": {},
   "outputs": [],
   "source": [
    "total_set = pd.concat([test_data,train_data,valid_data],ignore_index=True)\n",
    "iid_total_set = pd.concat([total_set[total_set['label']==i][:] for i in range(5)]).reset_index(drop=True)\n",
    "# iid_total_set.hist()"
   ]
  },
  {
   "cell_type": "code",
   "execution_count": null,
   "metadata": {},
   "outputs": [],
   "source": [
    "for i in range(6):\n",
    "    print(len(iid_total_set[iid_total_set['label']==i]))"
   ]
  },
  {
   "cell_type": "code",
   "execution_count": null,
   "metadata": {},
   "outputs": [],
   "source": [
    "random_set = iid_total_set.reindex(np.random.permutation(iid_total_set.index))\n",
    "new_label = [str(i==0) for i in random_set['label'].values] #False means healthy\n",
    "int_new_label = [int(i==0) for i in random_set['label'].values] #1 means healthy\n",
    "random_set['new_label']=new_label\n",
    "random_set['int_new_label']=int_new_label\n",
    "# random_set = random_set.drop(columns=['label'])"
   ]
  },
  {
   "cell_type": "code",
   "execution_count": null,
   "metadata": {},
   "outputs": [],
   "source": [
    "len(random_set[random_set['int_new_label']==1])"
   ]
  },
  {
   "cell_type": "code",
   "execution_count": null,
   "metadata": {},
   "outputs": [],
   "source": [
    "len(random_set[random_set['int_new_label']==0])"
   ]
  },
  {
   "cell_type": "code",
   "execution_count": null,
   "metadata": {},
   "outputs": [],
   "source": [
    "# for pic in iid_total_set['picture'].values:\n",
    "#     r=random_set[random_set['picture']==pic]['label'].values[0]\n",
    "#     iid=iid_total_set[iid_total_set['picture']==pic]['label'].values[0]\n",
    "#     print(r==iid)"
   ]
  },
  {
   "cell_type": "code",
   "execution_count": null,
   "metadata": {
    "scrolled": true
   },
   "outputs": [],
   "source": [
    "myrow = 10\n",
    "fig, ax = plt.subplots(myrow, ncols=6,figsize=(30, 70))\n",
    "for j in range(myrow):\n",
    "    for i in range(6):\n",
    "        path=iid_total_set[iid_total_set['label']==i].iloc[j].values[-1]\n",
    "        img=cv2.imread(path)\n",
    "        img = img[:, :, [2,1,0]]\n",
    "        ax[j][i].imshow(img,cmap='rainbow')"
   ]
  },
  {
   "cell_type": "code",
   "execution_count": null,
   "metadata": {},
   "outputs": [],
   "source": [
    "## settings\n",
    "fraction_val = 0.2\n",
    "\n",
    "valid_LEN = 2522\n",
    "train_LEN=int(len(random_set)-valid_LEN)"
   ]
  },
  {
   "cell_type": "code",
   "execution_count": null,
   "metadata": {},
   "outputs": [],
   "source": [
    "iid_valid = random_set[:valid_LEN]\n",
    "# iid_valid.hist()"
   ]
  },
  {
   "cell_type": "code",
   "execution_count": null,
   "metadata": {},
   "outputs": [],
   "source": [
    "iid_train = random_set[valid_LEN:valid_LEN+train_LEN]\n",
    "# iid_train.hist()"
   ]
  },
  {
   "cell_type": "code",
   "execution_count": null,
   "metadata": {},
   "outputs": [],
   "source": []
  },
  {
   "cell_type": "code",
   "execution_count": null,
   "metadata": {},
   "outputs": [],
   "source": [
    "worker_nb = 3\n",
    "train_worker = int(train_LEN/worker_nb)"
   ]
  },
  {
   "cell_type": "code",
   "execution_count": null,
   "metadata": {},
   "outputs": [],
   "source": [
    "worker1 = iid_train[0:train_worker]\n",
    "worker2 = iid_train[train_worker:train_worker*2]\n",
    "worker3 = iid_train[train_worker*2:train_worker*3]"
   ]
  },
  {
   "cell_type": "code",
   "execution_count": null,
   "metadata": {},
   "outputs": [],
   "source": [
    "# worker1.hist()"
   ]
  },
  {
   "cell_type": "code",
   "execution_count": null,
   "metadata": {},
   "outputs": [],
   "source": [
    "# worker2.hist()"
   ]
  },
  {
   "cell_type": "code",
   "execution_count": null,
   "metadata": {},
   "outputs": [],
   "source": [
    "# worker3.hist()"
   ]
  },
  {
   "cell_type": "code",
   "execution_count": null,
   "metadata": {},
   "outputs": [],
   "source": []
  },
  {
   "cell_type": "code",
   "execution_count": null,
   "metadata": {},
   "outputs": [],
   "source": [
    "# worker1.to_pickle('worker1.pkl')\n",
    "# worker2.to_pickle('worker2.pkl')\n",
    "# worker3.to_pickle('worker3.pkl')\n",
    "# iid_valid.to_pickle('iid_valid.pkl')"
   ]
  },
  {
   "cell_type": "code",
   "execution_count": null,
   "metadata": {},
   "outputs": [],
   "source": [
    "# pd.read_pickle('iid_valid.pkl')"
   ]
  },
  {
   "cell_type": "code",
   "execution_count": null,
   "metadata": {},
   "outputs": [],
   "source": []
  }
 ],
 "metadata": {
  "kernelspec": {
   "display_name": "Python 3",
   "language": "python",
   "name": "python3"
  },
  "language_info": {
   "codemirror_mode": {
    "name": "ipython",
    "version": 3
   },
   "file_extension": ".py",
   "mimetype": "text/x-python",
   "name": "python",
   "nbconvert_exporter": "python",
   "pygments_lexer": "ipython3",
   "version": "3.7.4"
  }
 },
 "nbformat": 4,
 "nbformat_minor": 2
}
