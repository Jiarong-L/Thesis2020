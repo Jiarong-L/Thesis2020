{
 "cells": [
  {
   "cell_type": "code",
   "execution_count": 1,
   "metadata": {},
   "outputs": [],
   "source": [
    "import pandas as pd\n",
    "import numpy as np\n",
    "import os\n",
    "# os.environ[\"CUDA_VISIBLE_DEVICES\"]=\"-1\"\n",
    "import tensorflow as tf\n",
    "import matplotlib.pyplot as plt\n",
    "import glob\n",
    "import cv2\n",
    "%matplotlib inline"
   ]
  },
  {
   "cell_type": "code",
   "execution_count": 2,
   "metadata": {},
   "outputs": [
    {
     "data": {
      "text/plain": [
       "'2.0.1'"
      ]
     },
     "execution_count": 2,
     "metadata": {},
     "output_type": "execute_result"
    }
   ],
   "source": [
    "tf.__version__"
   ]
  },
  {
   "cell_type": "code",
   "execution_count": 3,
   "metadata": {},
   "outputs": [
    {
     "data": {
      "text/plain": [
       "True"
      ]
     },
     "execution_count": 3,
     "metadata": {},
     "output_type": "execute_result"
    }
   ],
   "source": [
    "tf.test.is_gpu_available()"
   ]
  },
  {
   "cell_type": "code",
   "execution_count": 4,
   "metadata": {},
   "outputs": [],
   "source": [
    "# gpus = tf.config.experimental.list_physical_devices(device_type='GPU')\n",
    "# tf.config.experimental.set_virtual_device_configuration( gpus[0], [tf.config.experimental.VirtualDeviceConfiguration(memory_limit=3700)])\n"
   ]
  },
  {
   "cell_type": "code",
   "execution_count": 5,
   "metadata": {},
   "outputs": [],
   "source": [
    "myshape = (229,229,1)"
   ]
  },
  {
   "cell_type": "markdown",
   "metadata": {},
   "source": [
    "### load data"
   ]
  },
  {
   "cell_type": "code",
   "execution_count": 7,
   "metadata": {},
   "outputs": [],
   "source": [
    "def load_img(img,lab):\n",
    "    img=tf.io.read_file(img)\n",
    "    img=tf.image.decode_jpeg(img, channels=1)\n",
    "    img = tf.cast(img,tf.float32) ##???\n",
    "    lab = tf.cast(lab,tf.float32)/2 #####???    turn 0,2,4 to 0,1,2 otherwise loss=NaN\n",
    "    return img,lab"
   ]
  },
  {
   "cell_type": "code",
   "execution_count": 8,
   "metadata": {},
   "outputs": [],
   "source": [
    "test_data=pd.read_csv('test.txt',header=None,sep=' ',names=['picture','label'])\n",
    "train_data=pd.read_csv('train.txt',header=None,sep=' ',names=['picture','label'])\n",
    "valid_data=pd.read_csv('valid.txt',header=None,sep=' ',names=['picture','label'])\n",
    "# test_data.head()"
   ]
  },
  {
   "cell_type": "code",
   "execution_count": 9,
   "metadata": {},
   "outputs": [],
   "source": [
    "test_data['dir']=['preprocessed/'+'test/'+pic for pic in test_data['picture']]\n",
    "train_data['dir']=['preprocessed/'+'train/'+pic for pic in train_data['picture']]\n",
    "valid_data['dir']=['preprocessed/'+'valid/'+pic for pic in valid_data['picture']]\n",
    "# test_data.head()"
   ]
  },
  {
   "cell_type": "code",
   "execution_count": 10,
   "metadata": {},
   "outputs": [
    {
     "data": {
      "text/plain": [
       "array([[<matplotlib.axes._subplots.AxesSubplot object at 0x00000179C96957C8>]],\n",
       "      dtype=object)"
      ]
     },
     "execution_count": 10,
     "metadata": {},
     "output_type": "execute_result"
    },
    {
     "data": {
      "image/png": "[encoded data removed]",
      "text/plain": [
       "<Figure size 432x288 with 1 Axes>"
      ]
     },
     "metadata": {
      "needs_background": "light"
     },
     "output_type": "display_data"
    }
   ],
   "source": [
    "total_set = pd.concat([test_data,train_data,valid_data],ignore_index=True)\n",
    "iid_total_set = pd.concat([total_set[total_set['label']==i*2][:1000] for i in range(3)])\n",
    "iid_total_set.hist()"
   ]
  },
  {
   "cell_type": "code",
   "execution_count": 11,
   "metadata": {},
   "outputs": [],
   "source": [
    "random_set = iid_total_set.sample(frac=1).reset_index(drop=True)"
   ]
  },
  {
   "cell_type": "code",
   "execution_count": 12,
   "metadata": {},
   "outputs": [],
   "source": [
    "## settings\n",
    "fraction_val = 0.2\n",
    "\n",
    "valid_LEN=int(len(random_set)*fraction_val)\n",
    "train_LEN=int(len(random_set)-valid_LEN)\n"
   ]
  },
  {
   "cell_type": "code",
   "execution_count": 13,
   "metadata": {},
   "outputs": [
    {
     "data": {
      "text/plain": [
       "array([[<matplotlib.axes._subplots.AxesSubplot object at 0x00000179C9F3A508>]],\n",
       "      dtype=object)"
      ]
     },
     "execution_count": 13,
     "metadata": {},
     "output_type": "execute_result"
    },
    {
     "data": {
      "image/png": "[encoded data removed]",
      "text/plain": [
       "<Figure size 432x288 with 1 Axes>"
      ]
     },
     "metadata": {
      "needs_background": "light"
     },
     "output_type": "display_data"
    }
   ],
   "source": [
    "iid_valid = random_set[:valid_LEN]\n",
    "iid_valid.hist()"
   ]
  },
  {
   "cell_type": "code",
   "execution_count": 14,
   "metadata": {},
   "outputs": [
    {
     "data": {
      "text/plain": [
       "array([[<matplotlib.axes._subplots.AxesSubplot object at 0x0000017995DFC308>]],\n",
       "      dtype=object)"
      ]
     },
     "execution_count": 14,
     "metadata": {},
     "output_type": "execute_result"
    },
    {
     "data": {
      "image/png": "[encoded data removed]",
      "text/plain": [
       "<Figure size 432x288 with 1 Axes>"
      ]
     },
     "metadata": {
      "needs_background": "light"
     },
     "output_type": "display_data"
    }
   ],
   "source": [
    "iid_train = random_set[valid_LEN:valid_LEN+train_LEN]\n",
    "iid_train.hist()"
   ]
  },
  {
   "cell_type": "code",
   "execution_count": null,
   "metadata": {},
   "outputs": [],
   "source": []
  },
  {
   "cell_type": "code",
   "execution_count": 14,
   "metadata": {},
   "outputs": [],
   "source": [
    "worker_nb = 3\n",
    "train_worker = int(train_LEN/worker_nb)"
   ]
  },
  {
   "cell_type": "code",
   "execution_count": 15,
   "metadata": {},
   "outputs": [],
   "source": [
    "worker1 = iid_train[0:train_worker]\n",
    "worker2 = iid_train[train_worker:train_worker*2]\n",
    "worker3 = iid_train[train_worker*2:train_worker*3]"
   ]
  },
  {
   "cell_type": "code",
   "execution_count": 16,
   "metadata": {},
   "outputs": [
    {
     "data": {
      "text/plain": [
       "array([[<matplotlib.axes._subplots.AxesSubplot object at 0x00000227BF35E408>]],\n",
       "      dtype=object)"
      ]
     },
     "execution_count": 16,
     "metadata": {},
     "output_type": "execute_result"
    },
    {
     "data": {
      "image/png": "[encoded data removed]",
      "text/plain": [
       "<Figure size 432x288 with 1 Axes>"
      ]
     },
     "metadata": {
      "needs_background": "light"
     },
     "output_type": "display_data"
    }
   ],
   "source": [
    "worker1.hist()"
   ]
  },
  {
   "cell_type": "code",
   "execution_count": 17,
   "metadata": {},
   "outputs": [
    {
     "data": {
      "text/plain": [
       "array([[<matplotlib.axes._subplots.AxesSubplot object at 0x00000227BF40C908>]],\n",
       "      dtype=object)"
      ]
     },
     "execution_count": 17,
     "metadata": {},
     "output_type": "execute_result"
    },
    {
     "data": {
      "image/png": "[encoded data removed]",
      "text/plain": [
       "<Figure size 432x288 with 1 Axes>"
      ]
     },
     "metadata": {
      "needs_background": "light"
     },
     "output_type": "display_data"
    }
   ],
   "source": [
    "worker2.hist()"
   ]
  },
  {
   "cell_type": "code",
   "execution_count": 18,
   "metadata": {},
   "outputs": [
    {
     "data": {
      "text/plain": [
       "array([[<matplotlib.axes._subplots.AxesSubplot object at 0x00000227BF4B0388>]],\n",
       "      dtype=object)"
      ]
     },
     "execution_count": 18,
     "metadata": {},
     "output_type": "execute_result"
    },
    {
     "data": {
      "image/png": "[encoded data removed]",
      "text/plain": [
       "<Figure size 432x288 with 1 Axes>"
      ]
     },
     "metadata": {
      "needs_background": "light"
     },
     "output_type": "display_data"
    }
   ],
   "source": [
    "worker3.hist()"
   ]
  },
  {
   "cell_type": "code",
   "execution_count": null,
   "metadata": {},
   "outputs": [],
   "source": []
  },
  {
   "cell_type": "code",
   "execution_count": 19,
   "metadata": {},
   "outputs": [],
   "source": [
    "worker1.to_pickle('worker1.pkl')\n",
    "worker2.to_pickle('worker2.pkl')\n",
    "worker3.to_pickle('worker3.pkl')\n",
    "iid_valid.to_pickle('iid_valid.pkl')"
   ]
  },
  {
   "cell_type": "code",
   "execution_count": 20,
   "metadata": {},
   "outputs": [
    {
     "data": {
      "text/html": [
       "<div>\n",
       "<style scoped>\n",
       "    .dataframe tbody tr th:only-of-type {\n",
       "        vertical-align: middle;\n",
       "    }\n",
       "\n",
       "    .dataframe tbody tr th {\n",
       "        vertical-align: top;\n",
       "    }\n",
       "\n",
       "    .dataframe thead th {\n",
       "        text-align: right;\n",
       "    }\n",
       "</style>\n",
       "<table border=\"1\" class=\"dataframe\">\n",
       "  <thead>\n",
       "    <tr style=\"text-align: right;\">\n",
       "      <th></th>\n",
       "      <th>picture</th>\n",
       "      <th>label</th>\n",
       "      <th>dir</th>\n",
       "    </tr>\n",
       "  </thead>\n",
       "  <tbody>\n",
       "    <tr>\n",
       "      <th>0</th>\n",
       "      <td>20170428115936704.jpg</td>\n",
       "      <td>0</td>\n",
       "      <td>preprocessed\\test\\20170428115936704.jpg</td>\n",
       "    </tr>\n",
       "    <tr>\n",
       "      <th>1</th>\n",
       "      <td>20170525085857949.jpg</td>\n",
       "      <td>2</td>\n",
       "      <td>preprocessed\\test\\20170525085857949.jpg</td>\n",
       "    </tr>\n",
       "    <tr>\n",
       "      <th>2</th>\n",
       "      <td>20170427084620045.jpg</td>\n",
       "      <td>0</td>\n",
       "      <td>preprocessed\\test\\20170427084620045.jpg</td>\n",
       "    </tr>\n",
       "    <tr>\n",
       "      <th>3</th>\n",
       "      <td>20170611090524022.jpg</td>\n",
       "      <td>2</td>\n",
       "      <td>preprocessed\\test\\20170611090524022.jpg</td>\n",
       "    </tr>\n",
       "    <tr>\n",
       "      <th>4</th>\n",
       "      <td>007-6477-400.jpg</td>\n",
       "      <td>4</td>\n",
       "      <td>preprocessed\\train\\007-6477-400.jpg</td>\n",
       "    </tr>\n",
       "    <tr>\n",
       "      <th>5</th>\n",
       "      <td>20170609091623855.jpg</td>\n",
       "      <td>2</td>\n",
       "      <td>preprocessed\\test\\20170609091623855.jpg</td>\n",
       "    </tr>\n",
       "    <tr>\n",
       "      <th>6</th>\n",
       "      <td>007-6719-400.jpg</td>\n",
       "      <td>4</td>\n",
       "      <td>preprocessed\\train\\007-6719-400.jpg</td>\n",
       "    </tr>\n",
       "    <tr>\n",
       "      <th>7</th>\n",
       "      <td>20170607085935786.jpg</td>\n",
       "      <td>2</td>\n",
       "      <td>preprocessed\\test\\20170607085935786.jpg</td>\n",
       "    </tr>\n",
       "    <tr>\n",
       "      <th>8</th>\n",
       "      <td>20170504113211634.jpg</td>\n",
       "      <td>2</td>\n",
       "      <td>preprocessed\\test\\20170504113211634.jpg</td>\n",
       "    </tr>\n",
       "    <tr>\n",
       "      <th>9</th>\n",
       "      <td>20170427191045130.jpg</td>\n",
       "      <td>0</td>\n",
       "      <td>preprocessed\\test\\20170427191045130.jpg</td>\n",
       "    </tr>\n",
       "    <tr>\n",
       "      <th>10</th>\n",
       "      <td>20170427181556231.jpg</td>\n",
       "      <td>0</td>\n",
       "      <td>preprocessed\\test\\20170427181556231.jpg</td>\n",
       "    </tr>\n",
       "    <tr>\n",
       "      <th>11</th>\n",
       "      <td>20170413124003874.jpg</td>\n",
       "      <td>0</td>\n",
       "      <td>preprocessed\\test\\20170413124003874.jpg</td>\n",
       "    </tr>\n",
       "    <tr>\n",
       "      <th>12</th>\n",
       "      <td>20170609092004574.jpg</td>\n",
       "      <td>2</td>\n",
       "      <td>preprocessed\\test\\20170609092004574.jpg</td>\n",
       "    </tr>\n",
       "    <tr>\n",
       "      <th>13</th>\n",
       "      <td>20170427182001923.jpg</td>\n",
       "      <td>0</td>\n",
       "      <td>preprocessed\\test\\20170427182001923.jpg</td>\n",
       "    </tr>\n",
       "    <tr>\n",
       "      <th>14</th>\n",
       "      <td>007-6792-400.jpg</td>\n",
       "      <td>4</td>\n",
       "      <td>preprocessed\\valid\\007-6792-400.jpg</td>\n",
       "    </tr>\n",
       "    <tr>\n",
       "      <th>15</th>\n",
       "      <td>20170417105107608.jpg</td>\n",
       "      <td>0</td>\n",
       "      <td>preprocessed\\test\\20170417105107608.jpg</td>\n",
       "    </tr>\n",
       "    <tr>\n",
       "      <th>16</th>\n",
       "      <td>007-7190-400.jpg</td>\n",
       "      <td>4</td>\n",
       "      <td>preprocessed\\test\\007-7190-400.jpg</td>\n",
       "    </tr>\n",
       "    <tr>\n",
       "      <th>17</th>\n",
       "      <td>007-6306-400.jpg</td>\n",
       "      <td>4</td>\n",
       "      <td>preprocessed\\train\\007-6306-400.jpg</td>\n",
       "    </tr>\n",
       "    <tr>\n",
       "      <th>18</th>\n",
       "      <td>20170427190222259.jpg</td>\n",
       "      <td>0</td>\n",
       "      <td>preprocessed\\test\\20170427190222259.jpg</td>\n",
       "    </tr>\n",
       "    <tr>\n",
       "      <th>19</th>\n",
       "      <td>007-7256-400.jpg</td>\n",
       "      <td>4</td>\n",
       "      <td>preprocessed\\test\\007-7256-400.jpg</td>\n",
       "    </tr>\n",
       "    <tr>\n",
       "      <th>20</th>\n",
       "      <td>007-6251-300.jpg</td>\n",
       "      <td>2</td>\n",
       "      <td>preprocessed\\test\\007-6251-300.jpg</td>\n",
       "    </tr>\n",
       "    <tr>\n",
       "      <th>21</th>\n",
       "      <td>20170418135622755.jpg</td>\n",
       "      <td>0</td>\n",
       "      <td>preprocessed\\test\\20170418135622755.jpg</td>\n",
       "    </tr>\n",
       "    <tr>\n",
       "      <th>22</th>\n",
       "      <td>007-6600-400.jpg</td>\n",
       "      <td>4</td>\n",
       "      <td>preprocessed\\train\\007-6600-400.jpg</td>\n",
       "    </tr>\n",
       "    <tr>\n",
       "      <th>23</th>\n",
       "      <td>20170417111719898.jpg</td>\n",
       "      <td>0</td>\n",
       "      <td>preprocessed\\test\\20170417111719898.jpg</td>\n",
       "    </tr>\n",
       "    <tr>\n",
       "      <th>24</th>\n",
       "      <td>20170427183153652.jpg</td>\n",
       "      <td>0</td>\n",
       "      <td>preprocessed\\test\\20170427183153652.jpg</td>\n",
       "    </tr>\n",
       "    <tr>\n",
       "      <th>25</th>\n",
       "      <td>20170518112220847.jpg</td>\n",
       "      <td>2</td>\n",
       "      <td>preprocessed\\test\\20170518112220847.jpg</td>\n",
       "    </tr>\n",
       "    <tr>\n",
       "      <th>26</th>\n",
       "      <td>20170427185451261.jpg</td>\n",
       "      <td>0</td>\n",
       "      <td>preprocessed\\test\\20170427185451261.jpg</td>\n",
       "    </tr>\n",
       "    <tr>\n",
       "      <th>27</th>\n",
       "      <td>007-5892-300.jpg</td>\n",
       "      <td>4</td>\n",
       "      <td>preprocessed\\train\\007-5892-300.jpg</td>\n",
       "    </tr>\n",
       "    <tr>\n",
       "      <th>28</th>\n",
       "      <td>20170427192115631.jpg</td>\n",
       "      <td>0</td>\n",
       "      <td>preprocessed\\test\\20170427192115631.jpg</td>\n",
       "    </tr>\n",
       "    <tr>\n",
       "      <th>29</th>\n",
       "      <td>20170419080503535.jpg</td>\n",
       "      <td>0</td>\n",
       "      <td>preprocessed\\test\\20170419080503535.jpg</td>\n",
       "    </tr>\n",
       "    <tr>\n",
       "      <th>...</th>\n",
       "      <td>...</td>\n",
       "      <td>...</td>\n",
       "      <td>...</td>\n",
       "    </tr>\n",
       "    <tr>\n",
       "      <th>552</th>\n",
       "      <td>20170609170844868.jpg</td>\n",
       "      <td>2</td>\n",
       "      <td>preprocessed\\test\\20170609170844868.jpg</td>\n",
       "    </tr>\n",
       "    <tr>\n",
       "      <th>553</th>\n",
       "      <td>007-6170-300.jpg</td>\n",
       "      <td>2</td>\n",
       "      <td>preprocessed\\test\\007-6170-300.jpg</td>\n",
       "    </tr>\n",
       "    <tr>\n",
       "      <th>554</th>\n",
       "      <td>007-6885-400.jpg</td>\n",
       "      <td>4</td>\n",
       "      <td>preprocessed\\valid\\007-6885-400.jpg</td>\n",
       "    </tr>\n",
       "    <tr>\n",
       "      <th>555</th>\n",
       "      <td>007-7026-400.jpg</td>\n",
       "      <td>4</td>\n",
       "      <td>preprocessed\\test\\007-7026-400.jpg</td>\n",
       "    </tr>\n",
       "    <tr>\n",
       "      <th>556</th>\n",
       "      <td>20170602085038408.jpg</td>\n",
       "      <td>2</td>\n",
       "      <td>preprocessed\\test\\20170602085038408.jpg</td>\n",
       "    </tr>\n",
       "    <tr>\n",
       "      <th>557</th>\n",
       "      <td>20170522091729801.jpg</td>\n",
       "      <td>2</td>\n",
       "      <td>preprocessed\\test\\20170522091729801.jpg</td>\n",
       "    </tr>\n",
       "    <tr>\n",
       "      <th>558</th>\n",
       "      <td>20170428090728431.jpg</td>\n",
       "      <td>0</td>\n",
       "      <td>preprocessed\\test\\20170428090728431.jpg</td>\n",
       "    </tr>\n",
       "    <tr>\n",
       "      <th>559</th>\n",
       "      <td>20170427142918006.jpg</td>\n",
       "      <td>0</td>\n",
       "      <td>preprocessed\\test\\20170427142918006.jpg</td>\n",
       "    </tr>\n",
       "    <tr>\n",
       "      <th>560</th>\n",
       "      <td>20170427085831881.jpg</td>\n",
       "      <td>0</td>\n",
       "      <td>preprocessed\\test\\20170427085831881.jpg</td>\n",
       "    </tr>\n",
       "    <tr>\n",
       "      <th>561</th>\n",
       "      <td>20170427084657809.jpg</td>\n",
       "      <td>0</td>\n",
       "      <td>preprocessed\\test\\20170427084657809.jpg</td>\n",
       "    </tr>\n",
       "    <tr>\n",
       "      <th>562</th>\n",
       "      <td>20170511113811780.jpg</td>\n",
       "      <td>2</td>\n",
       "      <td>preprocessed\\test\\20170511113811780.jpg</td>\n",
       "    </tr>\n",
       "    <tr>\n",
       "      <th>563</th>\n",
       "      <td>007-6613-400.jpg</td>\n",
       "      <td>4</td>\n",
       "      <td>preprocessed\\train\\007-6613-400.jpg</td>\n",
       "    </tr>\n",
       "    <tr>\n",
       "      <th>564</th>\n",
       "      <td>20170418092249373.jpg</td>\n",
       "      <td>0</td>\n",
       "      <td>preprocessed\\test\\20170418092249373.jpg</td>\n",
       "    </tr>\n",
       "    <tr>\n",
       "      <th>565</th>\n",
       "      <td>007-7176-400.jpg</td>\n",
       "      <td>4</td>\n",
       "      <td>preprocessed\\test\\007-7176-400.jpg</td>\n",
       "    </tr>\n",
       "    <tr>\n",
       "      <th>566</th>\n",
       "      <td>007-7952-601.jpg</td>\n",
       "      <td>2</td>\n",
       "      <td>preprocessed\\test\\007-7952-601.jpg</td>\n",
       "    </tr>\n",
       "    <tr>\n",
       "      <th>567</th>\n",
       "      <td>20170427175714216.jpg</td>\n",
       "      <td>0</td>\n",
       "      <td>preprocessed\\test\\20170427175714216.jpg</td>\n",
       "    </tr>\n",
       "    <tr>\n",
       "      <th>568</th>\n",
       "      <td>20170504102303706.jpg</td>\n",
       "      <td>2</td>\n",
       "      <td>preprocessed\\test\\20170504102303706.jpg</td>\n",
       "    </tr>\n",
       "    <tr>\n",
       "      <th>569</th>\n",
       "      <td>20170503161702278.jpg</td>\n",
       "      <td>2</td>\n",
       "      <td>preprocessed\\test\\20170503161702278.jpg</td>\n",
       "    </tr>\n",
       "    <tr>\n",
       "      <th>570</th>\n",
       "      <td>007-8089-601.jpg</td>\n",
       "      <td>2</td>\n",
       "      <td>preprocessed\\test\\007-8089-601.jpg</td>\n",
       "    </tr>\n",
       "    <tr>\n",
       "      <th>571</th>\n",
       "      <td>007-7194-400.jpg</td>\n",
       "      <td>4</td>\n",
       "      <td>preprocessed\\test\\007-7194-400.jpg</td>\n",
       "    </tr>\n",
       "    <tr>\n",
       "      <th>572</th>\n",
       "      <td>20170414165409474.jpg</td>\n",
       "      <td>0</td>\n",
       "      <td>preprocessed\\test\\20170414165409474.jpg</td>\n",
       "    </tr>\n",
       "    <tr>\n",
       "      <th>573</th>\n",
       "      <td>20170420101418582.jpg</td>\n",
       "      <td>0</td>\n",
       "      <td>preprocessed\\test\\20170420101418582.jpg</td>\n",
       "    </tr>\n",
       "    <tr>\n",
       "      <th>574</th>\n",
       "      <td>20170413133417921.jpg</td>\n",
       "      <td>0</td>\n",
       "      <td>preprocessed\\test\\20170413133417921.jpg</td>\n",
       "    </tr>\n",
       "    <tr>\n",
       "      <th>575</th>\n",
       "      <td>20170508093934243.jpg</td>\n",
       "      <td>2</td>\n",
       "      <td>preprocessed\\test\\20170508093934243.jpg</td>\n",
       "    </tr>\n",
       "    <tr>\n",
       "      <th>576</th>\n",
       "      <td>20170428091825503.jpg</td>\n",
       "      <td>0</td>\n",
       "      <td>preprocessed\\test\\20170428091825503.jpg</td>\n",
       "    </tr>\n",
       "    <tr>\n",
       "      <th>577</th>\n",
       "      <td>007-6816-400.jpg</td>\n",
       "      <td>4</td>\n",
       "      <td>preprocessed\\valid\\007-6816-400.jpg</td>\n",
       "    </tr>\n",
       "    <tr>\n",
       "      <th>578</th>\n",
       "      <td>20170515172948684.jpg</td>\n",
       "      <td>2</td>\n",
       "      <td>preprocessed\\test\\20170515172948684.jpg</td>\n",
       "    </tr>\n",
       "    <tr>\n",
       "      <th>579</th>\n",
       "      <td>20170418144937243.jpg</td>\n",
       "      <td>0</td>\n",
       "      <td>preprocessed\\test\\20170418144937243.jpg</td>\n",
       "    </tr>\n",
       "    <tr>\n",
       "      <th>580</th>\n",
       "      <td>20170427184052278.jpg</td>\n",
       "      <td>0</td>\n",
       "      <td>preprocessed\\test\\20170427184052278.jpg</td>\n",
       "    </tr>\n",
       "    <tr>\n",
       "      <th>581</th>\n",
       "      <td>20170511160517775.jpg</td>\n",
       "      <td>2</td>\n",
       "      <td>preprocessed\\test\\20170511160517775.jpg</td>\n",
       "    </tr>\n",
       "  </tbody>\n",
       "</table>\n",
       "<p>582 rows × 3 columns</p>\n",
       "</div>"
      ],
      "text/plain": [
       "                   picture  label                                      dir\n",
       "0    20170428115936704.jpg      0  preprocessed\\test\\20170428115936704.jpg\n",
       "1    20170525085857949.jpg      2  preprocessed\\test\\20170525085857949.jpg\n",
       "2    20170427084620045.jpg      0  preprocessed\\test\\20170427084620045.jpg\n",
       "3    20170611090524022.jpg      2  preprocessed\\test\\20170611090524022.jpg\n",
       "4         007-6477-400.jpg      4      preprocessed\\train\\007-6477-400.jpg\n",
       "5    20170609091623855.jpg      2  preprocessed\\test\\20170609091623855.jpg\n",
       "6         007-6719-400.jpg      4      preprocessed\\train\\007-6719-400.jpg\n",
       "7    20170607085935786.jpg      2  preprocessed\\test\\20170607085935786.jpg\n",
       "8    20170504113211634.jpg      2  preprocessed\\test\\20170504113211634.jpg\n",
       "9    20170427191045130.jpg      0  preprocessed\\test\\20170427191045130.jpg\n",
       "10   20170427181556231.jpg      0  preprocessed\\test\\20170427181556231.jpg\n",
       "11   20170413124003874.jpg      0  preprocessed\\test\\20170413124003874.jpg\n",
       "12   20170609092004574.jpg      2  preprocessed\\test\\20170609092004574.jpg\n",
       "13   20170427182001923.jpg      0  preprocessed\\test\\20170427182001923.jpg\n",
       "14        007-6792-400.jpg      4      preprocessed\\valid\\007-6792-400.jpg\n",
       "15   20170417105107608.jpg      0  preprocessed\\test\\20170417105107608.jpg\n",
       "16        007-7190-400.jpg      4       preprocessed\\test\\007-7190-400.jpg\n",
       "17        007-6306-400.jpg      4      preprocessed\\train\\007-6306-400.jpg\n",
       "18   20170427190222259.jpg      0  preprocessed\\test\\20170427190222259.jpg\n",
       "19        007-7256-400.jpg      4       preprocessed\\test\\007-7256-400.jpg\n",
       "20        007-6251-300.jpg      2       preprocessed\\test\\007-6251-300.jpg\n",
       "21   20170418135622755.jpg      0  preprocessed\\test\\20170418135622755.jpg\n",
       "22        007-6600-400.jpg      4      preprocessed\\train\\007-6600-400.jpg\n",
       "23   20170417111719898.jpg      0  preprocessed\\test\\20170417111719898.jpg\n",
       "24   20170427183153652.jpg      0  preprocessed\\test\\20170427183153652.jpg\n",
       "25   20170518112220847.jpg      2  preprocessed\\test\\20170518112220847.jpg\n",
       "26   20170427185451261.jpg      0  preprocessed\\test\\20170427185451261.jpg\n",
       "27        007-5892-300.jpg      4      preprocessed\\train\\007-5892-300.jpg\n",
       "28   20170427192115631.jpg      0  preprocessed\\test\\20170427192115631.jpg\n",
       "29   20170419080503535.jpg      0  preprocessed\\test\\20170419080503535.jpg\n",
       "..                     ...    ...                                      ...\n",
       "552  20170609170844868.jpg      2  preprocessed\\test\\20170609170844868.jpg\n",
       "553       007-6170-300.jpg      2       preprocessed\\test\\007-6170-300.jpg\n",
       "554       007-6885-400.jpg      4      preprocessed\\valid\\007-6885-400.jpg\n",
       "555       007-7026-400.jpg      4       preprocessed\\test\\007-7026-400.jpg\n",
       "556  20170602085038408.jpg      2  preprocessed\\test\\20170602085038408.jpg\n",
       "557  20170522091729801.jpg      2  preprocessed\\test\\20170522091729801.jpg\n",
       "558  20170428090728431.jpg      0  preprocessed\\test\\20170428090728431.jpg\n",
       "559  20170427142918006.jpg      0  preprocessed\\test\\20170427142918006.jpg\n",
       "560  20170427085831881.jpg      0  preprocessed\\test\\20170427085831881.jpg\n",
       "561  20170427084657809.jpg      0  preprocessed\\test\\20170427084657809.jpg\n",
       "562  20170511113811780.jpg      2  preprocessed\\test\\20170511113811780.jpg\n",
       "563       007-6613-400.jpg      4      preprocessed\\train\\007-6613-400.jpg\n",
       "564  20170418092249373.jpg      0  preprocessed\\test\\20170418092249373.jpg\n",
       "565       007-7176-400.jpg      4       preprocessed\\test\\007-7176-400.jpg\n",
       "566       007-7952-601.jpg      2       preprocessed\\test\\007-7952-601.jpg\n",
       "567  20170427175714216.jpg      0  preprocessed\\test\\20170427175714216.jpg\n",
       "568  20170504102303706.jpg      2  preprocessed\\test\\20170504102303706.jpg\n",
       "569  20170503161702278.jpg      2  preprocessed\\test\\20170503161702278.jpg\n",
       "570       007-8089-601.jpg      2       preprocessed\\test\\007-8089-601.jpg\n",
       "571       007-7194-400.jpg      4       preprocessed\\test\\007-7194-400.jpg\n",
       "572  20170414165409474.jpg      0  preprocessed\\test\\20170414165409474.jpg\n",
       "573  20170420101418582.jpg      0  preprocessed\\test\\20170420101418582.jpg\n",
       "574  20170413133417921.jpg      0  preprocessed\\test\\20170413133417921.jpg\n",
       "575  20170508093934243.jpg      2  preprocessed\\test\\20170508093934243.jpg\n",
       "576  20170428091825503.jpg      0  preprocessed\\test\\20170428091825503.jpg\n",
       "577       007-6816-400.jpg      4      preprocessed\\valid\\007-6816-400.jpg\n",
       "578  20170515172948684.jpg      2  preprocessed\\test\\20170515172948684.jpg\n",
       "579  20170418144937243.jpg      0  preprocessed\\test\\20170418144937243.jpg\n",
       "580  20170427184052278.jpg      0  preprocessed\\test\\20170427184052278.jpg\n",
       "581  20170511160517775.jpg      2  preprocessed\\test\\20170511160517775.jpg\n",
       "\n",
       "[582 rows x 3 columns]"
      ]
     },
     "execution_count": 20,
     "metadata": {},
     "output_type": "execute_result"
    }
   ],
   "source": [
    "pd.read_pickle('iid_valid.pkl')"
   ]
  },
  {
   "cell_type": "code",
   "execution_count": null,
   "metadata": {},
   "outputs": [],
   "source": []
  }
 ],
 "metadata": {
  "kernelspec": {
   "display_name": "Python 3",
   "language": "python",
   "name": "python3"
  },
  "language_info": {
   "codemirror_mode": {
    "name": "ipython",
    "version": 3
   },
   "file_extension": ".py",
   "mimetype": "text/x-python",
   "name": "python",
   "nbconvert_exporter": "python",
   "pygments_lexer": "ipython3",
   "version": "3.7.4"
  }
 },
 "nbformat": 4,
 "nbformat_minor": 2
}
