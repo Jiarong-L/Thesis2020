{
 "cells": [
  {
   "cell_type": "code",
   "execution_count": null,
   "metadata": {},
   "outputs": [],
   "source": [
    "import pandas as pd\n",
    "import tensorflow as tf\n",
    "import keras\n",
    "import numpy as np\n",
    "import os\n",
    "import matplotlib.pyplot as plt\n",
    "import glob\n",
    "import cv2\n",
    "from keras.preprocessing.image import ImageDataGenerator\n",
    "\n",
    "print(tf.__version__)\n",
    "print(tf.test.is_gpu_available())\n",
    "\n",
    "gpus = tf.config.experimental.list_physical_devices(device_type='GPU')\n",
    "tf.config.experimental.set_virtual_device_configuration( gpus[0], [tf.config.experimental.VirtualDeviceConfiguration(memory_limit=3000)])\n",
    "\n",
    "\n",
    "\n",
    "batch_SIZE=2\n",
    "img_SIZE = 224\n",
    "\n",
    "\n",
    "val_set = random_set[:val_len]\n",
    "train_set = random_set[val_len:]\n",
    "\n",
    "\n",
    "train_datagen = ImageDataGenerator(rotation_range=360,\n",
    "                                   horizontal_flip=True,\n",
    "                                   vertical_flip=True,\n",
    "#                                    validation_split=fraction_val,\n",
    "                                   rescale=1 / 255.)\n",
    "\n",
    "# Use the dataframe to define train and validation generators\n",
    "train_generator = train_datagen.flow_from_dataframe(train_set, \n",
    "                                                    x_col='dir', \n",
    "                                                    y_col='new_label',\n",
    "                                                    directory = '.',\n",
    "                                                    target_size=(img_SIZE, img_SIZE),\n",
    "                                                    batch_size=batch_SIZE,\n",
    "                                                    class_mode='binary')\n",
    "\n",
    "val_generator = train_datagen.flow_from_dataframe(val_set, \n",
    "                                                  x_col='dir', \n",
    "                                                  y_col='new_label',\n",
    "                                                  directory = '.',\n",
    "                                                  target_size=(img_SIZE, img_SIZE),\n",
    "                                                  batch_size=batch_SIZE,\n",
    "                                                  class_mode='binary')"
   ]
  },
  {
   "cell_type": "code",
   "execution_count": null,
   "metadata": {},
   "outputs": [],
   "source": [
    "# # Xception\n",
    "# base_model = tf.keras.applications.xception.Xception(include_top=False, weights=None,input_shape=(img_SIZE,img_SIZE,3))\n",
    "# inputs = tf.keras.layers.Input(shape=(img_SIZE,img_SIZE,3))\n",
    "# h1 = base_model(inputs)\n",
    "# h2 = tf.keras.layers.GlobalAveragePooling2D()(h1)\n",
    "# h2 = tf.keras.layers.Dropout(0.5)(h2)\n",
    "# h4 = tf.keras.layers.Dense(128, activation='relu')(h2)  #try tanh/relu\n",
    "# predictions = tf.keras.layers.Dense(1, activation='sigmoid')(h4)\n",
    "# model = tf.keras.models.Model(inputs=inputs, outputs=predictions)\n",
    "# model.compile(optimizer='adam', \n",
    "#                   loss='binary_crossentropy',\n",
    "#                   metrics=['acc'])"
   ]
  },
  {
   "cell_type": "code",
   "execution_count": null,
   "metadata": {},
   "outputs": [],
   "source": [
    "pre_trained_model = tf.keras.applications.VGG16(input_shape=(224,224,3), include_top=False, weights=\"imagenet\")\n",
    "    \n",
    "for layer in pre_trained_model.layers[:15]:\n",
    "    layer.trainable = False\n",
    "\n",
    "for layer in pre_trained_model.layers[15:]:\n",
    "    layer.trainable = True\n",
    "    \n",
    "last_layer = pre_trained_model.get_layer('block5_pool')\n",
    "last_output = last_layer.output\n",
    "    \n",
    "x = tf.keras.layers.GlobalMaxPooling2D()(last_output)\n",
    "x = tf.keras.layers.Dense(512, activation='relu')(x)\n",
    "x = tf.keras.layers.Dropout(0.5)(x)\n",
    "x = tf.keras.layers.Dense(1, activation='sigmoid')(x)\n",
    "\n",
    "model = tf.keras.Model(pre_trained_model.input, x)\n",
    "\n",
    "model.compile(loss='binary_crossentropy',\n",
    "              optimizer=tf.keras.optimizers.SGD(lr=1e-4, momentum=0.9),\n",
    "              metrics=['accuracy'])"
   ]
  },
  {
   "cell_type": "code",
   "execution_count": null,
   "metadata": {},
   "outputs": [],
   "source": [
    "# model.summary()\n",
    "# model._get_trainable_state()"
   ]
  },
  {
   "cell_type": "code",
   "execution_count": null,
   "metadata": {},
   "outputs": [],
   "source": [
    "epo=5\n",
    "history= model.fit_generator(train_generator,\n",
    "                    steps_per_epoch=train_generator.samples // batch_SIZE,\n",
    "                    epochs=epo,\n",
    "                    validation_data=val_generator,\n",
    "                    validation_steps = val_generator.samples // batch_SIZE)"
   ]
  },
  {
   "cell_type": "code",
   "execution_count": null,
   "metadata": {},
   "outputs": [],
   "source": [
    "plt.plot(history.epoch, history.history.get('acc'), label='acc')\n",
    "plt.plot(history.epoch, history.history.get('val_acc'), label='val_acc')\n",
    "plt.legend()"
   ]
  },
  {
   "cell_type": "code",
   "execution_count": null,
   "metadata": {},
   "outputs": [],
   "source": [
    "plt.plot(history.epoch, history.history.get('loss'), label='loss')\n",
    "plt.plot(history.epoch, history.history.get('val_loss'), label='val_loss')\n",
    "plt.legend()"
   ]
  },
  {
   "cell_type": "code",
   "execution_count": null,
   "metadata": {},
   "outputs": [],
   "source": []
  },
  {
   "cell_type": "code",
   "execution_count": null,
   "metadata": {},
   "outputs": [],
   "source": []
  },
  {
   "cell_type": "code",
   "execution_count": null,
   "metadata": {},
   "outputs": [],
   "source": [
    "# model.save_weights('myXception.h5')\n",
    "\n",
    "# acc = history.history.get('acc')\n",
    "# val_acc = history.history.get('val_acc')\n",
    "# loss = history.history.get('loss')\n",
    "# val_loss = history.history.get('val_loss')\n",
    "\n",
    "\n",
    "# np.save(\"acc.npy\", acc)\n",
    "# np.save(\"val_acc.npy\", val_acc)\n",
    "# np.save(\"loss.npy\", loss)\n",
    "# np.save(\"val_loss.npy\", val_loss)"
   ]
  },
  {
   "cell_type": "code",
   "execution_count": null,
   "metadata": {},
   "outputs": [],
   "source": []
  },
  {
   "cell_type": "code",
   "execution_count": null,
   "metadata": {},
   "outputs": [],
   "source": []
  }
 ],
 "metadata": {
  "kernelspec": {
   "display_name": "Python 3",
   "language": "python",
   "name": "python3"
  },
  "language_info": {
   "codemirror_mode": {
    "name": "ipython",
    "version": 3
   },
   "file_extension": ".py",
   "mimetype": "text/x-python",
   "name": "python",
   "nbconvert_exporter": "python",
   "pygments_lexer": "ipython3",
   "version": "3.7.4"
  }
 },
 "nbformat": 4,
 "nbformat_minor": 2
}
