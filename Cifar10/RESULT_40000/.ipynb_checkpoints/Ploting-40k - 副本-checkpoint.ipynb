{
 "cells": [
  {
   "cell_type": "code",
   "execution_count": 1,
   "metadata": {},
   "outputs": [],
   "source": [
    "import numpy as np\n",
    "import os\n",
    "import matplotlib.pyplot as plt\n",
    "import glob\n",
    "import statistics\n",
    "import pandas as pd\n",
    "%matplotlib inline"
   ]
  },
  {
   "cell_type": "code",
   "execution_count": 2,
   "metadata": {},
   "outputs": [],
   "source": [
    "## basic read in"
   ]
  },
  {
   "cell_type": "code",
   "execution_count": 3,
   "metadata": {},
   "outputs": [],
   "source": [
    "def max_acc_point(acc_list):\n",
    "    acc_point = np.argmax(acc_list)\n",
    "    return acc_point"
   ]
  },
  {
   "cell_type": "code",
   "execution_count": 4,
   "metadata": {},
   "outputs": [],
   "source": [
    "def min_loss_point(loss_list):\n",
    "    loss_point = np.argmin(loss_list)\n",
    "    return loss_point"
   ]
  },
  {
   "cell_type": "code",
   "execution_count": 5,
   "metadata": {},
   "outputs": [],
   "source": [
    "def es_point(acc_list,p): # p means steps after the max index\n",
    "    max_num = 0\n",
    "    count = 0\n",
    "    for i in range(len(acc_list)):\n",
    "        if acc_list[i]>max_num:\n",
    "            max_num = acc_list[i]\n",
    "            count = 0\n",
    "        count = count+1\n",
    "        if count>p:\n",
    "            return i-1\n",
    "    return int(len(acc_list)-1)"
   ]
  },
  {
   "cell_type": "code",
   "execution_count": 6,
   "metadata": {},
   "outputs": [],
   "source": [
    "def windowed(s,half_window): # s in a list\n",
    "    s_mean=[]\n",
    "    s_var=[]\n",
    "    window_size = half_window*2\n",
    "    for i in range(len(s)-window_size+1):\n",
    "        k = i + half_window\n",
    "        s_sub=s[k-half_window:k+half_window]\n",
    "        sub_mean=sum(s_sub)/len(s_sub)\n",
    "        s_mean.append(sub_mean)\n",
    "        sub_var=statistics.variance(s_sub)\n",
    "        s_var.append(sub_var)\n",
    "    return s_mean,s_var"
   ]
  },
  {
   "cell_type": "code",
   "execution_count": 7,
   "metadata": {},
   "outputs": [],
   "source": [
    "def read_acc_mean(files,i,speed=1):\n",
    "    fileset = pd.concat( [pd.read_csv(f,header=None,sep=' ',names=['loss','acc'])['acc'] for f in files], axis=1)\n",
    "    normalset = pd.concat( [fileset.iloc[:,i] for i in range(len(fileset.columns)) if fileset.iloc[:,i].isnull().any()==False], axis=1)\n",
    "    normalset_mean = normalset.mean(axis=1).dropna()\n",
    "    if speed==1:\n",
    "        return normalset_mean   \n",
    "    delayset = pd.concat( [fileset.iloc[:,i] for i in range(len(fileset.columns)) if fileset.iloc[:,i].isnull().any()==True], axis=1)\n",
    "    delayset_mean = delayset.mean(axis=1).dropna()\n",
    "    return normalset_mean,delayset_mean\n",
    "def read_loss_mean(files,i,speed=1):\n",
    "    fileset = pd.concat( [pd.read_csv(f,header=None,sep=' ',names=['loss','acc'])['loss'] for f in files], axis=1)\n",
    "    normalset = pd.concat( [fileset.iloc[:,i] for i in range(len(fileset.columns)) if fileset.iloc[:,i].isnull().any()==False], axis=1)\n",
    "    normalset_mean = normalset.mean(axis=1).dropna()\n",
    "    if speed==1:\n",
    "        return normalset_mean   \n",
    "    delayset = pd.concat( [fileset.iloc[:,i] for i in range(len(fileset.columns)) if fileset.iloc[:,i].isnull().any()==True], axis=1)\n",
    "    delayset_mean = delayset.mean(axis=1).dropna()\n",
    "    return normalset_mean,delayset_mean"
   ]
  },
  {
   "cell_type": "code",
   "execution_count": 8,
   "metadata": {},
   "outputs": [],
   "source": [
    "## how to plot"
   ]
  },
  {
   "cell_type": "code",
   "execution_count": 9,
   "metadata": {},
   "outputs": [],
   "source": [
    "def plot_line(i,k,basedir,result,lab,addon=''):\n",
    "    s1=np.load(os.path.join(basedir,result[k]))\n",
    "    p=1000\n",
    "    s1_epo = [i+1 for i in s1[0][:p]]\n",
    "    ax[i].plot(s1_epo,s1[1][:p], label=lab[k]+addon)"
   ]
  },
  {
   "cell_type": "code",
   "execution_count": 10,
   "metadata": {},
   "outputs": [],
   "source": [
    "def plot_window_acc(i,k,half_window,basedir,result,lab,line_color,dot_color,addon=''):\n",
    "    s1=np.load(os.path.join(basedir,result[k]))\n",
    "    p=1000\n",
    "    (s_mean,s_varience)=windowed(s1[1][:p],half_window)\n",
    "    s_epo=[i+1 for i in range(len(s_mean))]\n",
    "    ax[i].plot(s_epo,s_mean, label=lab[k]+addon,color = line_color) # can also plot s_varience if want\n",
    "    (s_loss,_)=windowed(s1[1][:p],half_window_size)\n",
    "    \n",
    "    index_min_loss = min_loss_point(s_loss)\n",
    "    ax[i].plot(index_min_loss,s_mean[index_min_loss],dot_color)\n",
    "\n",
    "#     index_max=np.argmax(s_mean)\n",
    "#     ax[i].plot(index_max,s_mean[index_max],dot_color)\n"
   ]
  },
  {
   "cell_type": "code",
   "execution_count": 11,
   "metadata": {},
   "outputs": [],
   "source": [
    "def plot_file_acc(i,k,basedir,node_dir,lab,speed=1,filename='self_EVAL.txt'):\n",
    "    files = glob.glob(basedir +'/'+ node_dir[k]+ '/worker_nodes/*/'+filename)\n",
    "    linelab = lab[k]\n",
    "    if speed==1:\n",
    "        normalset_mean = read_loss_mean(files,i,speed)\n",
    "        set_plt = [i+1 for i in range(len(normalset_mean))]\n",
    "        ax[i].plot(set_plt,normalset_mean, label=linelab+'_usual')\n",
    "#         print('only usual')\n",
    "        \n",
    "    else:\n",
    "        normalset_mean,delayset_mean = read_acc_mean(files,i,speed)\n",
    "        \n",
    "        normal_plt = [i+1 for i in range(len(normalset_mean))]\n",
    "        ax[i].plot(normal_plt,normalset_mean, label=linelab+'_usual')\n",
    "        \n",
    "        new_delay_set = [val for val in delayset_mean for _ in range(speed)]\n",
    "        delay_plt = [i+1 for i in range(len(new_delay_set))]\n",
    "        ax[i].plot(delay_plt,new_delay_set, label=linelab+'_delay')"
   ]
  },
  {
   "cell_type": "code",
   "execution_count": 12,
   "metadata": {},
   "outputs": [],
   "source": [
    "def plot_file_window_acc(i,k,half_window,basedir,node_dir,lab,speed=1,filename='self_EVAL.txt'):\n",
    "    files = glob.glob(basedir +'/'+ node_dir[k]+ '/worker_nodes/*/'+filename)\n",
    "    linelab = lab[k]\n",
    "    if speed==1:\n",
    "        normalset_mean = read_loss_mean(files,i,speed)\n",
    "        (s_mean,s_varience)=windowed(normalset_mean,half_window)\n",
    "        s_epo=[i+half_window+1 for i in range(len(s_mean))]\n",
    "        ax[i].plot(s_epo,s_mean, label=linelab)\n",
    "    else:\n",
    "        normalset_mean,delayset_mean = read_loss_mean(files,i,speed)\n",
    "\n",
    "        (s_mean,s_varience)=windowed(normalset_mean,half_window)\n",
    "        s_epo=[i+1 for i in range(len(s_mean))]\n",
    "        ax[i].plot(s_epo,s_mean, label=linelab+'_usual')\n",
    "        \n",
    "        new_delay_set = [val for val in delayset_mean for _ in range(speed)]\n",
    "        (s_mean,s_varience)=windowed(new_delay_set,half_window)\n",
    "        s_epo=[i+half_window+1 for i in range(len(s_mean))]\n",
    "        ax[i].plot(s_epo,s_mean, label=linelab+'_delay')\n"
   ]
  },
  {
   "cell_type": "code",
   "execution_count": null,
   "metadata": {},
   "outputs": [],
   "source": []
  },
  {
   "cell_type": "code",
   "execution_count": null,
   "metadata": {},
   "outputs": [],
   "source": []
  },
  {
   "cell_type": "markdown",
   "metadata": {},
   "source": [
    "## Data Dispersion"
   ]
  },
  {
   "cell_type": "code",
   "execution_count": 13,
   "metadata": {},
   "outputs": [],
   "source": [
    "basedir=os.path.join('DataDispersion')\n",
    "# os.listdir(basedir)"
   ]
  },
  {
   "cell_type": "code",
   "execution_count": 14,
   "metadata": {},
   "outputs": [
    {
     "data": {
      "image/png": "[encoded data removed]",
      "text/plain": [
       "<Figure size 648x216 with 3 Axes>"
      ]
     },
     "metadata": {
      "needs_background": "light"
     },
     "output_type": "display_data"
    }
   ],
   "source": [
    "fig, ax = plt.subplots(nrows=1, ncols=3, sharex=True, sharey=True, figsize=(9, 3))\n",
    "# fig.suptitle('Data Dispersion - testing accuracy',y=1.05,fontsize=16)\n",
    "# fig.suptitle('Data Dispersion - training accuracy',y=1.05,fontsize=16)\n",
    "\n",
    "title_list = ['2c','5c','iid']\n",
    "\n",
    "# in order: dly8-30/12/3, dly20, dly32\n",
    "result=[\n",
    "    '2c.10w.40000.loc1.earlystop1000.20200521-163612.npy',\n",
    "    '2c.40w.40000.loc1.earlystop1000.20200522-110021.npy',\n",
    "    \n",
    "    '5c.10w.40000.loc1.earlystop1000.20200521-171047.npy',\n",
    "    '5c.40w.40000.loc1.earlystop1000.20200522-110113.npy',\n",
    "    \n",
    "    'iid.10w.40000.loc1.earlystop1000.20200521-172951.npy',\n",
    "    'iid.40w.40000.loc1.earlystop1000.20200522-105548.npy',\n",
    "]\n",
    "\n",
    "lab=[\n",
    "    '10w','40w',\n",
    "    '10w','40w',\n",
    "    '10w','40w',\n",
    "]\n",
    "\n",
    "node_dir = [\n",
    "    'loc2c1s','dd2',\n",
    "    'loc5c1s','dd5',\n",
    "    'lociid1s','ddiid',\n",
    "]\n",
    "\n",
    "\n",
    "line_color_list = [ 'r','b', 'g',  'm', 'c','y']\n",
    "dot_color_list = [ 'rs',  'bs','gs', 'ms', 'cs','ys']\n",
    "\n",
    "\n",
    "for i in range(3):\n",
    "    \n",
    "    for j in [0,1]:\n",
    "        \n",
    "        k = i*2+j\n",
    "        half_window_size=10\n",
    "        speed = 1     \n",
    "        half_window=10\n",
    "        \n",
    "        line_color = line_color_list[j]\n",
    "        dot_color = dot_color_list[j]\n",
    "        \n",
    "#         plot_line(i,k,basedir,result,lab,addon='')\n",
    "#         plot_file_acc(i,k,basedir,node_dir,lab,speed,filename='self_EVAL.txt')\n",
    "        plot_window_acc(i,k,half_window,basedir,result,lab,line_color,dot_color,addon='')\n",
    "#         plot_file_window_acc(i,k,half_window,basedir,node_dir,lab,speed,filename='self_EVAL.txt')\n",
    "        \n",
    "\n",
    "    ax[1].set_xlabel('Global Rounds',fontsize=12)\n",
    "#     ax[i].set_ylim([0, 1.1])\n",
    "    ax[i].grid(axis=\"y\",ls='-.')\n",
    "    ax[i].set_title(title_list[i])\n",
    "ax[0].set_ylabel('Windowed Loss',fontsize=12)\n",
    "ax[2].legend() \n",
    "plt.tight_layout()\n",
    "plt.show()"
   ]
  },
  {
   "cell_type": "code",
   "execution_count": null,
   "metadata": {},
   "outputs": [],
   "source": []
  },
  {
   "cell_type": "code",
   "execution_count": null,
   "metadata": {},
   "outputs": [],
   "source": []
  },
  {
   "cell_type": "code",
   "execution_count": null,
   "metadata": {},
   "outputs": [],
   "source": []
  },
  {
   "cell_type": "markdown",
   "metadata": {},
   "source": [
    "## Bad Node"
   ]
  },
  {
   "cell_type": "code",
   "execution_count": 15,
   "metadata": {},
   "outputs": [],
   "source": [
    "basedir=os.path.join('BadNode')\n",
    "# os.listdir(basedir)"
   ]
  },
  {
   "cell_type": "code",
   "execution_count": 16,
   "metadata": {},
   "outputs": [
    {
     "data": {
      "image/png": "[encoded data removed]",
      "text/plain": [
       "<Figure size 648x216 with 3 Axes>"
      ]
     },
     "metadata": {
      "needs_background": "light"
     },
     "output_type": "display_data"
    }
   ],
   "source": [
    "fig, ax = plt.subplots(nrows=1, ncols=3, sharex=True, sharey=True, figsize=(9, 3))\n",
    "# fig.suptitle('Abmormal node - testing accuracy',y=1.05,fontsize=16)\n",
    "# fig.suptitle('Abmormal node - training accuracy',y=1.05,fontsize=16)\n",
    "\n",
    "title_list = ['2c','5c','iid']\n",
    "\n",
    "# in order: dly8-30/12/3, dly20, dly32\n",
    "result=[\n",
    "    '2c.10w.40000.loc1.earlystop1000.20200521-163612.npy',\n",
    "    '2c.10w.40000.plus1bad_each400.loc1.earlystop1000.20200521-150153.npy',\n",
    "    '2c.10w.40000.plus1bad_each4000.loc1.earlystop1000.20200521-152141.npy',\n",
    "    \n",
    "    '5c.10w.40000.loc1.earlystop1000.20200521-171047.npy',\n",
    "    '5c.10w.40000.plus1bad_each400.loc1.earlystop1000.20200521-152400.npy',\n",
    "    '5c.10w.40000.plus1bad_each4000.loc1.earlystop1000.20200521-165039.npy',\n",
    "    \n",
    "    'iid.10w.40000.loc1.earlystop1000.20200521-172951.npy',\n",
    "    'iid.10w.40000.plus1bad_each400.loc1.earlystop1000.20200521-185542.npy',\n",
    "    'iid.10w.40000.plus1bad_each4000.loc1.earlystop1000.20200521-152331.npy',\n",
    "]\n",
    "\n",
    "lab=[\n",
    "    '0','1%','10%',  \n",
    "    '0','1%','10%',  \n",
    "    '0','1%','10%',  \n",
    "\n",
    "]\n",
    "\n",
    "\n",
    "node_dir = [\n",
    "    'loc2c1s','bad2c400','bad2c4000',\n",
    "    'loc5c1s','bad5c400','bad5c4000',\n",
    "    'lociid1s','badiid400','badiid4000',\n",
    "]\n",
    "\n",
    "\n",
    "line_color_list = [ 'r','b', 'g',  'm', 'c','y']\n",
    "dot_color_list = [ 'rs',  'bs','gs', 'ms', 'cs','ys']\n",
    "\n",
    "for i in range(3):\n",
    "    \n",
    "    for j in [0,1,2]:\n",
    "        k = i*3+j\n",
    "        half_window_size=10\n",
    "        speed = 1     \n",
    "        half_window=10\n",
    "        \n",
    "        line_color = line_color_list[j]\n",
    "        dot_color = dot_color_list[j]\n",
    "        \n",
    "#         plot_line(i,k,basedir,result,lab,addon='')\n",
    "#         plot_file_acc(i,k,basedir,node_dir,lab,speed,filename='self_EVAL.txt')\n",
    "        plot_window_acc(i,k,half_window,basedir,result,lab,line_color,dot_color,addon='')\n",
    "#         plot_file_window_acc(i,k,half_window,basedir,node_dir,lab,speed,filename='self_EVAL.txt')\n",
    "        \n",
    "\n",
    "    ax[1].set_xlabel('Global Rounds',fontsize=12)\n",
    "#     ax[i].set_ylim([0, 1.1])\n",
    "    ax[i].grid(axis=\"y\",ls='-.')\n",
    "    ax[i].set_title(title_list[i])\n",
    "ax[0].set_ylabel('Windowed Loss',fontsize=12)\n",
    "ax[2].legend() \n",
    "plt.tight_layout()\n",
    "plt.show()"
   ]
  },
  {
   "cell_type": "code",
   "execution_count": null,
   "metadata": {},
   "outputs": [],
   "source": []
  },
  {
   "cell_type": "code",
   "execution_count": null,
   "metadata": {},
   "outputs": [],
   "source": []
  },
  {
   "cell_type": "code",
   "execution_count": null,
   "metadata": {},
   "outputs": [],
   "source": []
  },
  {
   "cell_type": "markdown",
   "metadata": {},
   "source": [
    "## Local Steps"
   ]
  },
  {
   "cell_type": "code",
   "execution_count": 17,
   "metadata": {},
   "outputs": [],
   "source": [
    "basedir=os.path.join('LocalStep')\n",
    "# os.listdir(basedir)"
   ]
  },
  {
   "cell_type": "code",
   "execution_count": null,
   "metadata": {},
   "outputs": [],
   "source": []
  },
  {
   "cell_type": "markdown",
   "metadata": {},
   "source": [
    "## Share Data"
   ]
  },
  {
   "cell_type": "code",
   "execution_count": 18,
   "metadata": {},
   "outputs": [],
   "source": [
    "basedir=os.path.join('ShareData')\n",
    "# os.listdir(basedir)"
   ]
  },
  {
   "cell_type": "code",
   "execution_count": null,
   "metadata": {},
   "outputs": [],
   "source": []
  },
  {
   "cell_type": "markdown",
   "metadata": {},
   "source": [
    "## Late update in some node"
   ]
  },
  {
   "cell_type": "code",
   "execution_count": 19,
   "metadata": {},
   "outputs": [],
   "source": [
    "basedir=os.path.join('DelayUpdate')\n",
    "# os.listdir(basedir)"
   ]
  },
  {
   "cell_type": "code",
   "execution_count": 20,
   "metadata": {},
   "outputs": [
    {
     "data": {
      "image/png": "[encoded data removed]",
      "text/plain": [
       "<Figure size 648x216 with 3 Axes>"
      ]
     },
     "metadata": {
      "needs_background": "light"
     },
     "output_type": "display_data"
    }
   ],
   "source": [
    "fig, ax = plt.subplots(nrows=1, ncols=3, sharex=True, sharey=False, figsize=(9, 3))\n",
    "# fig.suptitle('Delayed Update - testing accuracy',y=1.05,fontsize=16)\n",
    "# fig.suptitle('Delayed Update - training accuracy',y=1.05,fontsize=16)\n",
    "\n",
    "title_list = ['2c','5c','iid']\n",
    "\n",
    "# in order: dly8-30/12/3, dly20, dly32\n",
    "result=[\n",
    "    '2c.40w.40000.loc1.earlystop1000.20200522-110021.npy',\n",
    "    '2c.40w.40000.dly10.speed3.loc1.earlystop1000.20200522-081302.npy',\n",
    "    '2c.40w.40000.dly20.speed3.loc1.earlystop1000.20200522-010225.npy',\n",
    "    '2c.40w.40000.dly30.speed3.loc1.earlystop1000.20200521-182838.npy',    \n",
    "    '2c.40w.40000.dly10.speed15.loc1.earlystop1000.20200522-051203.npy',    \n",
    "    '2c.40w.40000.dly10.speed30.loc1.earlystop1000.20200522-050704.npy',\n",
    "    \n",
    "    \n",
    "    '5c.40w.40000.loc1.earlystop1000.20200522-110113.npy',\n",
    "    '5c.40w.40000.dly10.speed3.loc1.earlystop1000.20200522-074328.npy',\n",
    "    '5c.40w.40000.dly20.speed3.loc1.earlystop1000.20200522-010608.npy',\n",
    "    '5c.40w.40000.dly30.speed3.loc1.earlystop1000.20200521-184510.npy',  \n",
    "    '5c.40w.40000.dly10.speed15.loc1.earlystop1000.20200522-043519.npy',    \n",
    "    '5c.40w.40000.dly10.speed30.loc1.earlystop1000.20200522-053311.npy',\n",
    "\n",
    "\n",
    "    'iid.40w.40000.loc1.earlystop1000.20200522-105548.npy',\n",
    "    'iid.40w.40000.dly10.speed3.loc1.earlystop1000.20200522-072117.npy',\n",
    "    'iid.40w.40000.dly20.speed3.loc1.earlystop1000.20200522-012812.npy',\n",
    "    'iid.40w.40000.dly30.speed3.loc1.earlystop1000.20200521-185705.npy',   \n",
    "    'iid.40w.40000.dly10.speed15.loc1.earlystop1000.20200522-053936.npy',    \n",
    "    'iid.40w.40000.dly10.speed30.loc1.earlystop1000.20200522-073107.npy',  \n",
    "]\n",
    "\n",
    "lab=[\n",
    "    'no delay','25%_s3','50%_s3','75%_s3', '25%_s15','25%_s30', \n",
    "    'no delay','25%_s3','50%_s3','75%_s3', '25%_s15','25%_s30',     \n",
    "    'no delay','25%_s3','50%_s3','75%_s3', '25%_s15','25%_s30', \n",
    "]\n",
    "\n",
    "\n",
    "node_dir = [\n",
    "    'dd2', 'du2c1','du2c2','du2c3','du2c4','du2c5',\n",
    "    'dd3', 'du5c1','du5c2','du5c3','du5c4','du5c5',\n",
    "    'ddiid', 'duiid1','duiid2','duiid3','duiid4','duiid5'\n",
    "]\n",
    "\n",
    "speed_list = [1,3,3,3,15,30,1,3,3,3,15,30,1,3,3,3,15,30]\n",
    "\n",
    "\n",
    "\n",
    "line_color_list = [ 'r','b', 'g',  'm', 'c','y']\n",
    "dot_color_list = [ 'rs',  'bs','gs', 'ms', 'cs','ys']\n",
    "\n",
    "for i in range(3):\n",
    "    \n",
    "    for j in [0,1,2,3]:\n",
    "#     for j in [0,1,4,5]:\n",
    "        \n",
    "        k = i*6+j\n",
    "        half_window_size=10\n",
    "        speed = speed_list[k]\n",
    "#         print(speed)\n",
    "        \n",
    "        half_window=10\n",
    "        \n",
    "        line_color = line_color_list[j]\n",
    "        dot_color = dot_color_list[j]\n",
    "        \n",
    "#         plot_line(i,k,basedir,result,lab,addon='')\n",
    "#         plot_file_acc(i,k,basedir,node_dir,lab,speed,filename='self_EVAL.txt')\n",
    "        plot_window_acc(i,k,half_window,basedir,result,lab,line_color,dot_color,addon='')\n",
    "#         plot_file_window_acc(i,k,half_window,basedir,node_dir,lab,speed,filename='self_EVAL.txt')\n",
    "        \n",
    "\n",
    "    ax[1].set_xlabel('Global Rounds',fontsize=12)\n",
    "#     ax[i].set_ylim([0, 1.1])\n",
    "    ax[i].grid(axis=\"y\",ls='-.')\n",
    "    ax[i].set_title(title_list[i])\n",
    "    \n",
    "# ax[0].set_ylim([0.1, 0.1+0.35])\n",
    "# ax[1].set_ylim([0.68, 0.78])\n",
    "# ax[2].set_ylim([0.75, 0.85])\n",
    "\n",
    "\n",
    "    \n",
    "ax[0].set_ylabel('Windowed Loss',fontsize=12)\n",
    "ax[2].legend() \n",
    "plt.tight_layout()\n",
    "plt.show()"
   ]
  },
  {
   "cell_type": "code",
   "execution_count": null,
   "metadata": {},
   "outputs": [],
   "source": []
  },
  {
   "cell_type": "code",
   "execution_count": null,
   "metadata": {},
   "outputs": [],
   "source": []
  },
  {
   "cell_type": "code",
   "execution_count": null,
   "metadata": {},
   "outputs": [],
   "source": []
  },
  {
   "cell_type": "code",
   "execution_count": null,
   "metadata": {},
   "outputs": [],
   "source": []
  }
 ],
 "metadata": {
  "kernelspec": {
   "display_name": "Python 3",
   "language": "python",
   "name": "python3"
  },
  "language_info": {
   "codemirror_mode": {
    "name": "ipython",
    "version": 3
   },
   "file_extension": ".py",
   "mimetype": "text/x-python",
   "name": "python",
   "nbconvert_exporter": "python",
   "pygments_lexer": "ipython3",
   "version": "3.7.4"
  }
 },
 "nbformat": 4,
 "nbformat_minor": 4
}
