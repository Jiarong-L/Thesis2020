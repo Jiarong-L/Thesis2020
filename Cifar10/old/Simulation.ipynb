{
 "cells": [
  {
   "cell_type": "code",
   "execution_count": 1,
   "metadata": {},
   "outputs": [],
   "source": [
    "import tensorflow as tf\n",
    "import numpy as np\n",
    "import os\n",
    "import shutil\n",
    "import matplotlib.pyplot as plt\n",
    "import tensorflow as tf\n",
    "import glob\n",
    "%matplotlib inline"
   ]
  },
  {
   "cell_type": "code",
   "execution_count": 2,
   "metadata": {},
   "outputs": [],
   "source": [
    "gpus = tf.config.experimental.list_physical_devices(device_type='GPU')\n",
    "tf.config.experimental.set_virtual_device_configuration( gpus[0], [tf.config.experimental.VirtualDeviceConfiguration(memory_limit=20)])"
   ]
  },
  {
   "cell_type": "code",
   "execution_count": 3,
   "metadata": {},
   "outputs": [
    {
     "data": {
      "text/plain": [
       "'2.0.1'"
      ]
     },
     "execution_count": 3,
     "metadata": {},
     "output_type": "execute_result"
    }
   ],
   "source": [
    "tf.__version__"
   ]
  },
  {
   "cell_type": "code",
   "execution_count": 4,
   "metadata": {},
   "outputs": [
    {
     "data": {
      "text/plain": [
       "True"
      ]
     },
     "execution_count": 4,
     "metadata": {},
     "output_type": "execute_result"
    }
   ],
   "source": [
    "tf.test.is_gpu_available()"
   ]
  },
  {
   "cell_type": "markdown",
   "metadata": {},
   "source": [
    "### Split the dataset"
   ]
  },
  {
   "cell_type": "code",
   "execution_count": 5,
   "metadata": {},
   "outputs": [],
   "source": [
    "(x_train, y_train), (x_test, y_test) = tf.keras.datasets.cifar10.load_data()  #50000 train, 10000 test"
   ]
  },
  {
   "cell_type": "code",
   "execution_count": 6,
   "metadata": {},
   "outputs": [],
   "source": [
    "category_index=[]     # get a list of turples, each turple is the set of a class i.e. total_set[class_nb][img/label]\n",
    "\n",
    "for i in range(10):\n",
    "    index0 = np.where(y_train == i)\n",
    "    index = index0[0]\n",
    "    np.random.shuffle(index)\n",
    "    category_index.append(index)"
   ]
  },
  {
   "cell_type": "markdown",
   "metadata": {},
   "source": [
    "### Assign data to each worker_node"
   ]
  },
  {
   "cell_type": "code",
   "execution_count": 7,
   "metadata": {},
   "outputs": [],
   "source": [
    "# '''\n",
    "# Scenario iid.10w.5000\n",
    "# Here get 10 worker nodes.\n",
    "# worker: 10 class * 50 class_data  =500\n",
    "# '''\n",
    "# index_list=[]\n",
    "# worker_nb=10\n",
    "# class_nb=10\n",
    "# class_data=50\n",
    "# for j in range(worker_nb):\n",
    "#     index=np.concatenate([category_index[i][j*class_data:j*class_data+class_data] for i in range(class_nb)])\n",
    "#     index_list.append(index)\n",
    "# len(index_list)"
   ]
  },
  {
   "cell_type": "code",
   "execution_count": 9,
   "metadata": {},
   "outputs": [
    {
     "name": "stdout",
     "output_type": "stream",
     "text": [
      "[[0, 1, 2, 3, 4], [1, 2, 3, 4, 5], [2, 3, 4, 5, 6], [3, 4, 5, 6, 7], [4, 5, 6, 7, 8], [5, 6, 7, 8, 9], [6, 7, 8, 9, 0], [7, 8, 9, 0, 1], [8, 9, 0, 1, 2], [9, 0, 1, 2, 3], [0, 1, 2, 3, 4], [1, 2, 3, 4, 5], [2, 3, 4, 5, 6], [3, 4, 5, 6, 7], [4, 5, 6, 7, 8], [5, 6, 7, 8, 9], [6, 7, 8, 9, 0], [7, 8, 9, 0, 1], [8, 9, 0, 1, 2], [9, 0, 1, 2, 3], [0, 1, 2, 3, 4], [1, 2, 3, 4, 5], [2, 3, 4, 5, 6], [3, 4, 5, 6, 7], [4, 5, 6, 7, 8], [5, 6, 7, 8, 9], [6, 7, 8, 9, 0], [7, 8, 9, 0, 1], [8, 9, 0, 1, 2], [9, 0, 1, 2, 3], [0, 1, 2, 3, 4], [1, 2, 3, 4, 5], [2, 3, 4, 5, 6], [3, 4, 5, 6, 7], [4, 5, 6, 7, 8], [5, 6, 7, 8, 9], [6, 7, 8, 9, 0], [7, 8, 9, 0, 1], [8, 9, 0, 1, 2], [9, 0, 1, 2, 3], [0, 1, 2, 3, 4], [1, 2, 3, 4, 5], [2, 3, 4, 5, 6], [3, 4, 5, 6, 7], [4, 5, 6, 7, 8], [5, 6, 7, 8, 9], [6, 7, 8, 9, 0], [7, 8, 9, 0, 1], [8, 9, 0, 1, 2], [9, 0, 1, 2, 3], [0, 1, 2, 3, 4], [1, 2, 3, 4, 5], [2, 3, 4, 5, 6], [3, 4, 5, 6, 7], [4, 5, 6, 7, 8], [5, 6, 7, 8, 9], [6, 7, 8, 9, 0], [7, 8, 9, 0, 1], [8, 9, 0, 1, 2], [9, 0, 1, 2, 3], [0, 1, 2, 3, 4], [1, 2, 3, 4, 5], [2, 3, 4, 5, 6], [3, 4, 5, 6, 7], [4, 5, 6, 7, 8], [5, 6, 7, 8, 9], [6, 7, 8, 9, 0], [7, 8, 9, 0, 1], [8, 9, 0, 1, 2], [9, 0, 1, 2, 3], [0, 1, 2, 3, 4], [1, 2, 3, 4, 5], [2, 3, 4, 5, 6], [3, 4, 5, 6, 7], [4, 5, 6, 7, 8], [5, 6, 7, 8, 9], [6, 7, 8, 9, 0], [7, 8, 9, 0, 1], [8, 9, 0, 1, 2], [9, 0, 1, 2, 3], [0, 1, 2, 3, 4], [1, 2, 3, 4, 5], [2, 3, 4, 5, 6], [3, 4, 5, 6, 7], [4, 5, 6, 7, 8], [5, 6, 7, 8, 9], [6, 7, 8, 9, 0], [7, 8, 9, 0, 1], [8, 9, 0, 1, 2], [9, 0, 1, 2, 3], [0, 1, 2, 3, 4], [1, 2, 3, 4, 5], [2, 3, 4, 5, 6], [3, 4, 5, 6, 7], [4, 5, 6, 7, 8], [5, 6, 7, 8, 9], [6, 7, 8, 9, 0], [7, 8, 9, 0, 1], [8, 9, 0, 1, 2], [9, 0, 1, 2, 3]]\n"
     ]
    },
    {
     "data": {
      "text/plain": [
       "100"
      ]
     },
     "execution_count": 9,
     "metadata": {},
     "output_type": "execute_result"
    }
   ],
   "source": [
    "# '''\n",
    "# Scenario 5c.10w.5000\n",
    "# Here get 10 worker nodes.\n",
    "# worker: 5 class * 100 class_data  =500\n",
    "\n",
    "# '''\n",
    "# index_list=[]\n",
    "# worker_nb=10\n",
    "# class_nb=5\n",
    "# class_data=100\n",
    "\n",
    "# class_set=[]\n",
    "# for i in range(worker_nb):\n",
    "#     x=[i+j for j in range(class_nb)]\n",
    "#     for c in range(len(x)):\n",
    "#         while True:\n",
    "#             if x[c]<10:\n",
    "#                 break\n",
    "#             x[c]=x[c]-10  \n",
    "#     class_set.append(x)\n",
    "# print(class_set)\n",
    "\n",
    "# for j in range(worker_nb):\n",
    "#     index=np.concatenate([category_index[i][j*class_data:j*class_data+class_data] for i in class_set[j]])\n",
    "#     index_list.append(index)\n",
    "# len(index_list)\n"
   ]
  },
  {
   "cell_type": "code",
   "execution_count": 17,
   "metadata": {},
   "outputs": [
    {
     "name": "stdout",
     "output_type": "stream",
     "text": [
      "[[0, 1], [1, 2], [2, 3], [3, 4], [4, 5], [5, 6], [6, 7], [7, 8], [8, 9], [9, 0], [0, 1], [1, 2], [2, 3], [3, 4], [4, 5], [5, 6], [6, 7], [7, 8], [8, 9], [9, 0], [0, 1], [1, 2], [2, 3], [3, 4], [4, 5], [5, 6], [6, 7], [7, 8], [8, 9], [9, 0], [0, 1], [1, 2], [2, 3], [3, 4], [4, 5], [5, 6], [6, 7], [7, 8], [8, 9], [9, 0]]\n"
     ]
    },
    {
     "data": {
      "text/plain": [
       "40"
      ]
     },
     "execution_count": 17,
     "metadata": {},
     "output_type": "execute_result"
    }
   ],
   "source": [
    "# '''\n",
    "# Scenario 2c.10w.5000\n",
    "# Here get 10 worker nodes.\n",
    "# worker: 2 class * 250 class_data  =500\n",
    "\n",
    "# '''\n",
    "# index_list=[]\n",
    "# worker_nb=10\n",
    "# class_nb=2\n",
    "# class_data=250\n",
    "\n",
    "# class_set=[]\n",
    "# for i in range(worker_nb):\n",
    "#     x=[i+j for j in range(class_nb)]\n",
    "#     for c in range(len(x)):\n",
    "#         while True:\n",
    "#             if x[c]<10:\n",
    "#                 break\n",
    "#             x[c]=x[c]-10  \n",
    "#     class_set.append(x)\n",
    "# print(class_set)\n",
    "\n",
    "# for j in range(worker_nb):\n",
    "#     index=np.concatenate([category_index[i][j*class_data:j*class_data+class_data] for i in class_set[j]])\n",
    "#     index_list.append(index)\n",
    "# len(index_list)"
   ]
  },
  {
   "cell_type": "code",
   "execution_count": 18,
   "metadata": {},
   "outputs": [],
   "source": [
    "# '''\n",
    "# Scenario 1c.10w.5000\n",
    "# Here get 10 worker nodes.\n",
    "# worker: 1 class * 500 class_data  =500\n",
    "\n",
    "# '''\n",
    "# index_list=[]\n",
    "# worker_nb=10\n",
    "# class_nb=1\n",
    "# class_data=500\n",
    "# for i in range(worker_nb):\n",
    "#     n=i%10\n",
    "#     k=i//10\n",
    "# #     print(n,k)\n",
    "#     index=category_index[n][class_data*k:class_data*k+class_data]\n",
    "#     index_list.append(index)"
   ]
  },
  {
   "cell_type": "code",
   "execution_count": 19,
   "metadata": {},
   "outputs": [],
   "source": [
    "# '''\n",
    "# Scenario Union-1c\n",
    "# A. 1c.100.40w.4000\n",
    "# B. 10c.10.10w.1000\n",
    "# '''\n",
    "# #A\n",
    "# index_list=[]\n",
    "# worker_nb=40\n",
    "# class_nb=1\n",
    "# class_data=100\n",
    "# for i in range(worker_nb):\n",
    "#     n=i%10\n",
    "#     k=i//10\n",
    "# #     print(n,k)\n",
    "#     index=category_index[n][class_data*k:class_data*k+class_data]\n",
    "#     start_point=class_data*k+class_data\n",
    "#     index_list.append(index)\n",
    "    \n",
    "# print(start_point)\n",
    "\n",
    "\n",
    "# #B\n",
    "# worker_nb=10\n",
    "# class_nb=10\n",
    "# class_data=10\n",
    "# for j in range(worker_nb):\n",
    "#     index=np.concatenate([category_index[i][start_point+j*class_data:start_point+j*class_data+class_data] for i in range(class_nb)])\n",
    "#     end_point=start_point+j*class_data+class_data\n",
    "#     index_list.append(index)\n",
    "# print(end_point)\n",
    "# worker_nb=len(index_list)\n",
    "\n"
   ]
  },
  {
   "cell_type": "code",
   "execution_count": 20,
   "metadata": {},
   "outputs": [],
   "source": [
    "# '''\n",
    "# Scenario Union-2c\n",
    "# A. 2c.100.40w.8000\n",
    "# B. 10c.10.10w.1000\n",
    "# '''\n",
    "# #A\n",
    "# index_list=[]\n",
    "# worker_nb=40\n",
    "# class_nb=2\n",
    "# class_data=100\n",
    "\n",
    "# class_set=[]\n",
    "# for i in range(worker_nb):\n",
    "#     x=[i+j for j in range(class_nb)]\n",
    "#     for c in range(len(x)):\n",
    "#         while True:\n",
    "#             if x[c]<10:\n",
    "#                 break\n",
    "#             x[c]=x[c]-10  \n",
    "#     class_set.append(x)\n",
    "# print(class_set)\n",
    "\n",
    "# for j in range(worker_nb):\n",
    "#     index=np.concatenate([category_index[i][j*class_data:j*class_data+class_data] for i in class_set[j]])\n",
    "#     index_list.append(index)\n",
    "\n",
    "# #B\n",
    "# start_point=800\n",
    "# worker_nb=10\n",
    "# class_nb=10\n",
    "# class_data=10\n",
    "# for j in range(worker_nb):\n",
    "#     index=np.concatenate([category_index[i][start_point+j*class_data:start_point+j*class_data+class_data] for i in range(class_nb)])\n",
    "#     end_point=start_point+j*class_data+class_data\n",
    "#     index_list.append(index)\n",
    "# print(end_point)\n",
    "# worker_nb=len(index_list)"
   ]
  },
  {
   "cell_type": "code",
   "execution_count": 21,
   "metadata": {},
   "outputs": [
    {
     "data": {
      "text/plain": [
       "40"
      ]
     },
     "execution_count": 21,
     "metadata": {},
     "output_type": "execute_result"
    }
   ],
   "source": [
    "len(index_list)"
   ]
  },
  {
   "cell_type": "code",
   "execution_count": 22,
   "metadata": {},
   "outputs": [
    {
     "data": {
      "text/plain": [
       "(array([0, 1], dtype=uint8), array([50, 50], dtype=int64))"
      ]
     },
     "execution_count": 22,
     "metadata": {},
     "output_type": "execute_result"
    }
   ],
   "source": [
    "index1=index_list[0]\n",
    "np.unique(y_train[index1],return_counts=True)"
   ]
  },
  {
   "cell_type": "markdown",
   "metadata": {},
   "source": [
    "### Creat & save index to each worker_node"
   ]
  },
  {
   "cell_type": "code",
   "execution_count": null,
   "metadata": {},
   "outputs": [],
   "source": [
    "base_path='worker_nodes'\n",
    "workers=['model'+str(int(i+1)) for i in range(worker_nb)] #save like 'worker_nodes/model1/index.npy'\n",
    "shutil.rmtree(base_path, ignore_errors=True)\n",
    "for i in range(worker_nb):\n",
    "    worker=workers[i]\n",
    "    worker_dir=os.path.join(base_path,worker)\n",
    "    try:\n",
    "        os.makedirs(worker_dir)\n",
    "    except:\n",
    "        pass\n",
    "    file_path = os.path.join(worker_dir,'index.npy') ## TODO: copy the training code of the worker to this dir\n",
    "    np.save(file_path, index_list[i])"
   ]
  },
  {
   "cell_type": "markdown",
   "metadata": {},
   "source": [
    "### Build model & save"
   ]
  },
  {
   "cell_type": "code",
   "execution_count": null,
   "metadata": {},
   "outputs": [],
   "source": [
    "index_collection=glob.glob('worker_nodes/*/index.npy')\n",
    "central_weight_path=os.path.join('central_node','ANN_model.h5')"
   ]
  },
  {
   "cell_type": "code",
   "execution_count": null,
   "metadata": {},
   "outputs": [],
   "source": [
    "from models import ANN_model\n",
    "\n",
    "model=ANN_model()\n",
    "shutil.rmtree('central_node', ignore_errors=True)\n",
    "os.makedirs('central_node')\n",
    "model.save_weights(central_weight_path)"
   ]
  },
  {
   "cell_type": "code",
   "execution_count": null,
   "metadata": {},
   "outputs": [],
   "source": []
  },
  {
   "cell_type": "code",
   "execution_count": null,
   "metadata": {},
   "outputs": [],
   "source": []
  }
 ],
 "metadata": {
  "kernelspec": {
   "display_name": "Python 3",
   "language": "python",
   "name": "python3"
  },
  "language_info": {
   "codemirror_mode": {
    "name": "ipython",
    "version": 3
   },
   "file_extension": ".py",
   "mimetype": "text/x-python",
   "name": "python",
   "nbconvert_exporter": "python",
   "pygments_lexer": "ipython3",
   "version": "3.7.4"
  }
 },
 "nbformat": 4,
 "nbformat_minor": 2
}
