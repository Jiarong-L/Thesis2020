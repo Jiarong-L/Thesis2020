{
 "cells": [
  {
   "cell_type": "code",
   "execution_count": 1,
   "metadata": {},
   "outputs": [],
   "source": [
    "import os\n",
    "import glob\n",
    "import numpy as np\n",
    "import pandas as pd\n",
    "import matplotlib.pyplot as plt\n",
    "%matplotlib inline"
   ]
  },
  {
   "cell_type": "code",
   "execution_count": 3,
   "metadata": {},
   "outputs": [
    {
     "data": {
      "text/plain": [
       "['.ipynb_checkpoints',\n",
       " 'aOLD',\n",
       " 'BadNode',\n",
       " 'DataDispersion',\n",
       " 'DelayUpdate',\n",
       " 'EvalTest',\n",
       " 'LocalStep',\n",
       " 'Ploting.ipynb',\n",
       " 'Ploting2.ipynb',\n",
       " 'ShareData',\n",
       " '未命名.ipynb']"
      ]
     },
     "execution_count": 3,
     "metadata": {},
     "output_type": "execute_result"
    }
   ],
   "source": [
    "base_dir = os.listdir()\n",
    "base_dir"
   ]
  },
  {
   "cell_type": "code",
   "execution_count": 12,
   "metadata": {},
   "outputs": [
    {
     "data": {
      "text/plain": [
       "['evl2c/worker_nodes\\\\model1\\\\node_EVAL_before_training.txt',\n",
       " 'evl2c/worker_nodes\\\\model10\\\\node_EVAL_before_training.txt',\n",
       " 'evl2c/worker_nodes\\\\model2\\\\node_EVAL_before_training.txt',\n",
       " 'evl2c/worker_nodes\\\\model3\\\\node_EVAL_before_training.txt',\n",
       " 'evl2c/worker_nodes\\\\model4\\\\node_EVAL_before_training.txt',\n",
       " 'evl2c/worker_nodes\\\\model5\\\\node_EVAL_before_training.txt',\n",
       " 'evl2c/worker_nodes\\\\model6\\\\node_EVAL_before_training.txt',\n",
       " 'evl2c/worker_nodes\\\\model7\\\\node_EVAL_before_training.txt',\n",
       " 'evl2c/worker_nodes\\\\model8\\\\node_EVAL_before_training.txt',\n",
       " 'evl2c/worker_nodes\\\\model9\\\\node_EVAL_before_training.txt']"
      ]
     },
     "execution_count": 12,
     "metadata": {},
     "output_type": "execute_result"
    }
   ],
   "source": [
    "files = glob.glob(base_dir + '/worker_nodes/*/self_EVAL.txt')\n",
    "files = glob.glob(base_dir + '/worker_nodes/*/node_EVAL_after_training.txt')\n",
    "files = glob.glob(base_dir + '/worker_nodes/*/node_EVAL_before_training.txt')\n",
    "files"
   ]
  },
  {
   "cell_type": "code",
   "execution_count": 13,
   "metadata": {},
   "outputs": [],
   "source": [
    "fileset = pd.concat( [pd.read_csv(f,header=None,sep=' ',names=['loss','acc'])['acc'] for f in files], axis=1)"
   ]
  },
  {
   "cell_type": "code",
   "execution_count": 14,
   "metadata": {},
   "outputs": [],
   "source": [
    "set_mean = fileset.mean(axis=1)\n",
    "set_plt = [i+1 for i in range(len(set_mean))]"
   ]
  },
  {
   "cell_type": "code",
   "execution_count": 15,
   "metadata": {},
   "outputs": [
    {
     "data": {
      "text/plain": [
       "[<matplotlib.lines.Line2D at 0x297ac9d4148>]"
      ]
     },
     "execution_count": 15,
     "metadata": {},
     "output_type": "execute_result"
    },
    {
     "data": {
      "image/png": "[encoded data removed]",
      "text/plain": [
       "<Figure size 432x288 with 1 Axes>"
      ]
     },
     "metadata": {
      "needs_background": "light"
     },
     "output_type": "display_data"
    }
   ],
   "source": [
    "plt.plot(set_plt,set_mean)"
   ]
  },
  {
   "cell_type": "code",
   "execution_count": null,
   "metadata": {},
   "outputs": [],
   "source": []
  },
  {
   "cell_type": "code",
   "execution_count": null,
   "metadata": {},
   "outputs": [],
   "source": []
  }
 ],
 "metadata": {
  "kernelspec": {
   "display_name": "Python 3",
   "language": "python",
   "name": "python3"
  },
  "language_info": {
   "codemirror_mode": {
    "name": "ipython",
    "version": 3
   },
   "file_extension": ".py",
   "mimetype": "text/x-python",
   "name": "python",
   "nbconvert_exporter": "python",
   "pygments_lexer": "ipython3",
   "version": "3.7.4"
  }
 },
 "nbformat": 4,
 "nbformat_minor": 2
}
