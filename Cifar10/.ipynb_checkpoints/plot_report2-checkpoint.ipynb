{
 "cells": [
  {
   "cell_type": "code",
   "execution_count": 1,
   "metadata": {},
   "outputs": [],
   "source": [
    "import numpy as np\n",
    "import os\n",
    "import matplotlib.pyplot as plt\n",
    "import glob\n",
    "import statistics\n",
    "from scipy import stats\n",
    "import pandas as pd\n",
    "import matplotlib.patches as mpatches\n",
    "from scipy import stats\n",
    "%matplotlib inline"
   ]
  },
  {
   "cell_type": "code",
   "execution_count": 2,
   "metadata": {},
   "outputs": [],
   "source": [
    "## basic read in"
   ]
  },
  {
   "cell_type": "code",
   "execution_count": 3,
   "metadata": {},
   "outputs": [],
   "source": [
    "def max_acc_point(acc_list):\n",
    "    acc_point = np.argmax(acc_list)\n",
    "    return acc_point"
   ]
  },
  {
   "cell_type": "code",
   "execution_count": 4,
   "metadata": {},
   "outputs": [],
   "source": [
    "def min_loss_point(loss_list):\n",
    "    loss_point = np.argmin(loss_list)\n",
    "    return loss_point"
   ]
  },
  {
   "cell_type": "code",
   "execution_count": 5,
   "metadata": {},
   "outputs": [],
   "source": [
    "def index_less_than(mylist,myvalue,value2):\n",
    "    for i in range(len(mylist)):\n",
    "        if mylist[i]<myvalue:\n",
    "            if mylist[i]>0.78:\n",
    "                return len(mylist)-1\n",
    "            else:\n",
    "                return i\n",
    "#             if mylist[i]<value2:\n",
    "#                        return i\n",
    "    return len(mylist)-1"
   ]
  },
  {
   "cell_type": "code",
   "execution_count": 6,
   "metadata": {},
   "outputs": [],
   "source": [
    "def es_point(acc_list,p): # p means steps after the max index\n",
    "    max_num = 0\n",
    "    count = 0\n",
    "    for i in range(len(acc_list)):\n",
    "        if acc_list[i]>max_num:\n",
    "            max_num = acc_list[i]\n",
    "            count = 0\n",
    "        count = count+1\n",
    "        if count>p:\n",
    "            return i-1\n",
    "    return int(len(acc_list)-1)"
   ]
  },
  {
   "cell_type": "code",
   "execution_count": 7,
   "metadata": {},
   "outputs": [],
   "source": [
    "def windowed(s,half_window): # s is a list\n",
    "    s_mean=[]\n",
    "    s_var=[]\n",
    "    window_size = half_window*2 + 1\n",
    "    for i in range(len(s)-window_size+1):\n",
    "        k = i + half_window \n",
    "        s_sub=s[k-half_window:k+half_window+1]\n",
    "        sub_mean=sum(s_sub)/len(s_sub)\n",
    "        s_mean.append(sub_mean)\n",
    "        sub_var=statistics.variance(s_sub)\n",
    "        s_var.append(sub_var)\n",
    "    return s_mean,s_var"
   ]
  },
  {
   "cell_type": "code",
   "execution_count": null,
   "metadata": {},
   "outputs": [],
   "source": []
  },
  {
   "cell_type": "code",
   "execution_count": 8,
   "metadata": {},
   "outputs": [],
   "source": [
    "def read_acc_mean(files,i,speed=1):\n",
    "    fileset = pd.concat( [pd.read_csv(f,header=None,sep=' ',names=['loss','acc'])['acc'] for f in files], axis=1)\n",
    "    normalset = pd.concat( [fileset.iloc[:,i] for i in range(len(fileset.columns)) if fileset.iloc[:,i].isnull().any()==False], axis=1)\n",
    "    normalset_mean = normalset.mean(axis=1).dropna()\n",
    "    if speed==1:\n",
    "        return normalset_mean   \n",
    "    delayset = pd.concat( [fileset.iloc[:,i] for i in range(len(fileset.columns)) if fileset.iloc[:,i].isnull().any()==True], axis=1)\n",
    "    delayset_mean = delayset.mean(axis=1).dropna()\n",
    "    return normalset_mean,delayset_mean\n",
    "def read_loss_mean(files,i,speed=1):\n",
    "    fileset = pd.concat( [pd.read_csv(f,header=None,sep=' ',names=['loss','acc'])['loss'] for f in files], axis=1)\n",
    "    normalset = pd.concat( [fileset.iloc[:,i] for i in range(len(fileset.columns)) if fileset.iloc[:,i].isnull().any()==False], axis=1)\n",
    "    normalset_mean = normalset.mean(axis=1).dropna()\n",
    "    if speed==1:\n",
    "        return normalset_mean   \n",
    "    delayset = pd.concat( [fileset.iloc[:,i] for i in range(len(fileset.columns)) if fileset.iloc[:,i].isnull().any()==True], axis=1)\n",
    "    delayset_mean = delayset.mean(axis=1).dropna()\n",
    "    return normalset_mean,delayset_mean"
   ]
  },
  {
   "cell_type": "code",
   "execution_count": 9,
   "metadata": {},
   "outputs": [],
   "source": [
    "## how to plot"
   ]
  },
  {
   "cell_type": "code",
   "execution_count": 10,
   "metadata": {},
   "outputs": [],
   "source": [
    "def plot_line(i,k,basedir,result,lab,addon=''):\n",
    "    s1=np.load(os.path.join(basedir,result[k]))\n",
    "    p=1000\n",
    "    s1_epo = [i+1 for i in s1[0][:p]]\n",
    "    ax[i].plot(s1_epo,s1[2][:p], label=lab[k]+addon)"
   ]
  },
  {
   "cell_type": "code",
   "execution_count": 11,
   "metadata": {},
   "outputs": [],
   "source": [
    "def plot_window_acc(i,k,half_window,basedir,result,lab,line_color,dot_color,addon=''):\n",
    "    s1=np.load(os.path.join(basedir,result[k]))\n",
    "    p=1000\n",
    "    \n",
    "    (s_mean,s_varience)=windowed(s1[2][:p],half_window)\n",
    "\n",
    "    s_epo=[i+half_window+1 for i in range(len(s_mean))]\n",
    "    ax[i].plot(s_epo,s_mean, label=lab[k]+addon,color = line_color) # can also plot s_varience if want\n",
    "    \n",
    "    (s_loss,_)=windowed(s1[1][:p],half_window)\n",
    "    \n",
    "    index_min_loss = min_loss_point(s_loss)\n",
    "    ax[i].plot(index_min_loss+half_window+1,s_mean[index_min_loss],dot_color)\n",
    "\n",
    "#     index_max=np.argmax(s_mean)\n",
    "#     ax[i].plot(index_max+half_window+1,s_mean[index_max],dot_color)\n"
   ]
  },
  {
   "cell_type": "code",
   "execution_count": 12,
   "metadata": {},
   "outputs": [],
   "source": [
    "def plot_file_acc(i,k,basedir,node_dir,lab,speed=1,filename='self_EVAL.txt'):\n",
    "    files = glob.glob(basedir +'/'+ node_dir[k]+ '/worker_nodes/*/'+filename)\n",
    "    linelab = lab[k]\n",
    "    if speed==1:\n",
    "        normalset_mean = read_acc_mean(files,i,speed)\n",
    "        set_plt = [i+1 for i in range(len(normalset_mean))]\n",
    "        ax[i].plot(set_plt,normalset_mean, label=linelab+'_t')\n",
    "#         print('only usual')\n",
    "        \n",
    "    else:\n",
    "        normalset_mean,delayset_mean = read_acc_mean(files,i,speed)\n",
    "        \n",
    "        normal_plt = [i+1 for i in range(len(normalset_mean))]\n",
    "        ax[i].plot(normal_plt,normalset_mean, label=linelab+'_usual')\n",
    "        \n",
    "        new_delay_set = [val for val in delayset_mean for _ in range(speed)]\n",
    "        delay_plt = [i+1 for i in range(len(new_delay_set))]\n",
    "        ax[i].plot(delay_plt,new_delay_set, label=linelab+'_delay')"
   ]
  },
  {
   "cell_type": "code",
   "execution_count": 13,
   "metadata": {},
   "outputs": [],
   "source": [
    "def plot_file_window_acc(i,k,half_window,basedir,node_dir,lab,speed=1,filename='self_EVAL.txt'):\n",
    "    files = glob.glob(basedir +'/'+ node_dir[k]+ '/worker_nodes/*/'+filename)\n",
    "    linelab = lab[k]\n",
    "    if speed==1:\n",
    "        normalset_mean = read_acc_mean(files,i,speed)\n",
    "        (s_mean,s_varience)=windowed(normalset_mean,half_window)\n",
    "        s_epo=[i+half_window+1 for i in range(len(s_mean))]\n",
    "        ax[i].plot(s_epo,s_mean, label=linelab+'_t')\n",
    "    else:\n",
    "        normalset_mean,delayset_mean = read_acc_mean(files,i,speed)\n",
    "\n",
    "        (s_mean,s_varience)=windowed(normalset_mean,half_window)\n",
    "        s_epo=[i+half_window+1 for i in range(len(s_mean))]\n",
    "        ax[i].plot(s_epo,s_mean, label=linelab+'_usual')\n",
    "        \n",
    "        new_delay_set = [val for val in delayset_mean for _ in range(speed)]\n",
    "        (s_mean,s_varience)=windowed(new_delay_set,half_window)\n",
    "        s_epo=[i+half_window+1 for i in range(len(s_mean))]\n",
    "        ax[i].plot(s_epo,s_mean, label=linelab+'_delay')\n"
   ]
  },
  {
   "cell_type": "code",
   "execution_count": null,
   "metadata": {},
   "outputs": [],
   "source": []
  },
  {
   "cell_type": "code",
   "execution_count": null,
   "metadata": {},
   "outputs": [],
   "source": []
  },
  {
   "cell_type": "markdown",
   "metadata": {},
   "source": [
    "## Bad Node"
   ]
  },
  {
   "cell_type": "code",
   "execution_count": 14,
   "metadata": {},
   "outputs": [],
   "source": [
    "half_window = 10\n",
    "th = 0.025\n",
    "value2 = 1\n",
    "\n",
    "index_min_loss_list = []\n",
    "index_min_acc_list = []\n",
    "min_loss_list = []\n",
    "min_acc_list = []\n",
    "acc_at_min_loss_list = []\n",
    "index_less_than_nb_list = []\n",
    "gap_to_min_list = []\n",
    "acc_drop_list = []\n",
    "\n",
    "\n",
    "basedir=os.path.join('RESULT_4000/BadNode')\n",
    "\n",
    "color_list=[\n",
    "#     'k',\n",
    "    'r','c',\n",
    "#     'k',\n",
    "    'r','c',\n",
    "#     'k',\n",
    "    'r','c',\n",
    "    \n",
    "#     'k',\n",
    "    'r','b','c',\n",
    "#     'k',\n",
    "#     'r','b','c',\n",
    "#     'k',\n",
    "    'r','b','c',\n",
    "#     'k',\n",
    "    'r','b','c',\n",
    "    \n",
    "]\n",
    "\n",
    "size_list = [\n",
    "    1,1,1,1,1,1,\n",
    "    2,2,2,2,2,2,2,2,2,\n",
    "]\n",
    "iid_list = [\n",
    "    1,1,2,2,3,3,\n",
    "    1,1,1,2,2,2,3,3,3,\n",
    "]\n",
    "\n",
    "\n",
    "result=[\n",
    "#     '2c.10w.4000.loc1.earlystop500.20200501-072809.npy',\n",
    "    '2c.10w.4000.plus1bad_each40.loc1.earlystop500.20200501-015142.npy',\n",
    "    '2c.10w.4000.plus1bad_each400.loc1.earlystop500.20200501-031558.npy',\n",
    "\n",
    "#     '5c.10w.4000.loc1.earlystop500.20200501-024326.npy',\n",
    "    '5c.10w.4000.plus1bad_each40.loc1.earlystop500.20200501-023155.npy',\n",
    "    '5c.10w.4000.plus1bad_each400.loc1.earlystop500.20200501-004052.npy',\n",
    "\n",
    "#     'iid.10w.4000.loc1.earlystop500.20200501-020117.npy',\n",
    "    '11d.10w.4000.plus1bad_each40.loc1.earlystop500.20200501-020918.npy',\n",
    "    '11d.10w.4000.plus1bad_each400.loc1.earlystop500.20200501-060927.npy',\n",
    "]\n",
    "\n",
    "for res in result:\n",
    "    s1 = np.load(os.path.join(basedir,res))\n",
    "    (s_acc,_)=windowed(s1[2][:1000],half_window)\n",
    "    (s_loss,_)=windowed(s1[1][:1000],half_window)\n",
    "    \n",
    "    index_min_loss = min_loss_point(s_loss)\n",
    "    index_min_acc = min_loss_point(s_acc[index_min_loss:])+index_min_loss\n",
    "    \n",
    "    \n",
    "    min_loss = s_loss[index_min_loss]\n",
    "    min_acc = s_acc[index_min_acc]\n",
    "    \n",
    "    acc_at_min_loss = s_acc[index_min_loss]\n",
    "    index_less_than_nb = index_less_than(s_acc[index_min_loss:],min_acc+th,value2)+index_min_loss #index of acc drop to min_acc+some range\n",
    "    gap_to_min = index_less_than(s_acc[index_min_loss:],min_acc+th,value2) #gap between cropped & min_loss\n",
    "    \n",
    "    acc_drop = s_acc[index_less_than_nb]\n",
    "    \n",
    "    \n",
    "    index_min_loss_list.append(index_min_loss)\n",
    "    index_min_acc_list.append(index_min_acc)\n",
    "    min_loss_list.append(min_loss)\n",
    "    min_acc_list.append(min_acc)\n",
    "    acc_at_min_loss_list.append(acc_at_min_loss) # Try with it's original&iid min_at_loss???\n",
    "    index_less_than_nb_list.append(index_less_than_nb) # \n",
    "    gap_to_min_list.append(gap_to_min)\n",
    "    acc_drop_list.append(acc_drop)\n",
    "    \n",
    "basedir=os.path.join('RESULT_40000/BadNode')    \n",
    "result=[\n",
    "#     '2c.10w.40000.loc1.earlystop1000.20200521-163612.npy',\n",
    "    '2c.10w.40000.plus1bad_each400.loc1.earlystop1000.20200521-150153.npy',\n",
    "    '2c.10w.40000.plus1bad_each1200.loc1.earlystop1000.20200523-055725.npy',\n",
    "    '2c.10w.40000.plus1bad_each4000.loc1.earlystop1000.20200521-152141.npy',\n",
    "    \n",
    "# #     '3c.10w.40000.loc1.earlystop1000.20200523-042344.npy',\n",
    "#     '3c.10w.40000.plus1bad_each400.loc1.earlystop1000.20200523-043427.npy',\n",
    "#     '3c.10w.40000.plus1bad_each1200.loc1.earlystop1000.20200523-054717.npy',\n",
    "#     '3c.10w.40000.plus1bad_each4000.loc1.earlystop1000.20200523-043024.npy',\n",
    "    \n",
    "#     '5c.10w.40000.loc1.earlystop1000.20200521-171047.npy',\n",
    "    '5c.10w.40000.plus1bad_each400.loc1.earlystop1000.20200521-152400.npy',\n",
    "    '5c.10w.40000.plus1bad_each1200.loc1.earlystop1000.20200523-055914.npy',\n",
    "    '5c.10w.40000.plus1bad_each4000.loc1.earlystop1000.20200521-165039.npy',\n",
    "    \n",
    "#     'iid.10w.40000.loc1.earlystop1000.20200521-172951.npy',\n",
    "    'iid.10w.40000.plus1bad_each400.loc1.earlystop1000.20200521-185542.npy',\n",
    "    'iid.10w.40000.plus1bad_each1200.loc1.earlystop1000.20200523-055848.npy',\n",
    "    'iid.10w.40000.plus1bad_each4000.loc1.earlystop1000.20200521-152331.npy',\n",
    "    \n",
    "\n",
    "]\n",
    "for res in result:\n",
    "    s1 = np.load(os.path.join(basedir,res))\n",
    "    (s_acc,_)=windowed(s1[2][:1000],half_window)\n",
    "    (s_loss,_)=windowed(s1[1][:1000],half_window)\n",
    "    \n",
    "    index_min_loss = min_loss_point(s_loss)\n",
    "    index_min_acc = min_loss_point(s_acc[index_min_loss:])+index_min_loss\n",
    "    \n",
    "    \n",
    "    min_loss = s_loss[index_min_loss]\n",
    "    min_acc = s_acc[index_min_acc]\n",
    "    \n",
    "    acc_at_min_loss = s_acc[index_min_loss]\n",
    "    index_less_than_nb = index_less_than(s_acc[index_min_loss:],min_acc+th,value2)+index_min_loss #index of acc drop to min_acc+some range\n",
    "    gap_to_min = index_less_than(s_acc[index_min_loss:],min_acc+th,value2) #gap between cropped & min_loss\n",
    "    \n",
    "    acc_drop = s_acc[index_less_than_nb]\n",
    "    \n",
    "    \n",
    "    index_min_loss_list.append(index_min_loss)\n",
    "    index_min_acc_list.append(index_min_acc)\n",
    "    min_loss_list.append(min_loss)\n",
    "    min_acc_list.append(min_acc)\n",
    "    acc_at_min_loss_list.append(acc_at_min_loss) # Try with it's original&iid min_at_loss???\n",
    "    index_less_than_nb_list.append(index_less_than_nb) # \n",
    "    gap_to_min_list.append(gap_to_min)\n",
    "    acc_drop_list.append(acc_drop)"
   ]
  },
  {
   "cell_type": "code",
   "execution_count": 15,
   "metadata": {},
   "outputs": [
    {
     "data": {
      "text/plain": [
       "<matplotlib.legend.Legend at 0x29499fcd788>"
      ]
     },
     "execution_count": 15,
     "metadata": {},
     "output_type": "execute_result"
    },
    {
     "data": {
      "image/png": "[encoded data removed]",
      "text/plain": [
       "<Figure size 360x216 with 1 Axes>"
      ]
     },
     "metadata": {
      "needs_background": "light"
     },
     "output_type": "display_data"
    }
   ],
   "source": [
    "# plt.scatter(acc_drop_list,size_list,color=color_list) # index_less_than_nb_list    acc_drop_list  \n",
    "# plt.xlabel('Global Round',fontsize=14) #Accuracy -collapse           Global Round\n",
    "# plt.ylabel('Dataset Size',fontsize=14) \n",
    "# plt.yticks([0,1,2,3,4],['','4k','40k','',''],rotation=90)\n",
    "\n",
    "plt.scatter(acc_drop_list,iid_list,color=color_list) # index_less_than_nb_list    acc_drop_list \n",
    "plt.xlabel('Accuracy -collapse',fontsize=14)  #Accuracy -collapse            Global Round\n",
    "# plt.ylabel('IID level',fontsize=14) \n",
    "plt.yticks([0,1,2,3,5],['','2c','5c','iid',''],rotation=0)\n",
    "\n",
    "\n",
    "\n",
    "plt.gcf().set_size_inches(5, 3)\n",
    "# black_patch = mpatches.Patch(color='k', label='0%')\n",
    "red_patch = mpatches.Patch(color='r', label='1%')\n",
    "b_patch = mpatches.Patch(color='b', label='3%')\n",
    "c_patch = mpatches.Patch(color='c', label='10%')\n",
    "plt.legend(handles=[red_patch,b_patch,c_patch])\n"
   ]
  },
  {
   "cell_type": "code",
   "execution_count": 16,
   "metadata": {},
   "outputs": [
    {
     "data": {
      "image/png": "[encoded data removed]",
      "text/plain": [
       "<Figure size 360x216 with 1 Axes>"
      ]
     },
     "metadata": {
      "needs_background": "light"
     },
     "output_type": "display_data"
    }
   ],
   "source": [
    "list1 = []\n",
    "list2 = []\n",
    "list3 = []\n",
    "\n",
    "\n",
    "for i in range(len(size_list)): # size_list iid_list\n",
    "    \n",
    "    # for size_list only\n",
    "    if color_list[i]=='b':\n",
    "        continue\n",
    "    \n",
    "    if size_list[i]==1:\n",
    "        list1.append(acc_drop_list[i]) # index_less_than_nb_list    acc_drop_list \n",
    "    if size_list[i]==2:\n",
    "        list2.append(acc_drop_list[i]) \n",
    "    if size_list[i]==3:\n",
    "        list3.append(acc_drop_list[i]) \n",
    "\n",
    "plt.boxplot([list1,list2,list3],vert=False,showmeans=True)  \n",
    "\n",
    "#####################################################################################\n",
    "# plt.scatter(index_less_than_nb_list,size_list,color=color_list) # index_less_than_nb_list    acc_drop_list  \n",
    "plt.xlabel('Global Round',fontsize=14) #Accuracy -collapse           Global Round\n",
    "plt.ylabel('Dataset Size',fontsize=14) \n",
    "plt.yticks([0,1,2,3],['','4k','40k',''],rotation=90)\n",
    "\n",
    "# # plt.scatter(index_less_than_nb_list,iid_list,color=color_list) # index_less_than_nb_list    acc_drop_list \n",
    "# plt.xlabel('Global Round',fontsize=14)  #Accuracy -collapse            Global Round\n",
    "# # plt.ylabel('IID level',fontsize=14) \n",
    "# plt.yticks([0,1,2,3,4],['','2c','5c','iid',''],rotation=0)\n",
    "\n",
    "####################################################################################\n",
    "plt.gcf().set_size_inches(5, 3)"
   ]
  },
  {
   "cell_type": "code",
   "execution_count": 17,
   "metadata": {},
   "outputs": [
    {
     "name": "stdout",
     "output_type": "stream",
     "text": [
      "[0.12911428582100642, 0.10745238193443843, 0.16679047757670992, 0.12185714216459365, 0.13262380907932916, 0.1537047606848535]\n",
      "[0.2373904749041512, 0.11584761987129848, 0.79218571242832, 0.1245190469282014, 0.832876185576121, 0.12438571453094482]\n",
      "[]\n"
     ]
    }
   ],
   "source": [
    "print(list1)\n",
    "print(list2)\n",
    "print(list3)"
   ]
  },
  {
   "cell_type": "code",
   "execution_count": 18,
   "metadata": {},
   "outputs": [
    {
     "name": "stdout",
     "output_type": "stream",
     "text": [
      "(0.9635469317436218, 0.8466156125068665)\n",
      "(0.7283564209938049, 0.012131603434681892)\n"
     ]
    }
   ],
   "source": [
    "print(stats.shapiro(list1))\n",
    "print(stats.shapiro(list2))\n",
    "# print(stats.shapiro(list3))"
   ]
  },
  {
   "cell_type": "code",
   "execution_count": 19,
   "metadata": {},
   "outputs": [
    {
     "name": "stdout",
     "output_type": "stream",
     "text": [
      "LeveneResult(statistic=3.7321786920782443, pvalue=0.08217770358848595)\n"
     ]
    }
   ],
   "source": [
    "print(stats.levene(list1,list2))\n",
    "# print(stats.levene(list2,list3))\n",
    "# print(stats.levene(list1,list3))"
   ]
  },
  {
   "cell_type": "code",
   "execution_count": 20,
   "metadata": {},
   "outputs": [
    {
     "name": "stdout",
     "output_type": "stream",
     "text": [
      "WilcoxonResult(statistic=3.0, pvalue=0.1422132419363924)\n"
     ]
    },
    {
     "name": "stderr",
     "output_type": "stream",
     "text": [
      "c:\\users\\12990\\appdata\\local\\programs\\python\\python37\\lib\\site-packages\\scipy\\stats\\morestats.py:2879: UserWarning: Sample size too small for normal approximation.\n",
      "  warnings.warn(\"Sample size too small for normal approximation.\")\n"
     ]
    }
   ],
   "source": [
    "print(stats.wilcoxon(list1,list2,zero_method='wilcox', correction=True))\n",
    "# print(stats.wilcoxon(list2,list3,zero_method='wilcox', correction=True))\n",
    "# print(stats.wilcoxon(list1,list3,zero_method='wilcox', correction=True))"
   ]
  },
  {
   "cell_type": "code",
   "execution_count": 21,
   "metadata": {},
   "outputs": [
    {
     "name": "stdout",
     "output_type": "stream",
     "text": [
      "Ttest_relResult(statistic=-1.7267502165725912, pvalue=0.1447966883076807)\n"
     ]
    }
   ],
   "source": [
    "print(stats.ttest_rel(list1, list2))\n",
    "# print(stats.ttest_rel(list2, list3))\n",
    "# print(stats.ttest_rel(list1, list3))"
   ]
  },
  {
   "cell_type": "code",
   "execution_count": null,
   "metadata": {},
   "outputs": [],
   "source": []
  },
  {
   "cell_type": "code",
   "execution_count": 22,
   "metadata": {},
   "outputs": [],
   "source": [
    "# stats.f_oneway(list1,list2,list3)"
   ]
  },
  {
   "cell_type": "code",
   "execution_count": null,
   "metadata": {},
   "outputs": [],
   "source": []
  },
  {
   "cell_type": "code",
   "execution_count": null,
   "metadata": {},
   "outputs": [],
   "source": []
  },
  {
   "cell_type": "code",
   "execution_count": 23,
   "metadata": {},
   "outputs": [
    {
     "data": {
      "text/plain": [
       "<matplotlib.legend.Legend at 0x29497f29608>"
      ]
     },
     "execution_count": 23,
     "metadata": {},
     "output_type": "execute_result"
    },
    {
     "data": {
      "image/png": "[encoded data removed]",
      "text/plain": [
       "<Figure size 360x216 with 1 Axes>"
      ]
     },
     "metadata": {
      "needs_background": "light"
     },
     "output_type": "display_data"
    }
   ],
   "source": [
    "# plt.scatter(acc_at_min_loss_list,index_less_than_nb_list,color=color_list)\n",
    "plt.scatter(acc_at_min_loss_list,acc_drop_list,color=color_list)\n",
    "plt.gcf().set_size_inches(5, 3)\n",
    "\n",
    "plt.xlabel('Accuracy - min_loss',fontsize=14)  \n",
    "# plt.ylabel('Global Round',fontsize=14) \n",
    "plt.ylabel('Accuracy - collapse',fontsize=14) \n",
    "\n",
    "red_patch = mpatches.Patch(color='r', label='1%')\n",
    "b_patch = mpatches.Patch(color='b', label='3%')\n",
    "c_patch = mpatches.Patch(color='c', label='10%')\n",
    "plt.legend(handles=[red_patch,b_patch,c_patch])\n",
    "\n",
    "# plt.legend()\n"
   ]
  },
  {
   "cell_type": "code",
   "execution_count": 24,
   "metadata": {},
   "outputs": [
    {
     "data": {
      "text/plain": [
       "(0.7030488348842171, 0.003458892300080124)"
      ]
     },
     "execution_count": 24,
     "metadata": {},
     "output_type": "execute_result"
    }
   ],
   "source": [
    "stats.pearsonr(acc_at_min_loss_list,acc_drop_list)"
   ]
  },
  {
   "cell_type": "code",
   "execution_count": 25,
   "metadata": {},
   "outputs": [
    {
     "data": {
      "text/plain": [
       "(0.9186475883896053, 1.3339298856627155e-06)"
      ]
     },
     "execution_count": 25,
     "metadata": {},
     "output_type": "execute_result"
    }
   ],
   "source": [
    "stats.pearsonr(acc_at_min_loss_list,index_less_than_nb_list)"
   ]
  },
  {
   "cell_type": "code",
   "execution_count": null,
   "metadata": {},
   "outputs": [],
   "source": []
  },
  {
   "cell_type": "code",
   "execution_count": null,
   "metadata": {},
   "outputs": [],
   "source": []
  },
  {
   "cell_type": "markdown",
   "metadata": {},
   "source": [
    "## Data Dispersion"
   ]
  },
  {
   "cell_type": "code",
   "execution_count": 26,
   "metadata": {},
   "outputs": [],
   "source": [
    "half_window = 10\n",
    "\n",
    "index_min_loss_list = []\n",
    "min_loss_list = []\n",
    "acc_at_min_loss_list = []\n",
    "\n",
    "color_list = [\n",
    "    'r','b','r','b','r','b',\n",
    "    'r','b','r','b','r','b',\n",
    "]\n",
    "\n",
    "\n",
    "basedir=os.path.join('RESULT_4000/DataDispersion')\n",
    "result=[\n",
    "    '2c.10w.4000.loc1.earlystop500.20200501-072809.npy',\n",
    "    '2c.40w.4000.loc1.earlystop500.20200507-172304.npy',\n",
    "    '5c.10w.4000.loc1.earlystop500.20200501-024326.npy',\n",
    "    '5c.40w.4000.loc1.earlystop500.20200506-215910.npy',\n",
    "    'iid.10w.4000.loc1.earlystop500.20200501-020117.npy',\n",
    "    'iid.40w.4000.loc1.earlystop500.20200507-014322.npy',\n",
    "]\n",
    "for res in result:\n",
    "    s1 = np.load(os.path.join(basedir,res))\n",
    "    (s_acc,_)=windowed(s1[2][:1000],half_window)\n",
    "    (s_loss,_)=windowed(s1[1][:1000],half_window)\n",
    "    \n",
    "    index_min_loss = min_loss_point(s_loss)\n",
    "    \n",
    "    min_loss = s_loss[index_min_loss]\n",
    "    \n",
    "    acc_at_min_loss = s_acc[index_min_loss]\n",
    "    \n",
    "    index_min_loss_list.append(index_min_loss)\n",
    "    min_loss_list.append(min_loss)\n",
    "    acc_at_min_loss_list.append(acc_at_min_loss) # Try with it's original&iid min_at_loss???\n",
    "\n",
    "basedir=os.path.join('RESULT_40000/DataDispersion')    \n",
    "result=[\n",
    "    '2c.10w.40000.loc1.earlystop1000.20200521-163612.npy',\n",
    "    '2c.40w.40000.loc1.earlystop1000.20200522-110021.npy',\n",
    "    \n",
    "    '5c.10w.40000.loc1.earlystop1000.20200521-171047.npy',\n",
    "    '5c.40w.40000.loc1.earlystop1000.20200522-110113.npy',\n",
    "    \n",
    "    'iid.10w.40000.loc1.earlystop1000.20200521-172951.npy',\n",
    "    'iid.40w.40000.loc1.earlystop1000.20200522-105548.npy',\n",
    "]\n",
    "for res in result:\n",
    "    s1 = np.load(os.path.join(basedir,res))\n",
    "    (s_acc,_)=windowed(s1[2][:1000],half_window)\n",
    "    (s_loss,_)=windowed(s1[1][:1000],half_window)\n",
    "    \n",
    "    index_min_loss = min_loss_point(s_loss)\n",
    "    \n",
    "    min_loss = s_loss[index_min_loss]\n",
    "    \n",
    "    acc_at_min_loss = s_acc[index_min_loss]\n",
    "    \n",
    "    index_min_loss_list.append(index_min_loss)\n",
    "    min_loss_list.append(min_loss)\n",
    "    acc_at_min_loss_list.append(acc_at_min_loss) # Try with it's original&iid min_at_loss???"
   ]
  },
  {
   "cell_type": "code",
   "execution_count": 27,
   "metadata": {},
   "outputs": [],
   "source": [
    "mylist = [\n",
    "    1,2,1,2,1,2,1,2,1,2,1,2,\n",
    "]\n",
    "ten_w = []\n",
    "forty_w = []\n",
    "\n",
    "for i in range(len(mylist)):\n",
    "    if mylist[i]==1:\n",
    "        ten_w.append(acc_at_min_loss_list[i]) # index_min_loss_list  acc_at_min_loss_list\n",
    "    if mylist[i]==2:\n",
    "        forty_w.append(acc_at_min_loss_list[i]) # index_min_loss_list  acc_at_min_loss_list\n",
    "        "
   ]
  },
  {
   "cell_type": "code",
   "execution_count": 28,
   "metadata": {},
   "outputs": [
    {
     "data": {
      "image/png": "[encoded data removed]",
      "text/plain": [
       "<Figure size 360x216 with 1 Axes>"
      ]
     },
     "metadata": {
      "needs_background": "light"
     },
     "output_type": "display_data"
    }
   ],
   "source": [
    "\n",
    "# plt.scatter(index_min_loss_list,mylist, color=color_list)\n",
    "# plt.scatter(acc_at_min_loss_list,mylist, color=color_list)\n",
    "\n",
    "plt.boxplot([ten_w,forty_w],vert=False,showmeans=True)  \n",
    "\n",
    "\n",
    "plt.gcf().set_size_inches(5, 3)\n",
    "\n",
    "\n",
    "# plt.xlabel('Global Round',fontsize=14) \n",
    "plt.xlabel('Accuracy -min_loss',fontsize=14)  \n",
    " \n",
    "plt.ylabel('Worker Number',fontsize=14) \n",
    "# plt.yticks([0,1,2,4],['','10','40',''],rotation=0)\n",
    "plt.yticks([0,1,2,3],['','10','40',''],rotation=0)\n",
    "\n",
    "red_patch = mpatches.Patch(color='r', label='10w')\n",
    "b_patch = mpatches.Patch(color='b', label='40w')\n",
    "\n",
    "# plt.legend(handles=[red_patch,b_patch])\n",
    "\n",
    "# plt.legend()"
   ]
  },
  {
   "cell_type": "code",
   "execution_count": 29,
   "metadata": {},
   "outputs": [
    {
     "data": {
      "text/plain": [
       "(0.9452585577964783, 0.7017859816551208)"
      ]
     },
     "execution_count": 29,
     "metadata": {},
     "output_type": "execute_result"
    }
   ],
   "source": [
    "stats.shapiro(forty_w) # ten_w forty_w    if normal distribution both yes in this case"
   ]
  },
  {
   "cell_type": "code",
   "execution_count": 30,
   "metadata": {},
   "outputs": [
    {
     "data": {
      "text/plain": [
       "LeveneResult(statistic=0.037318589000511486, pvalue=0.850685055589373)"
      ]
     },
     "execution_count": 30,
     "metadata": {},
     "output_type": "execute_result"
    }
   ],
   "source": [
    "stats.levene(ten_w, forty_w) # if p>>0.05, equal_var=true (default) 方差齐次性"
   ]
  },
  {
   "cell_type": "code",
   "execution_count": 31,
   "metadata": {},
   "outputs": [
    {
     "data": {
      "text/plain": [
       "Ttest_relResult(statistic=-0.3939412550244791, pvalue=0.7098641046040814)"
      ]
     },
     "execution_count": 31,
     "metadata": {},
     "output_type": "execute_result"
    }
   ],
   "source": [
    "stats.ttest_rel(ten_w, forty_w) #paired t test, used this!!!!\n",
    "\n",
    "# stats.ttest_ind(ten_w, forty_w)\n",
    "# stats.f_oneway(ten_w, forty_w) #ANOVA"
   ]
  },
  {
   "cell_type": "code",
   "execution_count": null,
   "metadata": {},
   "outputs": [],
   "source": []
  },
  {
   "cell_type": "code",
   "execution_count": null,
   "metadata": {},
   "outputs": [],
   "source": []
  },
  {
   "cell_type": "markdown",
   "metadata": {},
   "source": [
    "## Delayed Update"
   ]
  },
  {
   "cell_type": "code",
   "execution_count": 32,
   "metadata": {},
   "outputs": [],
   "source": [
    "half_window = 10\n",
    "\n",
    "index_min_loss_list = []\n",
    "min_loss_list = []\n",
    "acc_at_min_loss_list = []\n",
    "\n",
    "basedir=os.path.join('RESULT_4000/DelayUpdate')\n",
    "result=[\n",
    "    '2c.10w.4000.loc1.earlystop500.20200501-072809.npy',\n",
    "    '2c.40w.4000.dly8.speed3.loc1.earlystop500.20200503-013135.npy',    \n",
    "    '2c.40w.4000.dly20.speed3.loc1.earlystop500.20200502-160017.npy',\n",
    "    '2c.40w.4000.dly32.speed3.loc1.earlystop500.20200430-223516.npy',\n",
    "    '2c.40w.4000.dly8.speed12.loc1.earlystop500.20200502-161123.npy',\n",
    "    '2c.40w.4000.dly8.speed30.loc1.earlystop500.20200503-084238.npy',\n",
    "    \n",
    "    \n",
    "    '5c.10w.4000.loc1.earlystop500.20200501-024326.npy',\n",
    "    '5c.40w.4000.dly8.speed3.loc1.earlystop500.20200502-160044.npy',\n",
    "    '5c.40w.4000.dly20.speed3.loc1.earlystop500.20200504-180902.npy',\n",
    "    '5c.40w.4000.dly32.speed3.loc1.earlystop500.20200503-210047.npy',  \n",
    "    '5c.40w.4000.dly8.speed12.loc1.earlystop500.20200502-171548.npy',   \n",
    "    '5c.40w.4000.dly8.speed30.loc1.earlystop500.20200502-182343.npy',\n",
    "\n",
    "\n",
    "    'iid.10w.4000.loc1.earlystop500.20200501-020117.npy',\n",
    "    'iid.40w.4000.dly8.speed3.loc1.earlystop500.20200502-193120.npy',\n",
    "    'iid.40w.4000.dly20.speed3.loc1.earlystop500.20200503-002016.npy',\n",
    "    'iid.40w.4000.dly32.speed3.loc1.earlystop500.20200502-184247.npy',\n",
    "    'iid.40w.4000.dly8.speed12.loc1.earlystop500.20200502-133739.npy',\n",
    "    'iid.40w.4000.dly8.speed30.loc1.earlystop500.20200503-184146.npy',\n",
    "]\n",
    "for res in result:\n",
    "    s1 = np.load(os.path.join(basedir,res))\n",
    "    (s_acc,_)=windowed(s1[2][:1000],half_window)\n",
    "    (s_loss,_)=windowed(s1[1][:1000],half_window)\n",
    "    \n",
    "    index_min_loss = min_loss_point(s_loss)\n",
    "    \n",
    "    min_loss = s_loss[index_min_loss]\n",
    "    \n",
    "    acc_at_min_loss = s_acc[index_min_loss]\n",
    "    \n",
    "    index_min_loss_list.append(index_min_loss)\n",
    "    min_loss_list.append(min_loss)\n",
    "    acc_at_min_loss_list.append(acc_at_min_loss) # Try with it's original&iid min_at_loss???\n",
    "\n",
    "basedir=os.path.join('RESULT_40000/DelayUpdate')    \n",
    "result=[\n",
    "    '2c.40w.40000.loc1.earlystop1000.20200522-110021.npy',\n",
    "    '2c.40w.40000.dly10.speed3.loc1.earlystop1000.20200522-081302.npy',\n",
    "    '2c.40w.40000.dly20.speed3.loc1.earlystop1000.20200522-010225.npy',\n",
    "    '2c.40w.40000.dly30.speed3.loc1.earlystop1000.20200521-182838.npy',    \n",
    "    '2c.40w.40000.dly10.speed15.loc1.earlystop1000.20200522-051203.npy',    \n",
    "    '2c.40w.40000.dly10.speed30.loc1.earlystop1000.20200522-050704.npy',\n",
    "    \n",
    "    '3c.40w.40000.loc1.earlystop1000.20200524-022211.npy',  \n",
    "    '3c.40w.40000.dly10.speed3.loc1.earlystop1000.20200523-200048.npy',\n",
    "    '3c.40w.40000.dly20.speed3.loc1.earlystop1000.20200523-132646.npy',\n",
    "    '3c.40w.40000.dly30.speed3.loc1.earlystop1000.20200523-065723.npy',    \n",
    "    '3c.40w.40000.dly10.speed15.loc1.earlystop1000.20200523-173144.npy',    \n",
    "    '3c.40w.40000.dly10.speed30.loc1.earlystop1000.20200523-163044.npy',\n",
    "\n",
    "    '5c.40w.40000.loc1.earlystop1000.20200522-110113.npy',\n",
    "    '5c.40w.40000.dly10.speed3.loc1.earlystop1000.20200522-074328.npy',\n",
    "    '5c.40w.40000.dly20.speed3.loc1.earlystop1000.20200522-010608.npy',\n",
    "    '5c.40w.40000.dly30.speed3.loc1.earlystop1000.20200521-184510.npy',  \n",
    "    '5c.40w.40000.dly10.speed15.loc1.earlystop1000.20200522-043519.npy',    \n",
    "    '5c.40w.40000.dly10.speed30.loc1.earlystop1000.20200522-053311.npy',\n",
    "\n",
    "\n",
    "    'iid.40w.40000.loc1.earlystop1000.20200522-105548.npy',\n",
    "    'iid.40w.40000.dly10.speed3.loc1.earlystop1000.20200522-072117.npy',\n",
    "    'iid.40w.40000.dly20.speed3.loc1.earlystop1000.20200522-012812.npy',\n",
    "    'iid.40w.40000.dly30.speed3.loc1.earlystop1000.20200521-185705.npy',   \n",
    "    'iid.40w.40000.dly10.speed15.loc1.earlystop1000.20200522-053936.npy',    \n",
    "    'iid.40w.40000.dly10.speed30.loc1.earlystop1000.20200522-073107.npy',  \n",
    "]\n",
    "for res in result:\n",
    "    s1 = np.load(os.path.join(basedir,res))\n",
    "    (s_acc,_)=windowed(s1[2][:1000],half_window)\n",
    "    (s_loss,_)=windowed(s1[1][:1000],half_window)\n",
    "    \n",
    "    index_min_loss = min_loss_point(s_loss)\n",
    "    \n",
    "    min_loss = s_loss[index_min_loss]\n",
    "    \n",
    "    acc_at_min_loss = s_acc[index_min_loss]\n",
    "    \n",
    "    index_min_loss_list.append(index_min_loss)\n",
    "    min_loss_list.append(min_loss)\n",
    "    acc_at_min_loss_list.append(acc_at_min_loss) # Try with it's original&iid min_at_loss???"
   ]
  },
  {
   "cell_type": "code",
   "execution_count": 33,
   "metadata": {},
   "outputs": [],
   "source": [
    "# color_list = [\n",
    "#     'r','b','g','m','c','y',\n",
    "#     'r','b','g','m','c','y',\n",
    "#     'r','b','g','m','c','y',\n",
    "#     'r','b','g','m','c','y',\n",
    "#     'r','b','g','m','c','y',\n",
    "#     'r','b','g','m','c','y',\n",
    "#     'r','b','g','m','c','y',\n",
    "# ]\n",
    "color_list = [\n",
    "    'r','r','r','r','r','r',\n",
    "    'r','r','r','r','r','r',\n",
    "    'r','r','r','r','r','r',\n",
    "    'b','b','b','b','b','b',\n",
    "    'b','b','b','b','b','b',\n",
    "    'b','b','b','b','b','b',\n",
    "    'b','b','b','b','b','b',\n",
    "]"
   ]
  },
  {
   "cell_type": "code",
   "execution_count": 34,
   "metadata": {},
   "outputs": [],
   "source": [
    "byspeed = [\n",
    "    1,2,-1,-1,3,4, # 1=s0, 2=s3,3=s12,4=s30\n",
    "    1,2,-1,-1,3,4,\n",
    "    1,2,-1,-1,3,4,\n",
    "    1,2,-1,-1,3,4,\n",
    "    1,2,-1,-1,3,4,\n",
    "    1,2,-1,-1,3,4,\n",
    "    1,2,-1,-1,3,4,\n",
    "]"
   ]
  },
  {
   "cell_type": "code",
   "execution_count": 35,
   "metadata": {},
   "outputs": [],
   "source": [
    "byproportion = [\n",
    "    1,2,3,4,-1,-1, #1=0, 2=20-25, 3=50,4=75-80\n",
    "    1,2,3,4,-1,-1,\n",
    "    1,2,3,4,-1,-1,\n",
    "    1,2,3,4,-1,-1,\n",
    "    1,2,3,4,-1,-1,\n",
    "    1,2,3,4,-1,-1,\n",
    "    1,2,3,4,-1,-1,\n",
    "]"
   ]
  },
  {
   "cell_type": "code",
   "execution_count": 36,
   "metadata": {},
   "outputs": [],
   "source": [
    "list1 = []\n",
    "list2 = []\n",
    "list3 = []\n",
    "list4 = []\n",
    "\n",
    "for i in range(len(byspeed)): # byspeed byproportion\n",
    "    if byspeed[i]==1:\n",
    "        list1.append(index_min_loss_list[i]) # index_min_loss_list  acc_at_min_loss_list\n",
    "    if byspeed[i]==2:\n",
    "        list2.append(index_min_loss_list[i]) # index_min_loss_list  acc_at_min_loss_list\n",
    "    if byspeed[i]==3:\n",
    "        list3.append(index_min_loss_list[i]) # index_min_loss_list  acc_at_min_loss_list\n",
    "    if byspeed[i]==4:\n",
    "        list4.append(index_min_loss_list[i]) # index_min_loss_list  acc_at_min_loss_list"
   ]
  },
  {
   "cell_type": "code",
   "execution_count": 37,
   "metadata": {},
   "outputs": [
    {
     "name": "stdout",
     "output_type": "stream",
     "text": [
      "(0.9293078780174255, 0.5450283885002136)\n",
      "(0.9610313773155212, 0.8275331258773804)\n",
      "(0.9783974289894104, 0.951404333114624)\n",
      "(0.8569827079772949, 0.14222601056098938)\n"
     ]
    }
   ],
   "source": [
    "print(stats.shapiro(list1))\n",
    "print(stats.shapiro(list2))\n",
    "print(stats.shapiro(list3))\n",
    "print(stats.shapiro(list4))"
   ]
  },
  {
   "cell_type": "code",
   "execution_count": 38,
   "metadata": {},
   "outputs": [
    {
     "name": "stdout",
     "output_type": "stream",
     "text": [
      "LeveneResult(statistic=0.1673410184904737, pvalue=0.6896924989488988)\n",
      "LeveneResult(statistic=0.03870159442887254, pvalue=0.8473335183739926)\n",
      "LeveneResult(statistic=0.7166041613262482, pvalue=0.41382339016370745)\n",
      "LeveneResult(statistic=0.5106981331098461, pvalue=0.4885064641371202)\n",
      "LeveneResult(statistic=1.9295664285590914, pvalue=0.19004521059887544)\n"
     ]
    }
   ],
   "source": [
    "print(stats.levene(list1,list2))\n",
    "print(stats.levene(list2,list3))\n",
    "print(stats.levene(list3,list4))\n",
    "print(stats.levene(list1,list3))\n",
    "print(stats.levene(list1,list4))"
   ]
  },
  {
   "cell_type": "code",
   "execution_count": 39,
   "metadata": {},
   "outputs": [
    {
     "name": "stdout",
     "output_type": "stream",
     "text": [
      "WilcoxonResult(statistic=0.0, pvalue=0.022494271222449652)\n",
      "WilcoxonResult(statistic=1.0, pvalue=0.03461055751570734)\n",
      "WilcoxonResult(statistic=11.0, pvalue=0.6726038174415165)\n",
      "WilcoxonResult(statistic=8.0, pvalue=0.35254213749971297)\n",
      "WilcoxonResult(statistic=3.0, pvalue=0.07592696298255763)\n"
     ]
    },
    {
     "name": "stderr",
     "output_type": "stream",
     "text": [
      "c:\\users\\12990\\appdata\\local\\programs\\python\\python37\\lib\\site-packages\\scipy\\stats\\morestats.py:2879: UserWarning: Sample size too small for normal approximation.\n",
      "  warnings.warn(\"Sample size too small for normal approximation.\")\n"
     ]
    }
   ],
   "source": [
    "print(stats.wilcoxon(list1,list2,zero_method='wilcox', correction=True))\n",
    "print(stats.wilcoxon(list2,list3,zero_method='wilcox', correction=True))\n",
    "print(stats.wilcoxon(list3,list4,zero_method='wilcox', correction=True))\n",
    "print(stats.wilcoxon(list1,list3,zero_method='wilcox', correction=True))\n",
    "print(stats.wilcoxon(list1,list4,zero_method='wilcox', correction=True))"
   ]
  },
  {
   "cell_type": "code",
   "execution_count": 40,
   "metadata": {},
   "outputs": [
    {
     "name": "stdout",
     "output_type": "stream",
     "text": [
      "Ttest_relResult(statistic=-3.3182325756582807, pvalue=0.016039578539302903)\n",
      "Ttest_relResult(statistic=3.429495274113892, pvalue=0.013979835180351577)\n",
      "Ttest_relResult(statistic=-0.8252372238489946, pvalue=0.440805703220018)\n",
      "Ttest_relResult(statistic=-1.5729187498573118, pvalue=0.16679967612748492)\n",
      "Ttest_relResult(statistic=-2.327606586628593, pvalue=0.05883312804829939)\n"
     ]
    }
   ],
   "source": [
    "print(stats.ttest_rel(list1, list2))\n",
    "print(stats.ttest_rel(list2, list3))\n",
    "print(stats.ttest_rel(list3, list4))\n",
    "print(stats.ttest_rel(list1, list3))\n",
    "print(stats.ttest_rel(list1, list4))"
   ]
  },
  {
   "cell_type": "code",
   "execution_count": null,
   "metadata": {},
   "outputs": [],
   "source": []
  },
  {
   "cell_type": "code",
   "execution_count": 41,
   "metadata": {},
   "outputs": [
    {
     "data": {
      "text/plain": [
       "(0, 5)"
      ]
     },
     "execution_count": 41,
     "metadata": {},
     "output_type": "execute_result"
    },
    {
     "data": {
      "image/png": "[encoded data removed]",
      "text/plain": [
       "<Figure size 360x216 with 1 Axes>"
      ]
     },
     "metadata": {
      "needs_background": "light"
     },
     "output_type": "display_data"
    }
   ],
   "source": [
    "# plt.scatter(index_min_loss_list,byspeed, color=color_list) # byspeed, byproportion\n",
    "# plt.scatter(acc_at_min_loss_list,byspeed, color=color_list) # byspeed, byproportion\n",
    "\n",
    "plt.boxplot([list1,list2,list3,list4],vert=False,showmeans=True)  \n",
    "\n",
    "plt.gcf().set_size_inches(5, 3)\n",
    "\n",
    "\n",
    "# plt.xlabel('Global Round',fontsize=14) \n",
    "plt.xlabel('Accuracy -min_loss',fontsize=14)  \n",
    " \n",
    "# plt.ylabel('Delay Speed',fontsize=14) \n",
    "# plt.yticks([0,1,2,3,4,6],['','0','3','12','30',''],rotation=0)\n",
    "\n",
    "plt.ylabel('Proportion',fontsize=14) \n",
    "plt.yticks([0,1,2,3,4,5],['','0','<50','50','>50',''],rotation=90)\n",
    "\n",
    "patch1 = mpatches.Patch(color='r', label='4k')\n",
    "patch2 = mpatches.Patch(color='b', label='40k')\n",
    "# patch3 = mpatches.Patch(color='g', label='10w')\n",
    "# patch4 = mpatches.Patch(color='m', label='40w')\n",
    "\n",
    "plt.ylim([0,5])\n",
    "# plt.legend(handles=[patch1,patch2])\n"
   ]
  },
  {
   "cell_type": "code",
   "execution_count": 42,
   "metadata": {},
   "outputs": [
    {
     "data": {
      "text/plain": [
       "LeveneResult(statistic=0.6574647852464649, pvalue=0.5861989703269679)"
      ]
     },
     "execution_count": 42,
     "metadata": {},
     "output_type": "execute_result"
    }
   ],
   "source": [
    "stats.levene(list1,list2,list3,list4)"
   ]
  },
  {
   "cell_type": "code",
   "execution_count": 43,
   "metadata": {},
   "outputs": [
    {
     "data": {
      "text/plain": [
       "F_onewayResult(statistic=1.529155853774428, pvalue=0.23251647390207167)"
      ]
     },
     "execution_count": 43,
     "metadata": {},
     "output_type": "execute_result"
    }
   ],
   "source": [
    "stats.f_oneway(list1,list2,list3,list4)"
   ]
  },
  {
   "cell_type": "code",
   "execution_count": 44,
   "metadata": {},
   "outputs": [
    {
     "data": {
      "text/plain": [
       "Ttest_relResult(statistic=-3.3182325756582807, pvalue=0.016039578539302903)"
      ]
     },
     "execution_count": 44,
     "metadata": {},
     "output_type": "execute_result"
    }
   ],
   "source": [
    "stats.ttest_rel(list1, list2) "
   ]
  },
  {
   "cell_type": "code",
   "execution_count": 45,
   "metadata": {},
   "outputs": [
    {
     "data": {
      "text/plain": [
       "Ttest_relResult(statistic=3.429495274113892, pvalue=0.013979835180351577)"
      ]
     },
     "execution_count": 45,
     "metadata": {},
     "output_type": "execute_result"
    }
   ],
   "source": [
    "stats.ttest_rel(list2, list3) "
   ]
  },
  {
   "cell_type": "code",
   "execution_count": 46,
   "metadata": {},
   "outputs": [
    {
     "data": {
      "text/plain": [
       "Ttest_relResult(statistic=-0.8252372238489946, pvalue=0.440805703220018)"
      ]
     },
     "execution_count": 46,
     "metadata": {},
     "output_type": "execute_result"
    }
   ],
   "source": [
    "stats.ttest_rel(list3, list4) "
   ]
  },
  {
   "cell_type": "code",
   "execution_count": 47,
   "metadata": {},
   "outputs": [
    {
     "data": {
      "text/plain": [
       "Ttest_relResult(statistic=-1.5729187498573118, pvalue=0.16679967612748492)"
      ]
     },
     "execution_count": 47,
     "metadata": {},
     "output_type": "execute_result"
    }
   ],
   "source": [
    "stats.ttest_rel(list1, list3) "
   ]
  },
  {
   "cell_type": "code",
   "execution_count": 48,
   "metadata": {},
   "outputs": [
    {
     "data": {
      "text/plain": [
       "Ttest_relResult(statistic=-2.327606586628593, pvalue=0.05883312804829939)"
      ]
     },
     "execution_count": 48,
     "metadata": {},
     "output_type": "execute_result"
    }
   ],
   "source": [
    "stats.ttest_rel(list1, list4) "
   ]
  },
  {
   "cell_type": "code",
   "execution_count": null,
   "metadata": {},
   "outputs": [],
   "source": []
  },
  {
   "cell_type": "code",
   "execution_count": null,
   "metadata": {},
   "outputs": [],
   "source": []
  }
 ],
 "metadata": {
  "kernelspec": {
   "display_name": "Python 3",
   "language": "python",
   "name": "python3"
  },
  "language_info": {
   "codemirror_mode": {
    "name": "ipython",
    "version": 3
   },
   "file_extension": ".py",
   "mimetype": "text/x-python",
   "name": "python",
   "nbconvert_exporter": "python",
   "pygments_lexer": "ipython3",
   "version": "3.7.4"
  }
 },
 "nbformat": 4,
 "nbformat_minor": 4
}
