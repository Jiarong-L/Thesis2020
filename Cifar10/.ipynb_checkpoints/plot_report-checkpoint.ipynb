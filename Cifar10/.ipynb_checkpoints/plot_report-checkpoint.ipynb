{
 "cells": [
  {
   "cell_type": "code",
   "execution_count": 1,
   "metadata": {},
   "outputs": [],
   "source": [
    "import numpy as np\n",
    "import os\n",
    "import matplotlib.pyplot as plt\n",
    "import glob\n",
    "import statistics\n",
    "import pandas as pd\n",
    "%matplotlib inline"
   ]
  },
  {
   "cell_type": "code",
   "execution_count": 2,
   "metadata": {},
   "outputs": [],
   "source": [
    "## basic read in"
   ]
  },
  {
   "cell_type": "code",
   "execution_count": 3,
   "metadata": {},
   "outputs": [],
   "source": [
    "def max_acc_point(acc_list):\n",
    "    acc_point = np.argmax(acc_list)\n",
    "    return acc_point"
   ]
  },
  {
   "cell_type": "code",
   "execution_count": 4,
   "metadata": {},
   "outputs": [],
   "source": [
    "def min_loss_point(loss_list):\n",
    "    loss_point = np.argmin(loss_list)\n",
    "    return loss_point"
   ]
  },
  {
   "cell_type": "code",
   "execution_count": 5,
   "metadata": {},
   "outputs": [],
   "source": [
    "def index_less_than(mylist,myvalue,value2):\n",
    "    for i in range(len(mylist)):\n",
    "        if mylist[i]<myvalue:\n",
    "            if mylist[i]>0.78:\n",
    "                return len(mylist)-1\n",
    "            else:\n",
    "                return i\n",
    "    return len(mylist)-1"
   ]
  },
  {
   "cell_type": "code",
   "execution_count": 6,
   "metadata": {},
   "outputs": [],
   "source": [
    "def es_point(acc_list,p): # p means steps after the max index\n",
    "    max_num = 0\n",
    "    count = 0\n",
    "    for i in range(len(acc_list)):\n",
    "        if acc_list[i]>max_num:\n",
    "            max_num = acc_list[i]\n",
    "            count = 0\n",
    "        count = count+1\n",
    "        if count>p:\n",
    "            return i-1\n",
    "    return int(len(acc_list)-1)"
   ]
  },
  {
   "cell_type": "code",
   "execution_count": 7,
   "metadata": {},
   "outputs": [],
   "source": [
    "def windowed(s,half_window): # s is a list\n",
    "    s_mean=[]\n",
    "    s_var=[]\n",
    "    window_size = half_window*2 + 1\n",
    "    for i in range(len(s)-window_size+1):\n",
    "        k = i + half_window \n",
    "        s_sub=s[k-half_window:k+half_window+1]\n",
    "        sub_mean=sum(s_sub)/len(s_sub)\n",
    "        s_mean.append(sub_mean)\n",
    "        sub_var=statistics.variance(s_sub)\n",
    "        s_var.append(sub_var)\n",
    "    return s_mean,s_var"
   ]
  },
  {
   "cell_type": "code",
   "execution_count": 8,
   "metadata": {},
   "outputs": [],
   "source": [
    "def read_acc_mean(files,i,speed=1):\n",
    "    fileset = pd.concat( [pd.read_csv(f,header=None,sep=' ',names=['loss','acc'])['acc'] for f in files], axis=1)\n",
    "    normalset = pd.concat( [fileset.iloc[:,i] for i in range(len(fileset.columns)) if fileset.iloc[:,i].isnull().any()==False], axis=1)\n",
    "    normalset_mean = normalset.mean(axis=1).dropna()\n",
    "    if speed==1:\n",
    "        return normalset_mean   \n",
    "    delayset = pd.concat( [fileset.iloc[:,i] for i in range(len(fileset.columns)) if fileset.iloc[:,i].isnull().any()==True], axis=1)\n",
    "    delayset_mean = delayset.mean(axis=1).dropna()\n",
    "    return normalset_mean,delayset_mean\n",
    "def read_loss_mean(files,i,speed=1):\n",
    "    fileset = pd.concat( [pd.read_csv(f,header=None,sep=' ',names=['loss','acc'])['loss'] for f in files], axis=1)\n",
    "    normalset = pd.concat( [fileset.iloc[:,i] for i in range(len(fileset.columns)) if fileset.iloc[:,i].isnull().any()==False], axis=1)\n",
    "    normalset_mean = normalset.mean(axis=1).dropna()\n",
    "    if speed==1:\n",
    "        return normalset_mean   \n",
    "    delayset = pd.concat( [fileset.iloc[:,i] for i in range(len(fileset.columns)) if fileset.iloc[:,i].isnull().any()==True], axis=1)\n",
    "    delayset_mean = delayset.mean(axis=1).dropna()\n",
    "    return normalset_mean,delayset_mean"
   ]
  },
  {
   "cell_type": "code",
   "execution_count": 9,
   "metadata": {},
   "outputs": [],
   "source": [
    "## how to plot"
   ]
  },
  {
   "cell_type": "code",
   "execution_count": 10,
   "metadata": {},
   "outputs": [],
   "source": [
    "def plot_line(i,k,basedir,result,lab,addon=''):\n",
    "    s1=np.load(os.path.join(basedir,result[k]))\n",
    "    p=1000\n",
    "    s1_epo = [i+1 for i in s1[0][:p]]\n",
    "    ax[i].plot(s1_epo,s1[2][:p], label=lab[k]+addon)"
   ]
  },
  {
   "cell_type": "code",
   "execution_count": 11,
   "metadata": {},
   "outputs": [],
   "source": [
    "def plot_window_acc(i,k,half_window,basedir,result,lab,line_color,dot_color,addon=''):\n",
    "    s1=np.load(os.path.join(basedir,result[k]))\n",
    "    p=1000\n",
    "    \n",
    "    (s_mean,s_varience)=windowed(s1[2][:p],half_window)\n",
    "\n",
    "    s_epo=[i+half_window+1 for i in range(len(s_mean))]\n",
    "    ax[i].plot(s_epo,s_mean, label=lab[k]+addon,color = line_color) # can also plot s_varience if want\n",
    "    \n",
    "    (s_loss,_)=windowed(s1[1][:p],half_window)\n",
    "    \n",
    "    index_min_loss = min_loss_point(s_loss)\n",
    "    ax[i].plot(index_min_loss+half_window+1,s_mean[index_min_loss],dot_color)\n",
    "    \n",
    "    \n",
    "#     # for bad node only\n",
    "#     index_min_loss = min_loss_point(s_loss)\n",
    "#     index_min_acc = min_loss_point(s_mean[index_min_loss:])+index_min_loss\n",
    "#     min_acc = s_mean[index_min_acc]\n",
    "#     index_less_than_nb = index_less_than(s_mean[index_min_loss:],min_acc+0.025,1)+index_min_loss\n",
    "#     acc_drop = s_mean[index_less_than_nb]\n",
    "#     ax[i].scatter(index_less_than_nb,acc_drop,c='k')\n",
    "    \n",
    "\n",
    "#     index_max=np.argmax(s_mean)\n",
    "#     ax[i].plot(index_max,s_mean[index_max],dot_color)\n"
   ]
  },
  {
   "cell_type": "code",
   "execution_count": 12,
   "metadata": {},
   "outputs": [],
   "source": [
    "def plot_file_acc(i,k,basedir,node_dir,lab,speed=1,filename='self_EVAL.txt'):\n",
    "    files = glob.glob(basedir +'/'+ node_dir[k]+ '/worker_nodes/*/'+filename)\n",
    "    linelab = lab[k]\n",
    "    if speed==1:\n",
    "        normalset_mean = read_acc_mean(files,i,speed)\n",
    "        set_plt = [i+1 for i in range(len(normalset_mean))]\n",
    "        ax[i].plot(set_plt,normalset_mean, label=linelab+'_t')\n",
    "#         print('only usual')\n",
    "        \n",
    "    else:\n",
    "        normalset_mean,delayset_mean = read_acc_mean(files,i,speed)\n",
    "        \n",
    "        normal_plt = [i+1 for i in range(len(normalset_mean))]\n",
    "        ax[i].plot(normal_plt,normalset_mean, label=linelab+'_usual')\n",
    "        \n",
    "        new_delay_set = [val for val in delayset_mean for _ in range(speed)]\n",
    "        delay_plt = [i+1 for i in range(len(new_delay_set))]\n",
    "        ax[i].plot(delay_plt,new_delay_set, label=linelab+'_delay')"
   ]
  },
  {
   "cell_type": "code",
   "execution_count": 13,
   "metadata": {},
   "outputs": [],
   "source": [
    "def plot_file_window_acc(i,k,half_window,basedir,node_dir,lab,speed=1,filename='self_EVAL.txt'):\n",
    "    files = glob.glob(basedir +'/'+ node_dir[k]+ '/worker_nodes/*/'+filename)\n",
    "    linelab = lab[k]\n",
    "    if speed==1:\n",
    "        normalset_mean = read_acc_mean(files,i,speed)\n",
    "        (s_mean,s_varience)=windowed(normalset_mean,half_window)\n",
    "        s_epo=[i+half_window+1 for i in range(len(s_mean))]\n",
    "        ax[i].plot(s_epo,s_mean, label=linelab+'_t')\n",
    "    else:\n",
    "        normalset_mean,delayset_mean = read_acc_mean(files,i,speed)\n",
    "\n",
    "        (s_mean,s_varience)=windowed(normalset_mean,half_window)\n",
    "        s_epo=[i+half_window+1 for i in range(len(s_mean))]\n",
    "        ax[i].plot(s_epo,s_mean, label=linelab+'_usual')\n",
    "        \n",
    "        new_delay_set = [val for val in delayset_mean for _ in range(speed)]\n",
    "        (s_mean,s_varience)=windowed(new_delay_set,half_window)\n",
    "        s_epo=[i+half_window+1 for i in range(len(s_mean))]\n",
    "        ax[i].plot(s_epo,s_mean, label=linelab+'_delay')\n"
   ]
  },
  {
   "cell_type": "code",
   "execution_count": null,
   "metadata": {},
   "outputs": [],
   "source": []
  },
  {
   "cell_type": "code",
   "execution_count": null,
   "metadata": {},
   "outputs": [],
   "source": []
  },
  {
   "cell_type": "markdown",
   "metadata": {},
   "source": [
    "## Poison Data"
   ]
  },
  {
   "cell_type": "code",
   "execution_count": 15,
   "metadata": {},
   "outputs": [],
   "source": [
    "basedir=os.path.join('RESULT_4000/ShareData')\n",
    "# os.listdir(basedir)"
   ]
  },
  {
   "cell_type": "code",
   "execution_count": null,
   "metadata": {},
   "outputs": [],
   "source": [
    "half_window = 10\n",
    "\n",
    "s1=np.load(os.path.join('RESULT_4000/ShareData','iid.10w.4000.share100.loc1.earlystop500.20200505-111139.npy'))\n",
    "(s_mean,s_varience)=windowed(s1[2][:1000],half_window)\n",
    "s_epo=[i+half_window+1 for i in range(len(s_mean))]\n",
    "plt.plot(s_epo,s_mean,label = 'iid',color='k') \n",
    "(s_loss,_)=windowed(s1[1][:1000],half_window)\n",
    "index_min_loss = min_loss_point(s_loss)\n",
    "plt.plot(index_min_loss+half_window+1,s_mean[index_min_loss],'ks')\n",
    "\n",
    "\n",
    "s1=np.load(os.path.join('RESULT_4000/ShareData','1c.10w.4000.share100_epoiid.loc1.earlystop500.20200505-052608.npy'))\n",
    "(s_mean,s_varience)=windowed(s1[2][:1000],half_window)\n",
    "s_epo=[i+half_window+1 for i in range(len(s_mean))]\n",
    "plt.plot(s_epo,s_mean,label = 'resample',color='r') \n",
    "(s_loss,_)=windowed(s1[1][:1000],half_window)\n",
    "index_min_loss = min_loss_point(s_loss)\n",
    "plt.plot(index_min_loss+half_window+1,s_mean[index_min_loss],'rs')\n",
    "\n",
    "s1=np.load(os.path.join('RESULT_4000/ShareData','1c.10w.4000.share100.loc1.earlystop500.20200504-211245.npy'))\n",
    "(s_mean,s_varience)=windowed(s1[2][:1000],half_window)\n",
    "s_epo=[i+half_window+1 for i in range(len(s_mean))]\n",
    "plt.plot(s_epo,s_mean,label = 'share',color='b') \n",
    "(s_loss,_)=windowed(s1[1][:1000],half_window)\n",
    "index_min_loss = min_loss_point(s_loss)\n",
    "plt.plot(index_min_loss+half_window+1,s_mean[index_min_loss],'bs')\n",
    "\n",
    "s1=np.load(os.path.join('RESULT_4000/Pilot_classes','1c.10w.4000.loc1.earlystop500.20200510-163959.npy'))\n",
    "(s_mean,s_varience)=windowed(s1[2][:1000],half_window)\n",
    "s_epo=[i+half_window+1 for i in range(len(s_mean))]\n",
    "plt.plot(s_epo,s_mean,label = '1c',color='g') \n",
    "(s_loss,_)=windowed(s1[1][:1000],half_window)\n",
    "index_min_loss = min_loss_point(s_loss)\n",
    "plt.plot(index_min_loss+half_window+1,s_mean[index_min_loss],'gs')\n",
    "\n",
    "\n",
    "plt.gcf().set_size_inches(5, 3)\n",
    "\n",
    "plt.title('1c - share2.5% - 4k',fontsize=14)\n",
    "plt.ylabel('Accuracy',fontsize=14) \n",
    "plt.ylim([0, 1.1])    \n",
    "plt.xlabel('Global Round',fontsize=14)      \n",
    "plt.grid(axis=\"y\",ls='-.')\n",
    "plt.legend()"
   ]
  },
  {
   "cell_type": "code",
   "execution_count": null,
   "metadata": {},
   "outputs": [],
   "source": []
  },
  {
   "cell_type": "code",
   "execution_count": 23,
   "metadata": {},
   "outputs": [
    {
     "data": {
      "text/plain": [
       "<matplotlib.legend.Legend at 0x1f92d2dec08>"
      ]
     },
     "execution_count": 23,
     "metadata": {},
     "output_type": "execute_result"
    },
    {
     "data": {
      "image/png": "[encoded data removed]",
      "text/plain": [
       "<Figure size 360x216 with 1 Axes>"
      ]
     },
     "metadata": {
      "needs_background": "light"
     },
     "output_type": "display_data"
    }
   ],
   "source": [
    "half_window = 10\n",
    "\n",
    "s1=np.load(os.path.join('RESULT_40000/ShareData','iid.10w.40000.share1000.loc1.earlystop1000.20200521-195217.npy'))\n",
    "(s_mean,s_varience)=windowed(s1[2][:1000],half_window)\n",
    "s_epo=[i+half_window+1 for i in range(len(s_mean))]\n",
    "plt.plot(s_epo,s_mean,label = 'iid',color='k') \n",
    "(s_loss,_)=windowed(s1[1][:1000],half_window)\n",
    "index_min_loss = min_loss_point(s_loss)\n",
    "plt.plot(index_min_loss+half_window+1,s_mean[index_min_loss],'ks')\n",
    "\n",
    "\n",
    "s1=np.load(os.path.join('RESULT_40000/ShareData','1c.10w.40000.share1000_lociid.loc1.earlystop1000.20200523-031407.npy'))\n",
    "(s_mean,s_varience)=windowed(s1[2][:1000],half_window)\n",
    "s_epo=[i+half_window+1 for i in range(len(s_mean))]\n",
    "plt.plot(s_epo,s_mean,label = 'resample',color='r') \n",
    "(s_loss,_)=windowed(s1[1][:1000],half_window)\n",
    "index_min_loss = min_loss_point(s_loss)\n",
    "plt.plot(index_min_loss+half_window+1,s_mean[index_min_loss],'rs')\n",
    "\n",
    "s1=np.load(os.path.join('RESULT_40000/ShareData','1c.10w.40000.share1000.loc1.earlystop1000.20200521-194921.npy'))\n",
    "(s_mean,s_varience)=windowed(s1[2][:1000],half_window)\n",
    "s_epo=[i+half_window+1 for i in range(len(s_mean))]\n",
    "plt.plot(s_epo,s_mean,label = 'share',color='b') \n",
    "(s_loss,_)=windowed(s1[1][:1000],half_window)\n",
    "index_min_loss = min_loss_point(s_loss)\n",
    "plt.plot(index_min_loss+half_window+1,s_mean[index_min_loss],'bs')\n",
    "\n",
    "\n",
    "plt.gcf().set_size_inches(5, 3)\n",
    "\n",
    "plt.title('1c - share2.5% - 40k',fontsize=14)\n",
    "plt.ylabel('Accuracy',fontsize=14) \n",
    "plt.ylim([0, 1.1])    \n",
    "plt.xlabel('Global Round',fontsize=14)      \n",
    "plt.grid(axis=\"y\",ls='-.')\n",
    "plt.legend()"
   ]
  },
  {
   "cell_type": "code",
   "execution_count": 25,
   "metadata": {},
   "outputs": [
    {
     "data": {
      "text/plain": [
       "<matplotlib.legend.Legend at 0x1f92e34df48>"
      ]
     },
     "execution_count": 25,
     "metadata": {},
     "output_type": "execute_result"
    },
    {
     "data": {
      "image/png": "[encoded data removed]",
      "text/plain": [
       "<Figure size 360x216 with 1 Axes>"
      ]
     },
     "metadata": {
      "needs_background": "light"
     },
     "output_type": "display_data"
    }
   ],
   "source": [
    "half_window = 10\n",
    "\n",
    "# s1=np.load(os.path.join('RESULT_40000/ShareData','iid.10w.40000.share1000.loc1.earlystop1000.20200521-195217.npy'))\n",
    "# (s_mean,s_varience)=windowed(s1[2][:1000],half_window)\n",
    "# s_epo=[i+half_window+1 for i in range(len(s_mean))]\n",
    "# plt.plot(s_epo,s_mean,label = 'iid',color='k') \n",
    "# (s_loss,_)=windowed(s1[1][:1000],half_window)\n",
    "# index_min_loss = min_loss_point(s_loss)\n",
    "# plt.plot(index_min_loss+half_window+1,s_mean[index_min_loss],'ks')\n",
    "\n",
    "\n",
    "s1=np.load(os.path.join('RESULT_40000/ShareData','5c.10w.40000.share1000_lociid.loc1.earlystop1000.20200523-040734.npy'))\n",
    "(s_mean,s_varience)=windowed(s1[2][:1000],half_window)\n",
    "s_epo=[i+half_window+1 for i in range(len(s_mean))]\n",
    "plt.plot(s_epo,s_mean,label = 'resample',color='r') \n",
    "(s_loss,_)=windowed(s1[1][:1000],half_window)\n",
    "index_min_loss = min_loss_point(s_loss)\n",
    "plt.plot(index_min_loss+half_window+1,s_mean[index_min_loss],'rs')\n",
    "\n",
    "s1=np.load(os.path.join('RESULT_40000/ShareData','5c.10w.40000.share1000.loc1.earlystop1000.20200521-194613.npy'))\n",
    "(s_mean,s_varience)=windowed(s1[2][:1000],half_window)\n",
    "s_epo=[i+half_window+1 for i in range(len(s_mean))]\n",
    "plt.plot(s_epo,s_mean,label = 'share',color='b') \n",
    "(s_loss,_)=windowed(s1[1][:1000],half_window)\n",
    "index_min_loss = min_loss_point(s_loss)\n",
    "plt.plot(index_min_loss+half_window+1,s_mean[index_min_loss],'bs')\n",
    "\n",
    "s1=np.load(os.path.join('RESULT_40000/LocalStep','5c.10w.40000.loc1.earlystop1000.20200521-171047.npy'))\n",
    "(s_mean,s_varience)=windowed(s1[2][:1000],half_window)\n",
    "s_epo=[i+half_window+1 for i in range(len(s_mean))]\n",
    "plt.plot(s_epo,s_mean,label = '5c',color='g') \n",
    "(s_loss,_)=windowed(s1[1][:1000],half_window)\n",
    "index_min_loss = min_loss_point(s_loss)\n",
    "plt.plot(index_min_loss+half_window+1,s_mean[index_min_loss],'gs')\n",
    "\n",
    "\n",
    "plt.gcf().set_size_inches(5, 3)\n",
    "\n",
    "plt.title('5c - share 2.5% - 40k',fontsize=14)\n",
    "plt.ylabel('Accuracy',fontsize=14) \n",
    "plt.ylim([0, 1.1])    \n",
    "plt.xlabel('Global Round',fontsize=14)      \n",
    "plt.grid(axis=\"y\",ls='-.')\n",
    "plt.legend()"
   ]
  },
  {
   "cell_type": "code",
   "execution_count": null,
   "metadata": {},
   "outputs": [],
   "source": []
  },
  {
   "cell_type": "code",
   "execution_count": null,
   "metadata": {},
   "outputs": [],
   "source": []
  },
  {
   "cell_type": "code",
   "execution_count": 18,
   "metadata": {},
   "outputs": [
    {
     "data": {
      "text/plain": [
       "<matplotlib.legend.Legend at 0x1f92cf1bec8>"
      ]
     },
     "execution_count": 18,
     "metadata": {},
     "output_type": "execute_result"
    },
    {
     "data": {
      "image/png": "[encoded data removed]",
      "text/plain": [
       "<Figure size 360x216 with 1 Axes>"
      ]
     },
     "metadata": {
      "needs_background": "light"
     },
     "output_type": "display_data"
    }
   ],
   "source": [
    "half_window = 10\n",
    "\n",
    "s1=np.load(os.path.join('RESULT_40000/BadNode','iid.10w.40000.plus1bad_each400.loc1.earlystop1000.20200521-185542.npy'))\n",
    "(s_mean,s_varience)=windowed(s1[2][:1000],half_window)\n",
    "s_epo=[i+half_window+1 for i in range(len(s_mean))]\n",
    "plt.plot(s_epo,s_mean,label = '40k',color='k') \n",
    "(s_loss,_)=windowed(s1[1][:1000],half_window)\n",
    "index_min_loss = min_loss_point(s_loss)\n",
    "plt.plot(index_min_loss+half_window+1,s_mean[index_min_loss],'ks')\n",
    "\n",
    "\n",
    "\n",
    "s1=np.load(os.path.join('RESULT_4000/BadNode','11d.10w.4000.plus1bad_each40.loc1.earlystop500.20200501-020918.npy'))\n",
    "(s_mean,s_varience)=windowed(s1[2][:1000],half_window)\n",
    "s_epo=[i+half_window+1 for i in range(len(s_mean))]\n",
    "plt.plot(s_epo,s_mean,label = '4k',color='r') \n",
    "(s_loss,_)=windowed(s1[1][:1000],half_window)\n",
    "index_min_loss = min_loss_point(s_loss)\n",
    "plt.plot(index_min_loss+half_window+1,s_mean[index_min_loss],'rs')\n",
    "\n",
    "\n",
    "s1=np.load(os.path.join('RESULT_40000/BadNode','iid.10w.40000.loc1.earlystop1000.20200521-172951.npy'))\n",
    "(s_mean,s_varience)=windowed(s1[2][:1000],half_window)\n",
    "s_epo=[i+half_window+1 for i in range(len(s_mean))]\n",
    "plt.plot(s_epo,s_mean,color='c') \n",
    "(s_loss,_)=windowed(s1[1][:1000],half_window)\n",
    "index_min_loss = min_loss_point(s_loss)\n",
    "plt.plot(index_min_loss+half_window+1,s_mean[index_min_loss],'cs')\n",
    "\n",
    "\n",
    "\n",
    "s1=np.load(os.path.join('RESULT_4000/BadNode','iid.10w.4000.loc1.earlystop500.20200501-020117.npy'))\n",
    "(s_mean,s_varience)=windowed(s1[2][:1000],half_window)\n",
    "s_epo=[i+half_window+1 for i in range(len(s_mean))]\n",
    "plt.plot(s_epo,s_mean,color='c') \n",
    "(s_loss,_)=windowed(s1[1][:1000],half_window)\n",
    "index_min_loss = min_loss_point(s_loss)\n",
    "plt.plot(index_min_loss+half_window+1,s_mean[index_min_loss],'cs')\n",
    "\n",
    "\n",
    "\n",
    "\n",
    "plt.gcf().set_size_inches(5, 3)\n",
    "\n",
    "plt.title('1%-1   IID',fontsize=14)\n",
    "plt.ylabel('Accuracy',fontsize=14) \n",
    "plt.ylim([0, 1.1])    \n",
    "plt.xlabel('Global Round',fontsize=14)      \n",
    "plt.grid(axis=\"y\",ls='-.')\n",
    "plt.legend()"
   ]
  },
  {
   "cell_type": "code",
   "execution_count": null,
   "metadata": {},
   "outputs": [],
   "source": []
  },
  {
   "cell_type": "code",
   "execution_count": 19,
   "metadata": {},
   "outputs": [
    {
     "data": {
      "text/plain": [
       "<matplotlib.legend.Legend at 0x1f92cffce08>"
      ]
     },
     "execution_count": 19,
     "metadata": {},
     "output_type": "execute_result"
    },
    {
     "data": {
      "image/png": "[encoded data removed]",
      "text/plain": [
       "<Figure size 360x216 with 1 Axes>"
      ]
     },
     "metadata": {
      "needs_background": "light"
     },
     "output_type": "display_data"
    }
   ],
   "source": [
    "half_window = 10\n",
    "\n",
    "s1=np.load(os.path.join('RESULT_40000/BadNode','5c.10w.40000.plus1bad_each400.loc1.earlystop1000.20200521-152400.npy'))\n",
    "(s_mean,s_varience)=windowed(s1[2][:1000],half_window)\n",
    "s_epo=[i+half_window+1 for i in range(len(s_mean))]\n",
    "plt.plot(s_epo,s_mean,label = '5c',color='k') \n",
    "(s_loss,_)=windowed(s1[1][:1000],half_window)\n",
    "index_min_loss = min_loss_point(s_loss)\n",
    "plt.plot(index_min_loss+half_window+1,s_mean[index_min_loss],'ks')\n",
    "\n",
    "\n",
    "s1=np.load(os.path.join('RESULT_40000/BadNode','3c.10w.40000.plus1bad_each400.loc1.earlystop1000.20200523-043427.npy'))\n",
    "(s_mean,s_varience)=windowed(s1[2][:1000],half_window)\n",
    "s_epo=[i+half_window+1 for i in range(len(s_mean))]\n",
    "plt.plot(s_epo,s_mean,label = '3c',color='r') \n",
    "(s_loss,_)=windowed(s1[1][:1000],half_window)\n",
    "index_min_loss = min_loss_point(s_loss)\n",
    "plt.plot(index_min_loss+half_window+1,s_mean[index_min_loss],'rs')\n",
    "\n",
    "s1=np.load(os.path.join('RESULT_40000/BadNode','2c.10w.40000.plus1bad_each400.loc1.earlystop1000.20200521-150153.npy'))\n",
    "(s_mean,s_varience)=windowed(s1[2][:1000],half_window)\n",
    "s_epo=[i+half_window+1 for i in range(len(s_mean))]\n",
    "plt.plot(s_epo,s_mean,label = '2c',color='b') \n",
    "(s_loss,_)=windowed(s1[1][:1000],half_window)\n",
    "index_min_loss = min_loss_point(s_loss)\n",
    "plt.plot(index_min_loss+half_window+1,s_mean[index_min_loss],'bs')\n",
    "\n",
    "\n",
    "s1=np.load(os.path.join('RESULT_40000/BadNode','5c.10w.40000.loc1.earlystop1000.20200521-171047.npy'))\n",
    "(s_mean,s_varience)=windowed(s1[2][:1000],half_window)\n",
    "s_epo=[i+half_window+1 for i in range(len(s_mean))]\n",
    "plt.plot(s_epo,s_mean,color='c') \n",
    "(s_loss,_)=windowed(s1[1][:1000],half_window)\n",
    "index_min_loss = min_loss_point(s_loss)\n",
    "plt.plot(index_min_loss+half_window+1,s_mean[index_min_loss],'cs')\n",
    "\n",
    "\n",
    "s1=np.load(os.path.join('RESULT_40000/BadNode','3c.10w.40000.loc1.earlystop1000.20200523-042344.npy'))\n",
    "(s_mean,s_varience)=windowed(s1[2][:1000],half_window)\n",
    "s_epo=[i+half_window+1 for i in range(len(s_mean))]\n",
    "plt.plot(s_epo,s_mean,color='c') \n",
    "(s_loss,_)=windowed(s1[1][:1000],half_window)\n",
    "index_min_loss = min_loss_point(s_loss)\n",
    "plt.plot(index_min_loss+half_window+1,s_mean[index_min_loss],'cs')\n",
    "\n",
    "s1=np.load(os.path.join('RESULT_40000/BadNode','2c.10w.40000.loc1.earlystop1000.20200521-163612.npy'))\n",
    "(s_mean,s_varience)=windowed(s1[2][:1000],half_window)\n",
    "s_epo=[i+half_window+1 for i in range(len(s_mean))]\n",
    "plt.plot(s_epo,s_mean,color='c') \n",
    "(s_loss,_)=windowed(s1[1][:1000],half_window)\n",
    "index_min_loss = min_loss_point(s_loss)\n",
    "plt.plot(index_min_loss+half_window+1,s_mean[index_min_loss],'cs')\n",
    "\n",
    "\n",
    "\n",
    "\n",
    "plt.gcf().set_size_inches(5, 3)\n",
    "\n",
    "plt.title('1%-1   40k',fontsize=14)\n",
    "plt.ylabel('Accuracy',fontsize=14) \n",
    "plt.ylim([0, 1.1])    \n",
    "plt.xlabel('Global Round',fontsize=14)      \n",
    "plt.grid(axis=\"y\",ls='-.')\n",
    "plt.legend()"
   ]
  },
  {
   "cell_type": "code",
   "execution_count": null,
   "metadata": {},
   "outputs": [],
   "source": []
  },
  {
   "cell_type": "code",
   "execution_count": null,
   "metadata": {},
   "outputs": [],
   "source": []
  },
  {
   "cell_type": "code",
   "execution_count": null,
   "metadata": {},
   "outputs": [],
   "source": []
  },
  {
   "cell_type": "code",
   "execution_count": null,
   "metadata": {},
   "outputs": [],
   "source": []
  }
 ],
 "metadata": {
  "kernelspec": {
   "display_name": "Python 3",
   "language": "python",
   "name": "python3"
  },
  "language_info": {
   "codemirror_mode": {
    "name": "ipython",
    "version": 3
   },
   "file_extension": ".py",
   "mimetype": "text/x-python",
   "name": "python",
   "nbconvert_exporter": "python",
   "pygments_lexer": "ipython3",
   "version": "3.7.4"
  }
 },
 "nbformat": 4,
 "nbformat_minor": 4
}
