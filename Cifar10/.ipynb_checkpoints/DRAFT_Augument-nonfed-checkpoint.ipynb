{
 "cells": [
  {
   "cell_type": "code",
   "execution_count": 1,
   "metadata": {},
   "outputs": [],
   "source": [
    "import tensorflow as tf\n",
    "import numpy as np\n",
    "import os\n",
    "import matplotlib.pyplot as plt\n",
    "import tensorflow as tf\n",
    "import glob\n",
    "%matplotlib inline"
   ]
  },
  {
   "cell_type": "code",
   "execution_count": 2,
   "metadata": {},
   "outputs": [],
   "source": [
    "gpus = tf.config.experimental.list_physical_devices(device_type='GPU')\n",
    "tf.config.experimental.set_virtual_device_configuration( gpus[0], [tf.config.experimental.VirtualDeviceConfiguration(memory_limit=3500)])"
   ]
  },
  {
   "cell_type": "code",
   "execution_count": 3,
   "metadata": {},
   "outputs": [
    {
     "data": {
      "text/plain": [
       "'2.0.1'"
      ]
     },
     "execution_count": 3,
     "metadata": {},
     "output_type": "execute_result"
    }
   ],
   "source": [
    "tf.__version__"
   ]
  },
  {
   "cell_type": "code",
   "execution_count": 4,
   "metadata": {},
   "outputs": [
    {
     "data": {
      "text/plain": [
       "True"
      ]
     },
     "execution_count": 4,
     "metadata": {},
     "output_type": "execute_result"
    }
   ],
   "source": [
    "tf.test.is_gpu_available()"
   ]
  },
  {
   "cell_type": "code",
   "execution_count": 5,
   "metadata": {},
   "outputs": [],
   "source": [
    "# tf.compat.v1.reset_default_graph()"
   ]
  },
  {
   "cell_type": "markdown",
   "metadata": {},
   "source": [
    "### What does img_augument do?"
   ]
  },
  {
   "cell_type": "code",
   "execution_count": 6,
   "metadata": {},
   "outputs": [],
   "source": [
    "def img_augument(img,lab):\n",
    "    img = tf.image.random_flip_left_right(img)\n",
    "    img = tf.image.random_flip_up_down(img)\n",
    "    img = tf.image.random_brightness(img, 0.2)\n",
    "    img = tf.image.random_hue(img,0.1)\n",
    "    img = tf.image.random_contrast(img, 0.5, 2)\n",
    "    return img, lab"
   ]
  },
  {
   "cell_type": "code",
   "execution_count": 7,
   "metadata": {},
   "outputs": [],
   "source": [
    "# test what augmentation have done\n",
    "test_img = tf.io.read_file('test.jpg')\n",
    "test_img = tf.image.decode_jpeg(test_img)"
   ]
  },
  {
   "cell_type": "code",
   "execution_count": 8,
   "metadata": {},
   "outputs": [],
   "source": [
    "# plt.imshow(img_augument(test_img,'cat')[0].numpy())"
   ]
  },
  {
   "cell_type": "code",
   "execution_count": 9,
   "metadata": {},
   "outputs": [],
   "source": [
    "# plt.imshow(test_img.numpy())"
   ]
  },
  {
   "cell_type": "markdown",
   "metadata": {},
   "source": [
    "### load dataset"
   ]
  },
  {
   "cell_type": "raw",
   "metadata": {},
   "source": [
    "Mention that only training set get augumented."
   ]
  },
  {
   "cell_type": "code",
   "execution_count": 10,
   "metadata": {},
   "outputs": [],
   "source": [
    "(x_train, y_train), (x_test, y_test) = tf.keras.datasets.cifar10.load_data()  #50000 train, 10000 test"
   ]
  },
  {
   "cell_type": "code",
   "execution_count": 11,
   "metadata": {},
   "outputs": [
    {
     "data": {
      "text/plain": [
       "array([9], dtype=uint8)"
      ]
     },
     "execution_count": 11,
     "metadata": {},
     "output_type": "execute_result"
    }
   ],
   "source": [
    "y_train[1]"
   ]
  },
  {
   "cell_type": "code",
   "execution_count": 12,
   "metadata": {},
   "outputs": [
    {
     "data": {
      "text/plain": [
       "(array([0, 1, 2, 3, 4, 5, 6, 7, 8, 9], dtype=uint8),\n",
       " array([5000, 5000, 5000, 5000, 5000, 5000, 5000, 5000, 5000, 5000],\n",
       "       dtype=int64))"
      ]
     },
     "execution_count": 12,
     "metadata": {},
     "output_type": "execute_result"
    }
   ],
   "source": [
    "np.unique(y_train,return_counts=True)"
   ]
  },
  {
   "cell_type": "code",
   "execution_count": 13,
   "metadata": {},
   "outputs": [],
   "source": [
    "'''\n",
    "batch size \n",
    "'''\n",
    "\n",
    "batch_size = 50   ## this is what previous tests are done with\n",
    "# batch_size = 5\n",
    "autotune=tf.data.experimental.AUTOTUNE\n",
    "buffer_size = x_train.shape[0]"
   ]
  },
  {
   "cell_type": "code",
   "execution_count": 14,
   "metadata": {},
   "outputs": [
    {
     "data": {
      "text/plain": [
       "(4000,)"
      ]
     },
     "execution_count": 14,
     "metadata": {},
     "output_type": "execute_result"
    }
   ],
   "source": [
    "category_index=[]     # if want to reduce the training set\n",
    "\n",
    "for i in range(10):\n",
    "    index0 = np.where(y_train == i)\n",
    "    index = index0[0]\n",
    "    np.random.shuffle(index)\n",
    "    category_index.append(index)\n",
    "\n",
    "new_index=[]\n",
    "for i in range(10):\n",
    "    new_index.append(category_index[i][0:400])    #################Assign data\n",
    "new_index=np.concatenate(new_index)\n",
    "new_index.shape"
   ]
  },
  {
   "cell_type": "code",
   "execution_count": 15,
   "metadata": {},
   "outputs": [],
   "source": [
    "augment=True                                             ######\n",
    "\n",
    "\n",
    "x_tr=tf.data.Dataset.from_tensor_slices(x_train[new_index])\n",
    "y_tr=tf.data.Dataset.from_tensor_slices(y_train[new_index])\n",
    "train_set=tf.data.Dataset.zip((x_tr, y_tr))\n",
    "if augment==True:\n",
    "    train_set=train_set.map(img_augument).shuffle(buffer_size,reshuffle_each_iteration=True).repeat().batch(batch_size).prefetch(buffer_size=autotune)\n",
    "else:\n",
    "    train_set=train_set.shuffle(buffer_size,reshuffle_each_iteration=True).repeat().batch(batch_size).prefetch(buffer_size=autotune)"
   ]
  },
  {
   "cell_type": "code",
   "execution_count": 16,
   "metadata": {},
   "outputs": [],
   "source": [
    "x_te=tf.data.Dataset.from_tensor_slices(x_test)\n",
    "y_te=tf.data.Dataset.from_tensor_slices(y_test)\n",
    "test_set=tf.data.Dataset.zip((x_te, y_te))\n",
    "test_set=test_set.repeat().batch(200).prefetch(buffer_size=autotune)"
   ]
  },
  {
   "cell_type": "code",
   "execution_count": null,
   "metadata": {},
   "outputs": [],
   "source": []
  },
  {
   "cell_type": "markdown",
   "metadata": {},
   "source": [
    "### model"
   ]
  },
  {
   "cell_type": "code",
   "execution_count": 17,
   "metadata": {},
   "outputs": [],
   "source": [
    "from models import ANN_model\n",
    "\n",
    "model=ANN_model()"
   ]
  },
  {
   "cell_type": "markdown",
   "metadata": {},
   "source": [
    "### train model"
   ]
  },
  {
   "cell_type": "code",
   "execution_count": 18,
   "metadata": {},
   "outputs": [],
   "source": [
    "# es_callback = tf.keras.callbacks.EarlyStopping(monitor='val_loss', patience=500)"
   ]
  },
  {
   "cell_type": "code",
   "execution_count": 19,
   "metadata": {},
   "outputs": [],
   "source": [
    "# lr_callback = tf.keras.callbacks.ReduceLROnPlateau(monitor='val_loss', patience=10, factor=0.8, min_lr=0.0001)"
   ]
  },
  {
   "cell_type": "code",
   "execution_count": 20,
   "metadata": {
    "scrolled": true
   },
   "outputs": [
    {
     "name": "stdout",
     "output_type": "stream",
     "text": [
      "Train for 80 steps, validate for 50 steps\n",
      "Epoch 1/200\n",
      "80/80 [==============================] - 5s 58ms/step - loss: 2.6344 - acc: 0.1503 - val_loss: 2.3495 - val_acc: 0.1855\n",
      "Epoch 2/200\n",
      "80/80 [==============================] - 1s 15ms/step - loss: 2.2099 - acc: 0.2128 - val_loss: 2.2478 - val_acc: 0.1896\n",
      "Epoch 3/200\n",
      "80/80 [==============================] - 1s 15ms/step - loss: 1.9750 - acc: 0.2792 - val_loss: 1.7612 - val_acc: 0.3646\n",
      "Epoch 4/200\n",
      "80/80 [==============================] - 1s 15ms/step - loss: 1.8392 - acc: 0.3275 - val_loss: 1.9849 - val_acc: 0.2949\n",
      "Epoch 5/200\n",
      "80/80 [==============================] - 1s 16ms/step - loss: 1.7493 - acc: 0.3562 - val_loss: 1.7680 - val_acc: 0.3702\n",
      "Epoch 6/200\n",
      "80/80 [==============================] - 1s 16ms/step - loss: 1.6437 - acc: 0.4038 - val_loss: 1.6165 - val_acc: 0.4180\n",
      "Epoch 7/200\n",
      "80/80 [==============================] - 1s 16ms/step - loss: 1.5534 - acc: 0.4408 - val_loss: 1.7070 - val_acc: 0.3991\n",
      "Epoch 8/200\n",
      "80/80 [==============================] - 1s 16ms/step - loss: 1.5202 - acc: 0.4383 - val_loss: 1.4431 - val_acc: 0.4736\n",
      "Epoch 9/200\n",
      "80/80 [==============================] - 1s 15ms/step - loss: 1.4287 - acc: 0.4765 - val_loss: 1.4156 - val_acc: 0.4783\n",
      "Epoch 10/200\n",
      "80/80 [==============================] - 1s 15ms/step - loss: 1.3862 - acc: 0.5045 - val_loss: 1.3558 - val_acc: 0.5128\n",
      "Epoch 11/200\n",
      "80/80 [==============================] - 1s 15ms/step - loss: 1.3309 - acc: 0.5275 - val_loss: 1.4505 - val_acc: 0.4843\n",
      "Epoch 12/200\n",
      "80/80 [==============================] - 1s 15ms/step - loss: 1.3016 - acc: 0.5370 - val_loss: 1.2657 - val_acc: 0.5447\n",
      "Epoch 13/200\n",
      "80/80 [==============================] - 1s 15ms/step - loss: 1.2480 - acc: 0.5487 - val_loss: 1.2810 - val_acc: 0.5414\n",
      "Epoch 14/200\n",
      "80/80 [==============================] - 1s 15ms/step - loss: 1.1646 - acc: 0.5870 - val_loss: 1.3516 - val_acc: 0.5144\n",
      "Epoch 15/200\n",
      "80/80 [==============================] - 1s 15ms/step - loss: 1.1477 - acc: 0.5867 - val_loss: 1.2724 - val_acc: 0.5333\n",
      "Epoch 16/200\n",
      "80/80 [==============================] - 1s 15ms/step - loss: 1.0957 - acc: 0.6170 - val_loss: 1.2764 - val_acc: 0.5442\n",
      "Epoch 17/200\n",
      "80/80 [==============================] - 1s 15ms/step - loss: 1.0654 - acc: 0.6225 - val_loss: 1.2379 - val_acc: 0.5650\n",
      "Epoch 18/200\n",
      "80/80 [==============================] - 1s 15ms/step - loss: 0.9869 - acc: 0.6457 - val_loss: 1.2430 - val_acc: 0.5612\n",
      "Epoch 19/200\n",
      "80/80 [==============================] - 1s 16ms/step - loss: 0.9437 - acc: 0.6655 - val_loss: 1.2285 - val_acc: 0.5735\n",
      "Epoch 20/200\n",
      "80/80 [==============================] - 1s 15ms/step - loss: 0.9283 - acc: 0.6733 - val_loss: 1.1817 - val_acc: 0.5909\n",
      "Epoch 21/200\n",
      "80/80 [==============================] - 1s 15ms/step - loss: 0.8529 - acc: 0.7017 - val_loss: 1.1824 - val_acc: 0.5909\n",
      "Epoch 22/200\n",
      "80/80 [==============================] - 1s 15ms/step - loss: 0.8268 - acc: 0.7032 - val_loss: 1.2262 - val_acc: 0.5814\n",
      "Epoch 23/200\n",
      "80/80 [==============================] - 1s 15ms/step - loss: 0.8224 - acc: 0.7150 - val_loss: 1.4293 - val_acc: 0.5358\n",
      "Epoch 24/200\n",
      "80/80 [==============================] - 1s 15ms/step - loss: 0.7781 - acc: 0.7337 - val_loss: 1.1399 - val_acc: 0.6091\n",
      "Epoch 25/200\n",
      "80/80 [==============================] - 1s 15ms/step - loss: 0.7271 - acc: 0.7477 - val_loss: 1.2359 - val_acc: 0.5910\n",
      "Epoch 26/200\n",
      "80/80 [==============================] - 1s 15ms/step - loss: 0.6545 - acc: 0.7832 - val_loss: 1.2825 - val_acc: 0.5879\n",
      "Epoch 27/200\n",
      "80/80 [==============================] - 1s 15ms/step - loss: 0.6382 - acc: 0.7690 - val_loss: 1.3174 - val_acc: 0.5759\n",
      "Epoch 28/200\n",
      "80/80 [==============================] - 1s 15ms/step - loss: 0.6073 - acc: 0.7865 - val_loss: 1.2493 - val_acc: 0.5944\n",
      "Epoch 29/200\n",
      "80/80 [==============================] - 1s 15ms/step - loss: 0.5899 - acc: 0.7955 - val_loss: 1.2457 - val_acc: 0.6053\n",
      "Epoch 30/200\n",
      "80/80 [==============================] - 1s 15ms/step - loss: 0.5466 - acc: 0.8138 - val_loss: 1.2399 - val_acc: 0.6067\n",
      "Epoch 31/200\n",
      "80/80 [==============================] - 1s 15ms/step - loss: 0.5541 - acc: 0.8102 - val_loss: 1.3393 - val_acc: 0.5858\n",
      "Epoch 32/200\n",
      "80/80 [==============================] - 1s 15ms/step - loss: 0.4825 - acc: 0.8345 - val_loss: 1.2579 - val_acc: 0.6092\n",
      "Epoch 33/200\n",
      "80/80 [==============================] - 1s 15ms/step - loss: 0.4921 - acc: 0.8270 - val_loss: 1.3112 - val_acc: 0.6035\n",
      "Epoch 34/200\n",
      "80/80 [==============================] - 1s 15ms/step - loss: 0.4536 - acc: 0.8465 - val_loss: 1.3215 - val_acc: 0.6003\n",
      "Epoch 35/200\n",
      "80/80 [==============================] - 1s 15ms/step - loss: 0.4471 - acc: 0.8453 - val_loss: 1.3883 - val_acc: 0.6031\n",
      "Epoch 36/200\n",
      "80/80 [==============================] - 1s 15ms/step - loss: 0.4188 - acc: 0.8565 - val_loss: 1.4112 - val_acc: 0.5938\n",
      "Epoch 37/200\n",
      "80/80 [==============================] - 1s 15ms/step - loss: 0.3974 - acc: 0.8720 - val_loss: 1.3030 - val_acc: 0.6168\n",
      "Epoch 38/200\n",
      "80/80 [==============================] - 1s 15ms/step - loss: 0.4361 - acc: 0.8550 - val_loss: 1.3687 - val_acc: 0.6058\n",
      "Epoch 39/200\n",
      "80/80 [==============================] - 1s 15ms/step - loss: 0.3776 - acc: 0.8730 - val_loss: 1.3113 - val_acc: 0.6213\n",
      "Epoch 40/200\n",
      "80/80 [==============================] - 1s 15ms/step - loss: 0.3609 - acc: 0.8777 - val_loss: 1.3334 - val_acc: 0.6126\n",
      "Epoch 41/200\n",
      "80/80 [==============================] - 1s 15ms/step - loss: 0.3633 - acc: 0.8835 - val_loss: 1.4517 - val_acc: 0.6112\n",
      "Epoch 42/200\n",
      "80/80 [==============================] - 1s 15ms/step - loss: 0.3240 - acc: 0.8935 - val_loss: 1.3453 - val_acc: 0.6145\n",
      "Epoch 43/200\n",
      "80/80 [==============================] - 1s 15ms/step - loss: 0.3349 - acc: 0.8850 - val_loss: 1.3656 - val_acc: 0.6250\n",
      "Epoch 44/200\n",
      "80/80 [==============================] - 1s 15ms/step - loss: 0.2960 - acc: 0.8970 - val_loss: 1.3419 - val_acc: 0.6229\n",
      "Epoch 45/200\n",
      "80/80 [==============================] - 1s 15ms/step - loss: 0.2968 - acc: 0.9015 - val_loss: 1.5250 - val_acc: 0.6093\n",
      "Epoch 46/200\n",
      "80/80 [==============================] - 1s 15ms/step - loss: 0.2819 - acc: 0.9022 - val_loss: 1.4094 - val_acc: 0.6199\n",
      "Epoch 47/200\n",
      "80/80 [==============================] - 1s 15ms/step - loss: 0.2990 - acc: 0.9005 - val_loss: 1.4063 - val_acc: 0.6196\n",
      "Epoch 48/200\n",
      "80/80 [==============================] - 1s 15ms/step - loss: 0.3035 - acc: 0.8923 - val_loss: 1.4779 - val_acc: 0.6161\n",
      "Epoch 49/200\n",
      "80/80 [==============================] - 1s 15ms/step - loss: 0.2652 - acc: 0.9082 - val_loss: 1.4456 - val_acc: 0.6188\n",
      "Epoch 50/200\n",
      "80/80 [==============================] - 1s 15ms/step - loss: 0.2735 - acc: 0.9087 - val_loss: 1.4326 - val_acc: 0.6285\n",
      "Epoch 51/200\n",
      "80/80 [==============================] - 1s 15ms/step - loss: 0.2572 - acc: 0.9165 - val_loss: 1.4223 - val_acc: 0.6305\n",
      "Epoch 52/200\n",
      "80/80 [==============================] - 1s 15ms/step - loss: 0.2551 - acc: 0.9133 - val_loss: 1.4881 - val_acc: 0.6184\n",
      "Epoch 53/200\n",
      "80/80 [==============================] - 1s 15ms/step - loss: 0.2796 - acc: 0.9093 - val_loss: 1.4066 - val_acc: 0.6332\n",
      "Epoch 54/200\n",
      "80/80 [==============================] - 1s 15ms/step - loss: 0.2412 - acc: 0.9195 - val_loss: 1.4344 - val_acc: 0.6210\n",
      "Epoch 55/200\n",
      "80/80 [==============================] - 1s 15ms/step - loss: 0.2110 - acc: 0.9300 - val_loss: 1.4645 - val_acc: 0.6217\n",
      "Epoch 56/200\n",
      "80/80 [==============================] - 1s 15ms/step - loss: 0.2085 - acc: 0.9333 - val_loss: 1.5063 - val_acc: 0.6273\n",
      "Epoch 57/200\n",
      "80/80 [==============================] - 1s 15ms/step - loss: 0.2129 - acc: 0.9330 - val_loss: 1.4762 - val_acc: 0.6290\n",
      "Epoch 58/200\n",
      "80/80 [==============================] - 1s 15ms/step - loss: 0.2017 - acc: 0.9340 - val_loss: 1.5669 - val_acc: 0.6201\n",
      "Epoch 59/200\n",
      "80/80 [==============================] - 1s 15ms/step - loss: 0.2138 - acc: 0.9262 - val_loss: 1.6117 - val_acc: 0.6225\n",
      "Epoch 60/200\n",
      "80/80 [==============================] - 1s 15ms/step - loss: 0.1874 - acc: 0.9438 - val_loss: 1.5395 - val_acc: 0.6174\n",
      "Epoch 61/200\n",
      "80/80 [==============================] - 1s 15ms/step - loss: 0.2183 - acc: 0.9268 - val_loss: 1.5628 - val_acc: 0.6228\n",
      "Epoch 62/200\n",
      "80/80 [==============================] - 1s 15ms/step - loss: 0.2075 - acc: 0.9290 - val_loss: 1.6048 - val_acc: 0.6137\n",
      "Epoch 63/200\n",
      "80/80 [==============================] - 1s 15ms/step - loss: 0.2107 - acc: 0.9290 - val_loss: 1.6588 - val_acc: 0.6126\n",
      "Epoch 64/200\n",
      "80/80 [==============================] - 1s 15ms/step - loss: 0.1914 - acc: 0.9362 - val_loss: 1.5422 - val_acc: 0.6254\n",
      "Epoch 65/200\n",
      "80/80 [==============================] - 1s 15ms/step - loss: 0.1830 - acc: 0.9385 - val_loss: 1.5306 - val_acc: 0.6309\n",
      "Epoch 66/200\n",
      "80/80 [==============================] - 1s 15ms/step - loss: 0.1762 - acc: 0.9430 - val_loss: 1.5388 - val_acc: 0.6210\n",
      "Epoch 67/200\n",
      "80/80 [==============================] - 1s 15ms/step - loss: 0.1658 - acc: 0.9448 - val_loss: 1.5648 - val_acc: 0.6281A: 0s - loss: 0.1696 - a\n",
      "Epoch 68/200\n",
      "80/80 [==============================] - 1s 15ms/step - loss: 0.1649 - acc: 0.9475 - val_loss: 1.5757 - val_acc: 0.6324\n",
      "Epoch 69/200\n",
      "80/80 [==============================] - 1s 15ms/step - loss: 0.1707 - acc: 0.9413 - val_loss: 1.6450 - val_acc: 0.6201\n",
      "Epoch 70/200\n",
      "80/80 [==============================] - 1s 15ms/step - loss: 0.1795 - acc: 0.9375 - val_loss: 1.6442 - val_acc: 0.6291\n",
      "Epoch 71/200\n",
      "80/80 [==============================] - 1s 15ms/step - loss: 0.1808 - acc: 0.9400 - val_loss: 1.6421 - val_acc: 0.6204\n",
      "Epoch 72/200\n",
      "80/80 [==============================] - 1s 15ms/step - loss: 0.1759 - acc: 0.9400 - val_loss: 1.8072 - val_acc: 0.6038\n",
      "Epoch 73/200\n",
      "80/80 [==============================] - 1s 15ms/step - loss: 0.1567 - acc: 0.9513 - val_loss: 1.6006 - val_acc: 0.6285\n",
      "Epoch 74/200\n",
      "80/80 [==============================] - 1s 16ms/step - loss: 0.1717 - acc: 0.9433 - val_loss: 1.5931 - val_acc: 0.6330\n",
      "Epoch 75/200\n",
      "80/80 [==============================] - 1s 15ms/step - loss: 0.1536 - acc: 0.9520 - val_loss: 1.6187 - val_acc: 0.6258\n",
      "Epoch 76/200\n",
      "80/80 [==============================] - 1s 15ms/step - loss: 0.1708 - acc: 0.9475 - val_loss: 1.6381 - val_acc: 0.6220\n",
      "Epoch 77/200\n",
      "80/80 [==============================] - 1s 15ms/step - loss: 0.1504 - acc: 0.9538 - val_loss: 1.6513 - val_acc: 0.6272\n",
      "Epoch 78/200\n",
      "80/80 [==============================] - 1s 15ms/step - loss: 0.1653 - acc: 0.9480 - val_loss: 1.5927 - val_acc: 0.6284\n",
      "Epoch 79/200\n",
      "80/80 [==============================] - 1s 15ms/step - loss: 0.1567 - acc: 0.9473 - val_loss: 1.6167 - val_acc: 0.6287\n",
      "Epoch 80/200\n",
      "80/80 [==============================] - 1s 15ms/step - loss: 0.1413 - acc: 0.9538 - val_loss: 1.6866 - val_acc: 0.6266\n",
      "Epoch 81/200\n",
      "80/80 [==============================] - 1s 15ms/step - loss: 0.1565 - acc: 0.9517 - val_loss: 1.6502 - val_acc: 0.6236\n",
      "Epoch 82/200\n",
      "80/80 [==============================] - 1s 15ms/step - loss: 0.1390 - acc: 0.9548 - val_loss: 1.5619 - val_acc: 0.6341\n",
      "Epoch 83/200\n",
      "80/80 [==============================] - 1s 15ms/step - loss: 0.1229 - acc: 0.9572 - val_loss: 1.5644 - val_acc: 0.6326\n",
      "Epoch 84/200\n",
      "80/80 [==============================] - 1s 15ms/step - loss: 0.1359 - acc: 0.9578 - val_loss: 1.6749 - val_acc: 0.6238\n",
      "Epoch 85/200\n",
      "80/80 [==============================] - 1s 15ms/step - loss: 0.1375 - acc: 0.9528 - val_loss: 1.6877 - val_acc: 0.6170\n",
      "Epoch 86/200\n",
      "80/80 [==============================] - 1s 15ms/step - loss: 0.1482 - acc: 0.9515 - val_loss: 1.6801 - val_acc: 0.6144\n",
      "Epoch 87/200\n",
      "80/80 [==============================] - 1s 15ms/step - loss: 0.1216 - acc: 0.9610 - val_loss: 1.7186 - val_acc: 0.6264\n",
      "Epoch 88/200\n",
      "80/80 [==============================] - 1s 15ms/step - loss: 0.1221 - acc: 0.9590 - val_loss: 1.7030 - val_acc: 0.6273\n",
      "Epoch 89/200\n",
      "80/80 [==============================] - 1s 15ms/step - loss: 0.1408 - acc: 0.9523 - val_loss: 1.6710 - val_acc: 0.6278\n",
      "Epoch 90/200\n",
      "80/80 [==============================] - 1s 15ms/step - loss: 0.1390 - acc: 0.9557 - val_loss: 1.7566 - val_acc: 0.6171\n",
      "Epoch 91/200\n",
      "80/80 [==============================] - 1s 15ms/step - loss: 0.1285 - acc: 0.9557 - val_loss: 1.7911 - val_acc: 0.6242\n",
      "Epoch 92/200\n",
      "80/80 [==============================] - 1s 15ms/step - loss: 0.1227 - acc: 0.9638 - val_loss: 1.6839 - val_acc: 0.6253\n",
      "Epoch 93/200\n",
      "80/80 [==============================] - 1s 15ms/step - loss: 0.1230 - acc: 0.9578 - val_loss: 1.6424 - val_acc: 0.6328\n",
      "Epoch 94/200\n",
      "80/80 [==============================] - 1s 15ms/step - loss: 0.1221 - acc: 0.9617 - val_loss: 1.6555 - val_acc: 0.6322\n",
      "Epoch 95/200\n",
      "80/80 [==============================] - 1s 15ms/step - loss: 0.1169 - acc: 0.9600 - val_loss: 1.7011 - val_acc: 0.6271\n",
      "Epoch 96/200\n",
      "80/80 [==============================] - 1s 15ms/step - loss: 0.1243 - acc: 0.9638 - val_loss: 1.6601 - val_acc: 0.6369\n",
      "Epoch 97/200\n",
      "80/80 [==============================] - 1s 15ms/step - loss: 0.1035 - acc: 0.9680 - val_loss: 1.7167 - val_acc: 0.6390\n",
      "Epoch 98/200\n",
      "80/80 [==============================] - 1s 15ms/step - loss: 0.0998 - acc: 0.9665 - val_loss: 1.6651 - val_acc: 0.6394\n",
      "Epoch 99/200\n",
      "80/80 [==============================] - 1s 15ms/step - loss: 0.1003 - acc: 0.9693 - val_loss: 1.7201 - val_acc: 0.6320\n",
      "Epoch 100/200\n",
      "80/80 [==============================] - 1s 15ms/step - loss: 0.1047 - acc: 0.9635 - val_loss: 1.7854 - val_acc: 0.6181\n",
      "Epoch 101/200\n",
      "80/80 [==============================] - 1s 15ms/step - loss: 0.1206 - acc: 0.9610 - val_loss: 1.8090 - val_acc: 0.6261\n",
      "Epoch 102/200\n",
      "80/80 [==============================] - 1s 15ms/step - loss: 0.1115 - acc: 0.9653 - val_loss: 1.7315 - val_acc: 0.6290\n",
      "Epoch 103/200\n",
      "80/80 [==============================] - 1s 16ms/step - loss: 0.1280 - acc: 0.9630 - val_loss: 1.6982 - val_acc: 0.6288\n",
      "Epoch 104/200\n",
      "80/80 [==============================] - 1s 15ms/step - loss: 0.1035 - acc: 0.9682 - val_loss: 1.7570 - val_acc: 0.6302\n",
      "Epoch 105/200\n",
      "80/80 [==============================] - 1s 15ms/step - loss: 0.1121 - acc: 0.9635 - val_loss: 1.7248 - val_acc: 0.6183\n",
      "Epoch 106/200\n",
      "80/80 [==============================] - 1s 16ms/step - loss: 0.1220 - acc: 0.9620 - val_loss: 1.8034 - val_acc: 0.6303\n",
      "Epoch 107/200\n",
      "80/80 [==============================] - 1s 15ms/step - loss: 0.1092 - acc: 0.9645 - val_loss: 1.9884 - val_acc: 0.6050\n",
      "Epoch 108/200\n",
      "80/80 [==============================] - 1s 15ms/step - loss: 0.1173 - acc: 0.9620 - val_loss: 1.8275 - val_acc: 0.6246\n",
      "Epoch 109/200\n",
      "80/80 [==============================] - 1s 15ms/step - loss: 0.1098 - acc: 0.9635 - val_loss: 1.8864 - val_acc: 0.6132\n",
      "Epoch 110/200\n",
      "80/80 [==============================] - 1s 15ms/step - loss: 0.1314 - acc: 0.9580 - val_loss: 1.7274 - val_acc: 0.6325\n",
      "Epoch 111/200\n",
      "80/80 [==============================] - 1s 15ms/step - loss: 0.1194 - acc: 0.9610 - val_loss: 1.7333 - val_acc: 0.6390\n",
      "Epoch 112/200\n",
      "80/80 [==============================] - 1s 15ms/step - loss: 0.1103 - acc: 0.9657 - val_loss: 1.7857 - val_acc: 0.6321\n",
      "Epoch 113/200\n",
      "80/80 [==============================] - 1s 15ms/step - loss: 0.1090 - acc: 0.9650 - val_loss: 1.7239 - val_acc: 0.6289\n",
      "Epoch 114/200\n",
      "80/80 [==============================] - 1s 15ms/step - loss: 0.1201 - acc: 0.9628 - val_loss: 1.8423 - val_acc: 0.6146\n",
      "Epoch 115/200\n",
      "80/80 [==============================] - 1s 15ms/step - loss: 0.0970 - acc: 0.9707 - val_loss: 1.7827 - val_acc: 0.6275\n",
      "Epoch 116/200\n",
      "80/80 [==============================] - 1s 15ms/step - loss: 0.1001 - acc: 0.9695 - val_loss: 1.7657 - val_acc: 0.6245\n",
      "Epoch 117/200\n",
      "80/80 [==============================] - 1s 15ms/step - loss: 0.1087 - acc: 0.9660 - val_loss: 1.6811 - val_acc: 0.6365\n",
      "Epoch 118/200\n",
      "80/80 [==============================] - 1s 15ms/step - loss: 0.0755 - acc: 0.9760 - val_loss: 1.6851 - val_acc: 0.6413\n",
      "Epoch 119/200\n",
      "80/80 [==============================] - 1s 15ms/step - loss: 0.1062 - acc: 0.9653 - val_loss: 1.7290 - val_acc: 0.6413\n",
      "Epoch 120/200\n",
      "80/80 [==============================] - 1s 15ms/step - loss: 0.1072 - acc: 0.9613 - val_loss: 1.6913 - val_acc: 0.6403\n",
      "Epoch 121/200\n",
      "80/80 [==============================] - 1s 15ms/step - loss: 0.1051 - acc: 0.9670 - val_loss: 1.8661 - val_acc: 0.6208\n",
      "Epoch 122/200\n",
      "80/80 [==============================] - 1s 15ms/step - loss: 0.0977 - acc: 0.9655 - val_loss: 1.7087 - val_acc: 0.6404\n",
      "Epoch 123/200\n"
     ]
    },
    {
     "name": "stdout",
     "output_type": "stream",
     "text": [
      "80/80 [==============================] - 1s 15ms/step - loss: 0.0820 - acc: 0.9745 - val_loss: 1.7812 - val_acc: 0.6352\n",
      "Epoch 124/200\n",
      "80/80 [==============================] - 1s 15ms/step - loss: 0.0749 - acc: 0.9775 - val_loss: 1.7874 - val_acc: 0.6251\n",
      "Epoch 125/200\n",
      "80/80 [==============================] - 1s 15ms/step - loss: 0.1044 - acc: 0.9672 - val_loss: 1.9435 - val_acc: 0.6219\n",
      "Epoch 126/200\n",
      "80/80 [==============================] - 1s 15ms/step - loss: 0.1048 - acc: 0.9675 - val_loss: 1.7870 - val_acc: 0.6347\n",
      "Epoch 127/200\n",
      "80/80 [==============================] - 1s 15ms/step - loss: 0.0733 - acc: 0.9772 - val_loss: 1.8779 - val_acc: 0.6287\n",
      "Epoch 128/200\n",
      "80/80 [==============================] - 1s 15ms/step - loss: 0.1081 - acc: 0.9695 - val_loss: 1.8375 - val_acc: 0.6353\n",
      "Epoch 129/200\n",
      "80/80 [==============================] - 1s 15ms/step - loss: 0.0958 - acc: 0.9672 - val_loss: 1.7960 - val_acc: 0.6344\n",
      "Epoch 130/200\n",
      "80/80 [==============================] - 1s 15ms/step - loss: 0.0845 - acc: 0.9740 - val_loss: 1.7959 - val_acc: 0.6315\n",
      "Epoch 131/200\n",
      "80/80 [==============================] - 1s 15ms/step - loss: 0.0833 - acc: 0.9745 - val_loss: 1.7968 - val_acc: 0.6398\n",
      "Epoch 132/200\n",
      "80/80 [==============================] - 1s 15ms/step - loss: 0.0889 - acc: 0.9732 - val_loss: 1.8437 - val_acc: 0.6253\n",
      "Epoch 133/200\n",
      "80/80 [==============================] - 1s 15ms/step - loss: 0.1022 - acc: 0.9663 - val_loss: 1.9158 - val_acc: 0.6208\n",
      "Epoch 134/200\n",
      "80/80 [==============================] - 1s 15ms/step - loss: 0.0923 - acc: 0.9693 - val_loss: 1.8058 - val_acc: 0.6306\n",
      "Epoch 135/200\n",
      "80/80 [==============================] - 1s 15ms/step - loss: 0.1043 - acc: 0.9670 - val_loss: 1.8569 - val_acc: 0.6348\n",
      "Epoch 136/200\n",
      "80/80 [==============================] - 1s 15ms/step - loss: 0.0903 - acc: 0.9693 - val_loss: 1.8123 - val_acc: 0.6290\n",
      "Epoch 137/200\n",
      "80/80 [==============================] - 1s 15ms/step - loss: 0.0892 - acc: 0.9737 - val_loss: 1.9842 - val_acc: 0.6208\n",
      "Epoch 138/200\n",
      "80/80 [==============================] - 1s 15ms/step - loss: 0.0773 - acc: 0.9753 - val_loss: 1.7662 - val_acc: 0.6399\n",
      "Epoch 139/200\n",
      "80/80 [==============================] - 1s 16ms/step - loss: 0.0816 - acc: 0.9725 - val_loss: 1.8052 - val_acc: 0.6344\n",
      "Epoch 140/200\n",
      "80/80 [==============================] - 1s 15ms/step - loss: 0.0973 - acc: 0.9703 - val_loss: 1.8225 - val_acc: 0.6282\n",
      "Epoch 141/200\n",
      "80/80 [==============================] - 1s 15ms/step - loss: 0.0913 - acc: 0.9712 - val_loss: 1.8031 - val_acc: 0.6319\n",
      "Epoch 142/200\n",
      "80/80 [==============================] - 1s 16ms/step - loss: 0.0851 - acc: 0.9743 - val_loss: 1.8191 - val_acc: 0.6323\n",
      "Epoch 143/200\n",
      "80/80 [==============================] - 1s 15ms/step - loss: 0.0879 - acc: 0.9720 - val_loss: 1.8710 - val_acc: 0.6310\n",
      "Epoch 144/200\n",
      "80/80 [==============================] - 1s 15ms/step - loss: 0.0725 - acc: 0.9790 - val_loss: 1.8322 - val_acc: 0.6253\n",
      "Epoch 145/200\n",
      "80/80 [==============================] - 1s 15ms/step - loss: 0.0764 - acc: 0.9747 - val_loss: 1.7312 - val_acc: 0.6373\n",
      "Epoch 146/200\n",
      "80/80 [==============================] - 1s 15ms/step - loss: 0.0870 - acc: 0.9743 - val_loss: 1.9094 - val_acc: 0.6290\n",
      "Epoch 147/200\n",
      "80/80 [==============================] - 1s 15ms/step - loss: 0.0870 - acc: 0.9688 - val_loss: 1.8670 - val_acc: 0.6265\n",
      "Epoch 148/200\n",
      "80/80 [==============================] - 1s 16ms/step - loss: 0.0920 - acc: 0.9700 - val_loss: 1.9478 - val_acc: 0.6292\n",
      "Epoch 149/200\n",
      "80/80 [==============================] - 1s 16ms/step - loss: 0.1022 - acc: 0.9707 - val_loss: 1.9227 - val_acc: 0.6229\n",
      "Epoch 150/200\n",
      "80/80 [==============================] - 1s 15ms/step - loss: 0.0890 - acc: 0.9705 - val_loss: 1.9466 - val_acc: 0.6225\n",
      "Epoch 151/200\n",
      "80/80 [==============================] - 1s 15ms/step - loss: 0.0754 - acc: 0.9747 - val_loss: 2.0131 - val_acc: 0.6213\n",
      "Epoch 152/200\n",
      "80/80 [==============================] - 1s 15ms/step - loss: 0.0749 - acc: 0.9743 - val_loss: 1.8550 - val_acc: 0.6306\n",
      "Epoch 153/200\n",
      "80/80 [==============================] - 1s 15ms/step - loss: 0.0828 - acc: 0.9750 - val_loss: 1.8625 - val_acc: 0.6321\n",
      "Epoch 154/200\n",
      "80/80 [==============================] - 1s 15ms/step - loss: 0.0783 - acc: 0.9783 - val_loss: 1.7967 - val_acc: 0.6405\n",
      "Epoch 155/200\n",
      "80/80 [==============================] - 1s 15ms/step - loss: 0.0769 - acc: 0.9707 - val_loss: 1.9213 - val_acc: 0.6166\n",
      "Epoch 156/200\n",
      "80/80 [==============================] - 1s 16ms/step - loss: 0.0808 - acc: 0.9725 - val_loss: 1.9052 - val_acc: 0.6136\n",
      "Epoch 157/200\n",
      "80/80 [==============================] - 1s 16ms/step - loss: 0.0734 - acc: 0.9750 - val_loss: 1.8870 - val_acc: 0.6356\n",
      "Epoch 158/200\n",
      "80/80 [==============================] - 1s 15ms/step - loss: 0.0711 - acc: 0.9787 - val_loss: 1.8809 - val_acc: 0.6233\n",
      "Epoch 159/200\n",
      "80/80 [==============================] - 1s 15ms/step - loss: 0.0655 - acc: 0.9795 - val_loss: 1.8909 - val_acc: 0.6314\n",
      "Epoch 160/200\n",
      "80/80 [==============================] - 1s 15ms/step - loss: 0.0706 - acc: 0.9768 - val_loss: 1.8167 - val_acc: 0.6372\n",
      "Epoch 161/200\n",
      "80/80 [==============================] - 1s 15ms/step - loss: 0.0666 - acc: 0.9772 - val_loss: 1.9297 - val_acc: 0.6302\n",
      "Epoch 162/200\n",
      "80/80 [==============================] - 1s 15ms/step - loss: 0.0751 - acc: 0.9770 - val_loss: 1.9390 - val_acc: 0.6291\n",
      "Epoch 163/200\n",
      "80/80 [==============================] - 1s 15ms/step - loss: 0.0765 - acc: 0.9755 - val_loss: 1.9080 - val_acc: 0.6293\n",
      "Epoch 164/200\n",
      "80/80 [==============================] - 1s 15ms/step - loss: 0.0781 - acc: 0.9755 - val_loss: 2.0078 - val_acc: 0.6165\n",
      "Epoch 165/200\n",
      "80/80 [==============================] - 1s 15ms/step - loss: 0.0701 - acc: 0.9790 - val_loss: 1.8769 - val_acc: 0.6349\n",
      "Epoch 166/200\n",
      "80/80 [==============================] - 1s 15ms/step - loss: 0.0795 - acc: 0.9740 - val_loss: 1.8119 - val_acc: 0.6367\n",
      "Epoch 167/200\n",
      "80/80 [==============================] - 1s 15ms/step - loss: 0.0767 - acc: 0.9765 - val_loss: 1.8884 - val_acc: 0.6285\n",
      "Epoch 168/200\n",
      "80/80 [==============================] - 1s 15ms/step - loss: 0.0578 - acc: 0.9822 - val_loss: 1.7721 - val_acc: 0.6369\n",
      "Epoch 169/200\n",
      "80/80 [==============================] - 1s 15ms/step - loss: 0.0780 - acc: 0.9740 - val_loss: 1.9192 - val_acc: 0.6400\n",
      "Epoch 170/200\n",
      "80/80 [==============================] - 1s 15ms/step - loss: 0.0947 - acc: 0.9720 - val_loss: 1.9144 - val_acc: 0.6285\n",
      "Epoch 171/200\n",
      "80/80 [==============================] - 1s 15ms/step - loss: 0.0748 - acc: 0.9737 - val_loss: 1.9731 - val_acc: 0.6245\n",
      "Epoch 172/200\n",
      "80/80 [==============================] - 1s 15ms/step - loss: 0.0819 - acc: 0.9762 - val_loss: 1.8560 - val_acc: 0.6414\n",
      "Epoch 173/200\n",
      "80/80 [==============================] - 1s 15ms/step - loss: 0.0720 - acc: 0.9770 - val_loss: 2.0912 - val_acc: 0.6204\n",
      "Epoch 174/200\n",
      "80/80 [==============================] - 1s 15ms/step - loss: 0.0555 - acc: 0.9830 - val_loss: 1.8101 - val_acc: 0.6380\n",
      "Epoch 175/200\n",
      "80/80 [==============================] - 1s 15ms/step - loss: 0.0706 - acc: 0.9795 - val_loss: 1.9915 - val_acc: 0.6303\n",
      "Epoch 176/200\n",
      "80/80 [==============================] - 1s 15ms/step - loss: 0.0820 - acc: 0.9735 - val_loss: 1.9485 - val_acc: 0.6118\n",
      "Epoch 177/200\n",
      "80/80 [==============================] - 1s 15ms/step - loss: 0.0833 - acc: 0.9745 - val_loss: 1.8347 - val_acc: 0.6348\n",
      "Epoch 178/200\n",
      "80/80 [==============================] - 1s 15ms/step - loss: 0.0587 - acc: 0.9787 - val_loss: 1.8503 - val_acc: 0.6370\n",
      "Epoch 179/200\n",
      "80/80 [==============================] - 1s 15ms/step - loss: 0.0691 - acc: 0.9772 - val_loss: 1.8313 - val_acc: 0.6304\n",
      "Epoch 180/200\n",
      "80/80 [==============================] - 1s 15ms/step - loss: 0.0672 - acc: 0.9785 - val_loss: 1.8917 - val_acc: 0.6228\n",
      "Epoch 181/200\n",
      "80/80 [==============================] - 1s 15ms/step - loss: 0.0620 - acc: 0.9808 - val_loss: 1.8687 - val_acc: 0.6343A: 0s - loss: 0.0548 - acc: 0\n",
      "Epoch 182/200\n",
      "80/80 [==============================] - 1s 15ms/step - loss: 0.0759 - acc: 0.9762 - val_loss: 1.9378 - val_acc: 0.6277\n",
      "Epoch 183/200\n",
      "80/80 [==============================] - 1s 15ms/step - loss: 0.0624 - acc: 0.9785 - val_loss: 1.8615 - val_acc: 0.6401\n",
      "Epoch 184/200\n"
     ]
    },
    {
     "name": "stdout",
     "output_type": "stream",
     "text": [
      "80/80 [==============================] - 1s 15ms/step - loss: 0.0722 - acc: 0.9770 - val_loss: 1.9836 - val_acc: 0.6303\n",
      "Epoch 185/200\n",
      "80/80 [==============================] - 1s 15ms/step - loss: 0.0638 - acc: 0.9797 - val_loss: 2.0340 - val_acc: 0.6254\n",
      "Epoch 186/200\n",
      "80/80 [==============================] - 1s 15ms/step - loss: 0.0654 - acc: 0.9780 - val_loss: 1.8293 - val_acc: 0.6341\n",
      "Epoch 187/200\n",
      "80/80 [==============================] - 1s 15ms/step - loss: 0.0704 - acc: 0.9790 - val_loss: 1.9269 - val_acc: 0.6264\n",
      "Epoch 188/200\n",
      "80/80 [==============================] - 1s 15ms/step - loss: 0.0732 - acc: 0.9762 - val_loss: 1.8316 - val_acc: 0.6363\n",
      "Epoch 189/200\n",
      "80/80 [==============================] - 1s 15ms/step - loss: 0.0657 - acc: 0.9775 - val_loss: 1.8072 - val_acc: 0.6367\n",
      "Epoch 190/200\n",
      "80/80 [==============================] - 1s 15ms/step - loss: 0.0670 - acc: 0.9815 - val_loss: 1.9553 - val_acc: 0.6251\n",
      "Epoch 191/200\n",
      "80/80 [==============================] - 1s 16ms/step - loss: 0.0544 - acc: 0.9815 - val_loss: 1.9154 - val_acc: 0.6369\n",
      "Epoch 192/200\n",
      "80/80 [==============================] - 1s 15ms/step - loss: 0.0577 - acc: 0.9820 - val_loss: 2.0208 - val_acc: 0.6280\n",
      "Epoch 193/200\n",
      "80/80 [==============================] - 1s 15ms/step - loss: 0.0679 - acc: 0.9812 - val_loss: 1.9405 - val_acc: 0.6286\n",
      "Epoch 194/200\n",
      "80/80 [==============================] - 1s 15ms/step - loss: 0.0627 - acc: 0.9812 - val_loss: 1.8925 - val_acc: 0.6352\n",
      "Epoch 195/200\n",
      "80/80 [==============================] - 1s 15ms/step - loss: 0.0510 - acc: 0.9843 - val_loss: 1.8662 - val_acc: 0.6390\n",
      "Epoch 196/200\n",
      "80/80 [==============================] - 1s 15ms/step - loss: 0.0501 - acc: 0.9843 - val_loss: 1.9125 - val_acc: 0.6339\n",
      "Epoch 197/200\n",
      "80/80 [==============================] - 1s 15ms/step - loss: 0.0693 - acc: 0.9803 - val_loss: 2.0303 - val_acc: 0.6330\n",
      "Epoch 198/200\n",
      "80/80 [==============================] - 1s 15ms/step - loss: 0.0521 - acc: 0.9818 - val_loss: 1.9182 - val_acc: 0.6342\n",
      "Epoch 199/200\n",
      "80/80 [==============================] - 1s 16ms/step - loss: 0.0542 - acc: 0.9818 - val_loss: 1.9265 - val_acc: 0.6395\n",
      "Epoch 200/200\n",
      "80/80 [==============================] - 1s 15ms/step - loss: 0.0581 - acc: 0.9808 - val_loss: 1.8935 - val_acc: 0.6335\n"
     ]
    }
   ],
   "source": [
    "history=model.fit(train_set,\n",
    "                  epochs=200,\n",
    "                  steps_per_epoch=new_index.shape[0]//batch_size,\n",
    "                  validation_data=test_set,\n",
    "                  validation_steps=10000//200,\n",
    "#                   callbacks=[es_callback],\n",
    "                  verbose=1)\n",
    "#                   callbacks=[es_callback,lr_callback])"
   ]
  },
  {
   "cell_type": "markdown",
   "metadata": {},
   "source": [
    "### view history"
   ]
  },
  {
   "cell_type": "code",
   "execution_count": 21,
   "metadata": {},
   "outputs": [
    {
     "data": {
      "text/plain": [
       "<matplotlib.legend.Legend at 0x2088056dcc8>"
      ]
     },
     "execution_count": 21,
     "metadata": {},
     "output_type": "execute_result"
    },
    {
     "data": {
      "image/png": "[encoded data removed]",
      "text/plain": [
       "<Figure size 432x288 with 1 Axes>"
      ]
     },
     "metadata": {
      "needs_background": "light"
     },
     "output_type": "display_data"
    }
   ],
   "source": [
    "plt.plot(history.epoch, history.history.get('val_acc'),label='val_acc')\n",
    "plt.plot(history.epoch, history.history.get('acc'), label='acc')\n",
    "plt.legend()"
   ]
  },
  {
   "cell_type": "code",
   "execution_count": 22,
   "metadata": {},
   "outputs": [
    {
     "data": {
      "text/plain": [
       "<matplotlib.legend.Legend at 0x2088056de48>"
      ]
     },
     "execution_count": 22,
     "metadata": {},
     "output_type": "execute_result"
    },
    {
     "data": {
      "image/png": "[encoded data removed]",
      "text/plain": [
       "<Figure size 432x288 with 1 Axes>"
      ]
     },
     "metadata": {
      "needs_background": "light"
     },
     "output_type": "display_data"
    }
   ],
   "source": [
    "plt.plot(history.epoch, history.history.get('val_loss'), label='val_loss')\n",
    "plt.plot(history.epoch, history.history.get('loss'), label='loss')\n",
    "plt.legend()"
   ]
  },
  {
   "cell_type": "code",
   "execution_count": 23,
   "metadata": {},
   "outputs": [
    {
     "name": "stdout",
     "output_type": "stream",
     "text": [
      "200/200 [==============================] - 2s 9ms/step - loss: 1.8935 - acc: 0.6335\n"
     ]
    },
    {
     "data": {
      "text/plain": [
       "[1.8934542512893677, 0.6335]"
      ]
     },
     "execution_count": 23,
     "metadata": {},
     "output_type": "execute_result"
    }
   ],
   "source": [
    "model.evaluate(test_set,steps=10000//batch_size)"
   ]
  },
  {
   "cell_type": "code",
   "execution_count": 24,
   "metadata": {},
   "outputs": [
    {
     "data": {
      "text/plain": [
       "(22,)"
      ]
     },
     "execution_count": 24,
     "metadata": {},
     "output_type": "execute_result"
    }
   ],
   "source": [
    "np.array(model.get_weights()).shape"
   ]
  },
  {
   "cell_type": "code",
   "execution_count": null,
   "metadata": {},
   "outputs": [],
   "source": []
  },
  {
   "cell_type": "code",
   "execution_count": 25,
   "metadata": {},
   "outputs": [],
   "source": [
    "epo_h=history.epoch\n",
    "loss_h=history.history.get('val_loss')\n",
    "acc_h=history.history.get('val_acc')\n",
    "\n",
    "arr = np.array([epo_h,loss_h,acc_h])"
   ]
  },
  {
   "cell_type": "code",
   "execution_count": 26,
   "metadata": {},
   "outputs": [],
   "source": [
    "# filename=os.path.join('result','{}_central.batch{}.npy'.format(new_index.shape[0],batch_size))\n",
    "# np.save(filename,arr)\n",
    "# print(filename)"
   ]
  },
  {
   "cell_type": "code",
   "execution_count": null,
   "metadata": {},
   "outputs": [],
   "source": []
  }
 ],
 "metadata": {
  "kernelspec": {
   "display_name": "Python 3",
   "language": "python",
   "name": "python3"
  },
  "language_info": {
   "codemirror_mode": {
    "name": "ipython",
    "version": 3
   },
   "file_extension": ".py",
   "mimetype": "text/x-python",
   "name": "python",
   "nbconvert_exporter": "python",
   "pygments_lexer": "ipython3",
   "version": "3.7.4"
  }
 },
 "nbformat": 4,
 "nbformat_minor": 2
}
