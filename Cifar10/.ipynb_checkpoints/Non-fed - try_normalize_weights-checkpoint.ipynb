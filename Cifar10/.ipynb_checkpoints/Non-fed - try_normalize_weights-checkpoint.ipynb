{
 "cells": [
  {
   "cell_type": "code",
   "execution_count": 1,
   "metadata": {},
   "outputs": [],
   "source": [
    "import tensorflow as tf\n",
    "import numpy as np\n",
    "import os\n",
    "import matplotlib.pyplot as plt\n",
    "import tensorflow as tf\n",
    "import glob\n",
    "%matplotlib inline"
   ]
  },
  {
   "cell_type": "code",
   "execution_count": 2,
   "metadata": {},
   "outputs": [],
   "source": [
    "gpus = tf.config.experimental.list_physical_devices(device_type='GPU')\n",
    "tf.config.experimental.set_virtual_device_configuration( gpus[0], [tf.config.experimental.VirtualDeviceConfiguration(memory_limit=3700)])"
   ]
  },
  {
   "cell_type": "code",
   "execution_count": 3,
   "metadata": {},
   "outputs": [
    {
     "data": {
      "text/plain": [
       "'2.0.1'"
      ]
     },
     "execution_count": 3,
     "metadata": {},
     "output_type": "execute_result"
    }
   ],
   "source": [
    "tf.__version__"
   ]
  },
  {
   "cell_type": "code",
   "execution_count": 4,
   "metadata": {},
   "outputs": [
    {
     "data": {
      "text/plain": [
       "True"
      ]
     },
     "execution_count": 4,
     "metadata": {},
     "output_type": "execute_result"
    }
   ],
   "source": [
    "tf.test.is_gpu_available()"
   ]
  },
  {
   "cell_type": "code",
   "execution_count": 5,
   "metadata": {},
   "outputs": [],
   "source": [
    "def img_augument(img,lab):\n",
    "    img = tf.image.random_flip_left_right(img)\n",
    "#     img = tf.image.random_flip_up_down(img)\n",
    "    img = tf.image.random_brightness(img, 0.2)\n",
    "    img = tf.image.random_hue(img,0.1)\n",
    "    img = tf.image.random_contrast(img, 0.5, 2)\n",
    "    return img, lab"
   ]
  },
  {
   "cell_type": "code",
   "execution_count": 6,
   "metadata": {},
   "outputs": [
    {
     "data": {
      "text/plain": [
       "(array([0, 1, 2, 3, 4, 5, 6, 7, 8, 9], dtype=uint8),\n",
       " array([5000, 5000, 5000, 5000, 5000, 5000, 5000, 5000, 5000, 5000],\n",
       "       dtype=int64))"
      ]
     },
     "execution_count": 6,
     "metadata": {},
     "output_type": "execute_result"
    }
   ],
   "source": [
    "(x_train, y_train), (x_test, y_test) = tf.keras.datasets.cifar10.load_data()  #50000 train, 10000 test\n",
    "np.unique(y_train,return_counts=True)"
   ]
  },
  {
   "cell_type": "code",
   "execution_count": 7,
   "metadata": {},
   "outputs": [],
   "source": [
    "'''\n",
    "batch size \n",
    "'''\n",
    "\n",
    "batch_size = 100   ## this is what previous tests are done with\n",
    "autotune=tf.data.experimental.AUTOTUNE\n",
    "buffer_size = x_train.shape[0]"
   ]
  },
  {
   "cell_type": "code",
   "execution_count": 8,
   "metadata": {},
   "outputs": [
    {
     "data": {
      "text/plain": [
       "(40000,)"
      ]
     },
     "execution_count": 8,
     "metadata": {},
     "output_type": "execute_result"
    }
   ],
   "source": [
    "category_index=[]     # if want to reduce the training set\n",
    "\n",
    "for i in range(10):\n",
    "    index0 = np.where(y_train == i)\n",
    "    index = index0[0]\n",
    "    np.random.shuffle(index)\n",
    "    category_index.append(index)\n",
    "\n",
    "new_index=[]\n",
    "for i in range(10):\n",
    "    new_index.append(category_index[i][0:4000])    \n",
    "new_index=np.concatenate(new_index)\n",
    "new_index.shape"
   ]
  },
  {
   "cell_type": "code",
   "execution_count": 9,
   "metadata": {},
   "outputs": [],
   "source": [
    "augment=False\n",
    "x_tr=tf.data.Dataset.from_tensor_slices(x_train[new_index])\n",
    "y_tr=tf.data.Dataset.from_tensor_slices(y_train[new_index])\n",
    "train_set=tf.data.Dataset.zip((x_tr, y_tr))\n",
    "if augment==True:\n",
    "    train_set=train_set.map(img_augument).shuffle(buffer_size,reshuffle_each_iteration=True).repeat().batch(batch_size).prefetch(buffer_size=autotune)\n",
    "else:\n",
    "    train_set=train_set.shuffle(buffer_size,reshuffle_each_iteration=True).repeat().batch(batch_size).prefetch(buffer_size=autotune)"
   ]
  },
  {
   "cell_type": "code",
   "execution_count": 10,
   "metadata": {},
   "outputs": [],
   "source": [
    "# x_te=tf.data.Dataset.from_tensor_slices(x_train[-10000:])\n",
    "# y_te=tf.data.Dataset.from_tensor_slices(y_train[-10000:])\n",
    "x_te=tf.data.Dataset.from_tensor_slices(x_test)\n",
    "y_te=tf.data.Dataset.from_tensor_slices(y_test)\n",
    "test_set=tf.data.Dataset.zip((x_te, y_te))\n",
    "test_set=test_set.repeat().batch(200).prefetch(buffer_size=autotune)"
   ]
  },
  {
   "cell_type": "code",
   "execution_count": 11,
   "metadata": {},
   "outputs": [
    {
     "data": {
      "text/plain": [
       "10000"
      ]
     },
     "execution_count": 11,
     "metadata": {},
     "output_type": "execute_result"
    }
   ],
   "source": [
    "len(x_test)"
   ]
  },
  {
   "cell_type": "code",
   "execution_count": 12,
   "metadata": {},
   "outputs": [],
   "source": [
    "from models import ANN_model\n",
    "\n",
    "model=ANN_model()"
   ]
  },
  {
   "cell_type": "code",
   "execution_count": 13,
   "metadata": {
    "scrolled": true
   },
   "outputs": [],
   "source": [
    "history=model.fit(train_set,\n",
    "                  epochs=30,\n",
    "                  steps_per_epoch=new_index.shape[0]//batch_size,\n",
    "                  validation_data=test_set,\n",
    "                  validation_steps=10000//200,\n",
    "                  verbose=0)\n"
   ]
  },
  {
   "cell_type": "code",
   "execution_count": 14,
   "metadata": {},
   "outputs": [],
   "source": [
    "val_acc_r = []\n",
    "acc_r = []\n",
    "val_loss_r = []\n",
    "loss_r = []\n",
    "val_acc_r += history.history.get('val_acc')\n",
    "acc_r += history.history.get('acc')\n",
    "val_loss_r += history.history.get('val_loss')\n",
    "loss_r += history.history.get('loss')"
   ]
  },
  {
   "cell_type": "code",
   "execution_count": null,
   "metadata": {},
   "outputs": [],
   "source": []
  },
  {
   "cell_type": "code",
   "execution_count": null,
   "metadata": {},
   "outputs": [],
   "source": []
  },
  {
   "cell_type": "code",
   "execution_count": 15,
   "metadata": {
    "scrolled": true
   },
   "outputs": [],
   "source": [
    "for j in range(10):\n",
    "    middle_w = model.get_weights()\n",
    "    middle_w = np.array(middle_w)\n",
    "\n",
    "    for i in range(middle_w.shape[0]):    # normalize each layer\n",
    "        m = middle_w[i].max()\n",
    "        middle_w[i] = middle_w[i]/m\n",
    "\n",
    "#     m_list = []     # normalize the whole model --> feels bad\n",
    "#     for l in middle_w:\n",
    "#         m = l.max()\n",
    "#         m_list.append(m)\n",
    "#     m = max(m_list)\n",
    "#     middle_w = middle_w/m    \n",
    "\n",
    "\n",
    "    model.set_weights(middle_w)\n",
    "    history=model.fit(train_set,\n",
    "                      epochs=20,\n",
    "                      steps_per_epoch=new_index.shape[0]//batch_size,\n",
    "                      validation_data=test_set,\n",
    "                      validation_steps=10000//200,\n",
    "                      verbose=0)\n",
    "    val_acc_r += history.history.get('val_acc')\n",
    "    acc_r += history.history.get('acc')\n",
    "    val_loss_r += history.history.get('val_loss')\n",
    "    loss_r += history.history.get('loss')\n",
    "\n",
    "    \n",
    "    "
   ]
  },
  {
   "cell_type": "code",
   "execution_count": null,
   "metadata": {},
   "outputs": [],
   "source": []
  },
  {
   "cell_type": "code",
   "execution_count": null,
   "metadata": {},
   "outputs": [],
   "source": []
  },
  {
   "cell_type": "code",
   "execution_count": 16,
   "metadata": {},
   "outputs": [],
   "source": [
    "e = [i for i in range(len(val_acc_r))]"
   ]
  },
  {
   "cell_type": "code",
   "execution_count": 17,
   "metadata": {},
   "outputs": [
    {
     "data": {
      "text/plain": [
       "<matplotlib.legend.Legend at 0x21d446dcbc8>"
      ]
     },
     "execution_count": 17,
     "metadata": {},
     "output_type": "execute_result"
    },
    {
     "data": {
      "image/png": "[encoded data removed]",
      "text/plain": [
       "<Figure size 432x288 with 1 Axes>"
      ]
     },
     "metadata": {
      "needs_background": "light"
     },
     "output_type": "display_data"
    }
   ],
   "source": [
    "plt.plot(e, val_acc_r,label='val_acc')\n",
    "plt.plot(e, acc_r, label='acc')\n",
    "plt.legend()"
   ]
  },
  {
   "cell_type": "code",
   "execution_count": 18,
   "metadata": {},
   "outputs": [
    {
     "data": {
      "text/plain": [
       "<matplotlib.legend.Legend at 0x21d4478fcc8>"
      ]
     },
     "execution_count": 18,
     "metadata": {},
     "output_type": "execute_result"
    },
    {
     "data": {
      "image/png": "[encoded data removed]",
      "text/plain": [
       "<Figure size 432x288 with 1 Axes>"
      ]
     },
     "metadata": {
      "needs_background": "light"
     },
     "output_type": "display_data"
    }
   ],
   "source": [
    "plt.plot(e, val_loss_r, label='val_loss')\n",
    "plt.plot(e, loss_r, label='loss')\n",
    "plt.legend()"
   ]
  },
  {
   "cell_type": "code",
   "execution_count": null,
   "metadata": {},
   "outputs": [],
   "source": []
  }
 ],
 "metadata": {
  "kernelspec": {
   "display_name": "Python 3",
   "language": "python",
   "name": "python3"
  },
  "language_info": {
   "codemirror_mode": {
    "name": "ipython",
    "version": 3
   },
   "file_extension": ".py",
   "mimetype": "text/x-python",
   "name": "python",
   "nbconvert_exporter": "python",
   "pygments_lexer": "ipython3",
   "version": "3.7.4"
  }
 },
 "nbformat": 4,
 "nbformat_minor": 2
}
