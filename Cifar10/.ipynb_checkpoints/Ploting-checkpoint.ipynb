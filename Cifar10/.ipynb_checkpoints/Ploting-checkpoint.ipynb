{
 "cells": [
  {
   "cell_type": "code",
   "execution_count": 32,
   "metadata": {},
   "outputs": [],
   "source": [
    "import numpy as np\n",
    "import os\n",
    "import matplotlib.pyplot as plt\n",
    "import glob\n",
    "import statistics\n",
    "import pandas as pd\n",
    "import matplotlib.patches as mpatches\n",
    "from scipy import stats\n",
    "%matplotlib inline"
   ]
  },
  {
   "cell_type": "code",
   "execution_count": 33,
   "metadata": {},
   "outputs": [],
   "source": [
    "## basic read in"
   ]
  },
  {
   "cell_type": "code",
   "execution_count": 34,
   "metadata": {},
   "outputs": [],
   "source": [
    "def max_acc_point(acc_list):\n",
    "    acc_point = np.argmax(acc_list)\n",
    "    return acc_point"
   ]
  },
  {
   "cell_type": "code",
   "execution_count": 35,
   "metadata": {},
   "outputs": [],
   "source": [
    "def min_loss_point(loss_list):\n",
    "    loss_point = np.argmin(loss_list)\n",
    "    return loss_point"
   ]
  },
  {
   "cell_type": "code",
   "execution_count": 36,
   "metadata": {},
   "outputs": [],
   "source": [
    "def index_less_than(mylist,myvalue,value2):\n",
    "    for i in range(len(mylist)):\n",
    "        if mylist[i]<myvalue:\n",
    "            if mylist[i]>0.78:\n",
    "                return len(mylist)-1\n",
    "            else:\n",
    "                return i\n",
    "#             if mylist[i]<value2:\n",
    "#                        return i\n",
    "    return len(mylist)-1"
   ]
  },
  {
   "cell_type": "code",
   "execution_count": 37,
   "metadata": {},
   "outputs": [],
   "source": [
    "def es_point(acc_list,p): # p means steps after the max index\n",
    "    max_num = 0\n",
    "    count = 0\n",
    "    for i in range(len(acc_list)):\n",
    "        if acc_list[i]>max_num:\n",
    "            max_num = acc_list[i]\n",
    "            count = 0\n",
    "        count = count+1\n",
    "        if count>p:\n",
    "            return i-1\n",
    "    return int(len(acc_list)-1)"
   ]
  },
  {
   "cell_type": "code",
   "execution_count": 38,
   "metadata": {},
   "outputs": [],
   "source": [
    "def windowed(s,half_window): # s is a list\n",
    "    s_mean=[]\n",
    "    s_var=[]\n",
    "    window_size = half_window*2 + 1\n",
    "    for i in range(len(s)-window_size+1):\n",
    "        k = i + half_window \n",
    "        s_sub=s[k-half_window:k+half_window+1]\n",
    "        sub_mean=sum(s_sub)/len(s_sub)\n",
    "        s_mean.append(sub_mean)\n",
    "        sub_var=statistics.variance(s_sub)\n",
    "        s_var.append(sub_var)\n",
    "    return s_mean,s_var"
   ]
  },
  {
   "cell_type": "code",
   "execution_count": null,
   "metadata": {},
   "outputs": [],
   "source": []
  },
  {
   "cell_type": "code",
   "execution_count": 39,
   "metadata": {},
   "outputs": [],
   "source": [
    "def read_acc_mean(files,i,speed=1):\n",
    "    fileset = pd.concat( [pd.read_csv(f,header=None,sep=' ',names=['loss','acc'])['acc'] for f in files], axis=1)\n",
    "    normalset = pd.concat( [fileset.iloc[:,i] for i in range(len(fileset.columns)) if fileset.iloc[:,i].isnull().any()==False], axis=1)\n",
    "    normalset_mean = normalset.mean(axis=1).dropna()\n",
    "    if speed==1:\n",
    "        return normalset_mean   \n",
    "    delayset = pd.concat( [fileset.iloc[:,i] for i in range(len(fileset.columns)) if fileset.iloc[:,i].isnull().any()==True], axis=1)\n",
    "    delayset_mean = delayset.mean(axis=1).dropna()\n",
    "    return normalset_mean,delayset_mean\n",
    "def read_loss_mean(files,i,speed=1):\n",
    "    fileset = pd.concat( [pd.read_csv(f,header=None,sep=' ',names=['loss','acc'])['loss'] for f in files], axis=1)\n",
    "    normalset = pd.concat( [fileset.iloc[:,i] for i in range(len(fileset.columns)) if fileset.iloc[:,i].isnull().any()==False], axis=1)\n",
    "    normalset_mean = normalset.mean(axis=1).dropna()\n",
    "    if speed==1:\n",
    "        return normalset_mean   \n",
    "    delayset = pd.concat( [fileset.iloc[:,i] for i in range(len(fileset.columns)) if fileset.iloc[:,i].isnull().any()==True], axis=1)\n",
    "    delayset_mean = delayset.mean(axis=1).dropna()\n",
    "    return normalset_mean,delayset_mean"
   ]
  },
  {
   "cell_type": "code",
   "execution_count": 40,
   "metadata": {},
   "outputs": [],
   "source": [
    "## how to plot"
   ]
  },
  {
   "cell_type": "code",
   "execution_count": 41,
   "metadata": {},
   "outputs": [],
   "source": [
    "def plot_line(i,k,basedir,result,lab,addon=''):\n",
    "    s1=np.load(os.path.join(basedir,result[k]))\n",
    "    p=1000\n",
    "    s1_epo = [i+1 for i in s1[0][:p]]\n",
    "    ax[i].plot(s1_epo,s1[2][:p], label=lab[k]+addon)"
   ]
  },
  {
   "cell_type": "code",
   "execution_count": 42,
   "metadata": {},
   "outputs": [],
   "source": [
    "def plot_window_acc(i,k,half_window,basedir,result,lab,line_color,dot_color,addon=''):\n",
    "    s1=np.load(os.path.join(basedir,result[k]))\n",
    "    p=1000\n",
    "    \n",
    "    (s_mean,s_varience)=windowed(s1[2][:p],half_window)\n",
    "\n",
    "    s_epo=[i+half_window+1 for i in range(len(s_mean))]\n",
    "    ax[i].plot(s_epo,s_mean, label=lab[k]+addon,color = line_color) # can also plot s_varience if want\n",
    "    \n",
    "    (s_loss,_)=windowed(s1[1][:p],half_window)\n",
    "    \n",
    "    index_min_loss = min_loss_point(s_loss)\n",
    "    ax[i].plot(index_min_loss+half_window+1,s_mean[index_min_loss],dot_color)\n",
    "\n",
    "#     index_max=np.argmax(s_mean)\n",
    "#     ax[i].plot(index_max+half_window+1,s_mean[index_max],dot_color)\n"
   ]
  },
  {
   "cell_type": "code",
   "execution_count": 43,
   "metadata": {},
   "outputs": [],
   "source": [
    "def plot_file_acc(i,k,basedir,node_dir,lab,speed=1,filename='self_EVAL.txt'):\n",
    "    files = glob.glob(basedir +'/'+ node_dir[k]+ '/worker_nodes/*/'+filename)\n",
    "    linelab = lab[k]\n",
    "    if speed==1:\n",
    "        normalset_mean = read_acc_mean(files,i,speed)\n",
    "        set_plt = [i+1 for i in range(len(normalset_mean))]\n",
    "        ax[i].plot(set_plt,normalset_mean, label=linelab+'_t')\n",
    "#         print('only usual')\n",
    "        \n",
    "    else:\n",
    "        normalset_mean,delayset_mean = read_acc_mean(files,i,speed)\n",
    "        \n",
    "        normal_plt = [i+1 for i in range(len(normalset_mean))]\n",
    "        ax[i].plot(normal_plt,normalset_mean, label=linelab+'_usual')\n",
    "        \n",
    "        new_delay_set = [val for val in delayset_mean for _ in range(speed)]\n",
    "        delay_plt = [i+1 for i in range(len(new_delay_set))]\n",
    "        ax[i].plot(delay_plt,new_delay_set, label=linelab+'_delay')"
   ]
  },
  {
   "cell_type": "code",
   "execution_count": 44,
   "metadata": {},
   "outputs": [],
   "source": [
    "def plot_file_window_acc(i,k,half_window,basedir,node_dir,lab,speed=1,filename='self_EVAL.txt'):\n",
    "    files = glob.glob(basedir +'/'+ node_dir[k]+ '/worker_nodes/*/'+filename)\n",
    "    linelab = lab[k]\n",
    "    if speed==1:\n",
    "        normalset_mean = read_acc_mean(files,i,speed)\n",
    "        (s_mean,s_varience)=windowed(normalset_mean,half_window)\n",
    "        s_epo=[i+half_window+1 for i in range(len(s_mean))]\n",
    "        ax[i].plot(s_epo,s_mean, label=linelab+'_t')\n",
    "    else:\n",
    "        normalset_mean,delayset_mean = read_acc_mean(files,i,speed)\n",
    "\n",
    "        (s_mean,s_varience)=windowed(normalset_mean,half_window)\n",
    "        s_epo=[i+half_window+1 for i in range(len(s_mean))]\n",
    "        ax[i].plot(s_epo,s_mean, label=linelab+'_usual')\n",
    "        \n",
    "        new_delay_set = [val for val in delayset_mean for _ in range(speed)]\n",
    "        (s_mean,s_varience)=windowed(new_delay_set,half_window)\n",
    "        s_epo=[i+half_window+1 for i in range(len(s_mean))]\n",
    "        ax[i].plot(s_epo,s_mean, label=linelab+'_delay')\n"
   ]
  },
  {
   "cell_type": "code",
   "execution_count": null,
   "metadata": {},
   "outputs": [],
   "source": []
  },
  {
   "cell_type": "code",
   "execution_count": null,
   "metadata": {},
   "outputs": [],
   "source": []
  },
  {
   "cell_type": "markdown",
   "metadata": {},
   "source": [
    "## Bad Node"
   ]
  },
  {
   "cell_type": "code",
   "execution_count": 26,
   "metadata": {},
   "outputs": [],
   "source": [
    "half_window = 10\n",
    "th = 0.025\n",
    "value2 = 1\n",
    "\n",
    "index_min_loss_list = []\n",
    "index_min_acc_list = []\n",
    "min_loss_list = []\n",
    "min_acc_list = []\n",
    "acc_at_min_loss_list = []\n",
    "index_less_than_nb_list = []\n",
    "gap_to_min_list = []\n",
    "acc_drop_list = []\n",
    "\n",
    "\n",
    "basedir=os.path.join('RESULT_4000/BadNode')\n",
    "\n",
    "color_list=[\n",
    "#     'k',\n",
    "    'r','c',\n",
    "#     'k',\n",
    "    'r','c',\n",
    "#     'k',\n",
    "    'r','c',\n",
    "    \n",
    "#     'k',\n",
    "    'r','b','c',\n",
    "#     'k',\n",
    "#     'r','b','c',\n",
    "#     'k',\n",
    "    'r','b','c',\n",
    "#     'k',\n",
    "    'r','b','c',\n",
    "    \n",
    "]\n",
    "\n",
    "size_list = [\n",
    "    1,1,1,1,1,1,\n",
    "    2,2,2,2,2,2,2,2,2,\n",
    "]\n",
    "iid_list = [\n",
    "    1,1,2,2,3,3,\n",
    "    1,1,1,2,2,2,3,3,3,\n",
    "]\n",
    "\n",
    "\n",
    "result=[\n",
    "#     '2c.10w.4000.loc1.earlystop500.20200501-072809.npy',\n",
    "    '2c.10w.4000.plus1bad_each40.loc1.earlystop500.20200501-015142.npy',\n",
    "    '2c.10w.4000.plus1bad_each400.loc1.earlystop500.20200501-031558.npy',\n",
    "\n",
    "#     '5c.10w.4000.loc1.earlystop500.20200501-024326.npy',\n",
    "    '5c.10w.4000.plus1bad_each40.loc1.earlystop500.20200501-023155.npy',\n",
    "    '5c.10w.4000.plus1bad_each400.loc1.earlystop500.20200501-004052.npy',\n",
    "\n",
    "#     'iid.10w.4000.loc1.earlystop500.20200501-020117.npy',\n",
    "    '11d.10w.4000.plus1bad_each40.loc1.earlystop500.20200501-020918.npy',\n",
    "    '11d.10w.4000.plus1bad_each400.loc1.earlystop500.20200501-060927.npy',\n",
    "]\n",
    "\n",
    "for res in result:\n",
    "    s1 = np.load(os.path.join(basedir,res))\n",
    "    (s_acc,_)=windowed(s1[2][:1000],half_window)\n",
    "    (s_loss,_)=windowed(s1[1][:1000],half_window)\n",
    "    \n",
    "    index_min_loss = min_loss_point(s_loss)\n",
    "    index_min_acc = min_loss_point(s_acc[index_min_loss:])+index_min_loss\n",
    "    \n",
    "    \n",
    "    min_loss = s_loss[index_min_loss]\n",
    "    min_acc = s_acc[index_min_acc]\n",
    "    \n",
    "    acc_at_min_loss = s_acc[index_min_loss]\n",
    "    index_less_than_nb = index_less_than(s_acc[index_min_loss:],min_acc+th,value2)+index_min_loss #index of acc drop to min_acc+some range\n",
    "    gap_to_min = index_less_than(s_acc[index_min_loss:],min_acc+th,value2) #gap between cropped & min_loss\n",
    "    \n",
    "    acc_drop = s_acc[index_less_than_nb]\n",
    "    \n",
    "    \n",
    "    index_min_loss_list.append(index_min_loss)\n",
    "    index_min_acc_list.append(index_min_acc)\n",
    "    min_loss_list.append(min_loss)\n",
    "    min_acc_list.append(min_acc)\n",
    "    acc_at_min_loss_list.append(acc_at_min_loss) # Try with it's original&iid min_at_loss???\n",
    "    index_less_than_nb_list.append(index_less_than_nb) # \n",
    "    gap_to_min_list.append(gap_to_min)\n",
    "    acc_drop_list.append(acc_drop)\n",
    "    \n",
    "basedir=os.path.join('RESULT_40000/BadNode')    \n",
    "result=[\n",
    "#     '2c.10w.40000.loc1.earlystop1000.20200521-163612.npy',\n",
    "    '2c.10w.40000.plus1bad_each400.loc1.earlystop1000.20200521-150153.npy',\n",
    "    '2c.10w.40000.plus1bad_each1200.loc1.earlystop1000.20200523-055725.npy',\n",
    "    '2c.10w.40000.plus1bad_each4000.loc1.earlystop1000.20200521-152141.npy',\n",
    "    \n",
    "# #     '3c.10w.40000.loc1.earlystop1000.20200523-042344.npy',\n",
    "#     '3c.10w.40000.plus1bad_each400.loc1.earlystop1000.20200523-043427.npy',\n",
    "#     '3c.10w.40000.plus1bad_each1200.loc1.earlystop1000.20200523-054717.npy',\n",
    "#     '3c.10w.40000.plus1bad_each4000.loc1.earlystop1000.20200523-043024.npy',\n",
    "    \n",
    "#     '5c.10w.40000.loc1.earlystop1000.20200521-171047.npy',\n",
    "    '5c.10w.40000.plus1bad_each400.loc1.earlystop1000.20200521-152400.npy',\n",
    "    '5c.10w.40000.plus1bad_each1200.loc1.earlystop1000.20200523-055914.npy',\n",
    "    '5c.10w.40000.plus1bad_each4000.loc1.earlystop1000.20200521-165039.npy',\n",
    "    \n",
    "#     'iid.10w.40000.loc1.earlystop1000.20200521-172951.npy',\n",
    "    'iid.10w.40000.plus1bad_each400.loc1.earlystop1000.20200521-185542.npy',\n",
    "    'iid.10w.40000.plus1bad_each1200.loc1.earlystop1000.20200523-055848.npy',\n",
    "    'iid.10w.40000.plus1bad_each4000.loc1.earlystop1000.20200521-152331.npy',\n",
    "    \n",
    "\n",
    "]\n",
    "for res in result:\n",
    "    s1 = np.load(os.path.join(basedir,res))\n",
    "    (s_acc,_)=windowed(s1[2][:1000],half_window)\n",
    "    (s_loss,_)=windowed(s1[1][:1000],half_window)\n",
    "    \n",
    "    index_min_loss = min_loss_point(s_loss)\n",
    "    index_min_acc = min_loss_point(s_acc[index_min_loss:])+index_min_loss\n",
    "    \n",
    "    \n",
    "    min_loss = s_loss[index_min_loss]\n",
    "    min_acc = s_acc[index_min_acc]\n",
    "    \n",
    "    acc_at_min_loss = s_acc[index_min_loss]\n",
    "    index_less_than_nb = index_less_than(s_acc[index_min_loss:],min_acc+th,value2)+index_min_loss #index of acc drop to min_acc+some range\n",
    "    gap_to_min = index_less_than(s_acc[index_min_loss:],min_acc+th,value2) #gap between cropped & min_loss\n",
    "    \n",
    "    acc_drop = s_acc[index_less_than_nb]\n",
    "    \n",
    "    \n",
    "    index_min_loss_list.append(index_min_loss)\n",
    "    index_min_acc_list.append(index_min_acc)\n",
    "    min_loss_list.append(min_loss)\n",
    "    min_acc_list.append(min_acc)\n",
    "    acc_at_min_loss_list.append(acc_at_min_loss) # Try with it's original&iid min_at_loss???\n",
    "    index_less_than_nb_list.append(index_less_than_nb) # \n",
    "    gap_to_min_list.append(gap_to_min)\n",
    "    acc_drop_list.append(acc_drop)"
   ]
  },
  {
   "cell_type": "code",
   "execution_count": 28,
   "metadata": {},
   "outputs": [
    {
     "data": {
      "text/plain": [
       "<matplotlib.legend.Legend at 0x164bb3b48c8>"
      ]
     },
     "execution_count": 28,
     "metadata": {},
     "output_type": "execute_result"
    },
    {
     "data": {
      "image/png": "[encoded data removed]",
      "text/plain": [
       "<Figure size 360x216 with 1 Axes>"
      ]
     },
     "metadata": {
      "needs_background": "light"
     },
     "output_type": "display_data"
    }
   ],
   "source": [
    "plt.scatter(index_less_than_nb_list,size_list,color=color_list) # index_less_than_nb_list    acc_drop_list  \n",
    "plt.xlabel('Round',fontsize=12) #Accuracy -collapse           Round\n",
    "plt.ylabel('Dataset Size',fontsize=12) \n",
    "plt.yticks([0,1,2,4],['','4000','40000',''],rotation=90)\n",
    "\n",
    "# plt.scatter(index_less_than_nb_list,iid_list,color=color_list) # index_less_than_nb_list    acc_drop_list \n",
    "# plt.xlabel('Round',fontsize=12)  #Accuracy -collapse            Round\n",
    "# # plt.ylabel('IID level',fontsize=12) \n",
    "# plt.yticks([0,1,2,3,5],['','2c','5c','iid',''],rotation=0)\n",
    "\n",
    "\n",
    "plt.gcf().set_size_inches(5, 3)\n",
    "# black_patch = mpatches.Patch(color='k', label='0%')\n",
    "red_patch = mpatches.Patch(color='r', label='1%')\n",
    "b_patch = mpatches.Patch(color='b', label='3%')\n",
    "c_patch = mpatches.Patch(color='c', label='10%')\n",
    "plt.legend(handles=[red_patch,b_patch,c_patch])"
   ]
  },
  {
   "cell_type": "code",
   "execution_count": 29,
   "metadata": {},
   "outputs": [
    {
     "data": {
      "text/plain": [
       "15"
      ]
     },
     "execution_count": 29,
     "metadata": {},
     "output_type": "execute_result"
    }
   ],
   "source": [
    "len(index_less_than_nb_list)"
   ]
  },
  {
   "cell_type": "code",
   "execution_count": 31,
   "metadata": {},
   "outputs": [
    {
     "data": {
      "text/plain": [
       "<matplotlib.legend.Legend at 0x164bb67f748>"
      ]
     },
     "execution_count": 31,
     "metadata": {},
     "output_type": "execute_result"
    },
    {
     "data": {
      "image/png": "[encoded data removed]",
      "text/plain": [
       "<Figure size 360x216 with 1 Axes>"
      ]
     },
     "metadata": {
      "needs_background": "light"
     },
     "output_type": "display_data"
    }
   ],
   "source": [
    "# plt.scatter(acc_at_min_loss_list,index_less_than_nb_list,color=color_list)\n",
    "plt.scatter(acc_at_min_loss_list,acc_drop_list,color=color_list)\n",
    "plt.gcf().set_size_inches(5, 3)\n",
    "\n",
    "plt.xlabel('Accuracy - min_loss',fontsize=12)  \n",
    "# plt.ylabel('Global Rounds',fontsize=12) \n",
    "plt.ylabel('Accuracy - collapse',fontsize=12) \n",
    "\n",
    "red_patch = mpatches.Patch(color='r', label='1%')\n",
    "b_patch = mpatches.Patch(color='b', label='3%')\n",
    "c_patch = mpatches.Patch(color='c', label='10%')\n",
    "plt.legend(handles=[red_patch,b_patch,c_patch])\n",
    "\n",
    "# plt.legend()\n"
   ]
  },
  {
   "cell_type": "code",
   "execution_count": 18,
   "metadata": {},
   "outputs": [],
   "source": [
    "from scipy import stats\n",
    "\n",
    "# apply statistal tests to show if there's a difference between means of the 3 groups\n",
    "# https://blog.csdn.net/m0_37777649/article/details/74938120"
   ]
  },
  {
   "cell_type": "code",
   "execution_count": null,
   "metadata": {},
   "outputs": [],
   "source": []
  },
  {
   "cell_type": "markdown",
   "metadata": {},
   "source": [
    "## Data Dispersion"
   ]
  },
  {
   "cell_type": "code",
   "execution_count": 19,
   "metadata": {},
   "outputs": [],
   "source": [
    "half_window = 10\n",
    "\n",
    "index_min_loss_list = []\n",
    "min_loss_list = []\n",
    "acc_at_min_loss_list = []\n",
    "\n",
    "color_list = [\n",
    "    'r','b','r','b','r','b',\n",
    "    'r','b','r','b','r','b',\n",
    "]\n",
    "\n",
    "\n",
    "basedir=os.path.join('RESULT_4000/DataDispersion')\n",
    "result=[\n",
    "    '2c.10w.4000.loc1.earlystop500.20200501-072809.npy',\n",
    "    '2c.40w.4000.loc1.earlystop500.20200507-172304.npy',\n",
    "    '5c.10w.4000.loc1.earlystop500.20200501-024326.npy',\n",
    "    '5c.40w.4000.loc1.earlystop500.20200506-215910.npy',\n",
    "    'iid.10w.4000.loc1.earlystop500.20200501-020117.npy',\n",
    "    'iid.40w.4000.loc1.earlystop500.20200507-014322.npy',\n",
    "]\n",
    "for res in result:\n",
    "    s1 = np.load(os.path.join(basedir,res))\n",
    "    (s_acc,_)=windowed(s1[2][:1000],half_window)\n",
    "    (s_loss,_)=windowed(s1[1][:1000],half_window)\n",
    "    \n",
    "    index_min_loss = min_loss_point(s_loss)\n",
    "    \n",
    "    min_loss = s_loss[index_min_loss]\n",
    "    \n",
    "    acc_at_min_loss = s_acc[index_min_loss]\n",
    "    \n",
    "    index_min_loss_list.append(index_min_loss)\n",
    "    min_loss_list.append(min_loss)\n",
    "    acc_at_min_loss_list.append(acc_at_min_loss) # Try with it's original&iid min_at_loss???\n",
    "\n",
    "basedir=os.path.join('RESULT_40000/DataDispersion')    \n",
    "result=[\n",
    "    '2c.10w.40000.loc1.earlystop1000.20200521-163612.npy',\n",
    "    '2c.40w.40000.loc1.earlystop1000.20200522-110021.npy',\n",
    "    \n",
    "    '5c.10w.40000.loc1.earlystop1000.20200521-171047.npy',\n",
    "    '5c.40w.40000.loc1.earlystop1000.20200522-110113.npy',\n",
    "    \n",
    "    'iid.10w.40000.loc1.earlystop1000.20200521-172951.npy',\n",
    "    'iid.40w.40000.loc1.earlystop1000.20200522-105548.npy',\n",
    "]\n",
    "for res in result:\n",
    "    s1 = np.load(os.path.join(basedir,res))\n",
    "    (s_acc,_)=windowed(s1[2][:1000],half_window)\n",
    "    (s_loss,_)=windowed(s1[1][:1000],half_window)\n",
    "    \n",
    "    index_min_loss = min_loss_point(s_loss)\n",
    "    \n",
    "    min_loss = s_loss[index_min_loss]\n",
    "    \n",
    "    acc_at_min_loss = s_acc[index_min_loss]\n",
    "    \n",
    "    index_min_loss_list.append(index_min_loss)\n",
    "    min_loss_list.append(min_loss)\n",
    "    acc_at_min_loss_list.append(acc_at_min_loss) # Try with it's original&iid min_at_loss???"
   ]
  },
  {
   "cell_type": "code",
   "execution_count": 20,
   "metadata": {},
   "outputs": [
    {
     "data": {
      "text/plain": [
       "<matplotlib.legend.Legend at 0x164ba3375c8>"
      ]
     },
     "execution_count": 20,
     "metadata": {},
     "output_type": "execute_result"
    },
    {
     "data": {
      "image/png": "[encoded data removed]",
      "text/plain": [
       "<Figure size 360x216 with 1 Axes>"
      ]
     },
     "metadata": {
      "needs_background": "light"
     },
     "output_type": "display_data"
    }
   ],
   "source": [
    "mylist = [\n",
    "    1,2,1,2,1,2,1,2,1,2,1,2,\n",
    "]\n",
    "# plt.scatter(index_min_loss_list,mylist, color=color_list)\n",
    "plt.scatter(acc_at_min_loss_list,mylist, color=color_list)\n",
    "\n",
    "plt.gcf().set_size_inches(5, 3)\n",
    "\n",
    "\n",
    "# plt.xlabel('Round',fontsize=12) \n",
    "plt.xlabel('Accuracy',fontsize=12)  \n",
    " \n",
    "plt.ylabel('Worker Number',fontsize=12) \n",
    "plt.yticks([0,1,2,4],['','10','40',''],rotation=0)\n",
    "\n",
    "red_patch = mpatches.Patch(color='r', label='10w')\n",
    "b_patch = mpatches.Patch(color='b', label='40w')\n",
    "\n",
    "plt.legend(handles=[red_patch,b_patch])\n",
    "\n",
    "# plt.legend()"
   ]
  },
  {
   "cell_type": "code",
   "execution_count": 21,
   "metadata": {},
   "outputs": [],
   "source": [
    "ten_w = []\n",
    "forty_w = []\n",
    "\n",
    "for i in range(len(mylist)):\n",
    "    if mylist[i]==1:\n",
    "        ten_w.append(index_min_loss_list[i]) # index_min_loss_list  acc_at_min_loss_list\n",
    "    if mylist[i]==2:\n",
    "        forty_w.append(index_min_loss_list[i]) # index_min_loss_list  acc_at_min_loss_list\n",
    "        "
   ]
  },
  {
   "cell_type": "code",
   "execution_count": 22,
   "metadata": {},
   "outputs": [
    {
     "data": {
      "text/plain": [
       "LeveneResult(statistic=3.6920203850290174, pvalue=0.08360651432056798)"
      ]
     },
     "execution_count": 22,
     "metadata": {},
     "output_type": "execute_result"
    }
   ],
   "source": [
    "stats.levene(ten_w, forty_w) # if p>>0.05, equal_var=true (default) 方差齐次性"
   ]
  },
  {
   "cell_type": "code",
   "execution_count": 23,
   "metadata": {},
   "outputs": [
    {
     "data": {
      "text/plain": [
       "Ttest_relResult(statistic=-4.582034112527078, pvalue=0.00593646963137399)"
      ]
     },
     "execution_count": 23,
     "metadata": {},
     "output_type": "execute_result"
    }
   ],
   "source": [
    "stats.ttest_rel(ten_w, forty_w) #paired t test, used this!!!!\n",
    "\n",
    "# stats.ttest_ind(ten_w, forty_w)\n",
    "# stats.f_oneway(ten_w, forty_w) #ANOVA"
   ]
  },
  {
   "cell_type": "code",
   "execution_count": 24,
   "metadata": {},
   "outputs": [
    {
     "data": {
      "text/plain": [
       "Ttest_indResult(statistic=-2.714776170395291, pvalue=0.032170545953306165)"
      ]
     },
     "execution_count": 24,
     "metadata": {},
     "output_type": "execute_result"
    }
   ],
   "source": [
    "stats.ttest_ind(ten_w, forty_w,equal_var=False)"
   ]
  },
  {
   "cell_type": "code",
   "execution_count": null,
   "metadata": {},
   "outputs": [],
   "source": []
  },
  {
   "cell_type": "code",
   "execution_count": null,
   "metadata": {},
   "outputs": [],
   "source": []
  },
  {
   "cell_type": "markdown",
   "metadata": {},
   "source": [
    "## Delayed Update"
   ]
  },
  {
   "cell_type": "code",
   "execution_count": null,
   "metadata": {},
   "outputs": [],
   "source": []
  },
  {
   "cell_type": "code",
   "execution_count": null,
   "metadata": {},
   "outputs": [],
   "source": []
  },
  {
   "cell_type": "code",
   "execution_count": null,
   "metadata": {},
   "outputs": [],
   "source": []
  },
  {
   "cell_type": "code",
   "execution_count": null,
   "metadata": {},
   "outputs": [],
   "source": []
  },
  {
   "cell_type": "code",
   "execution_count": null,
   "metadata": {},
   "outputs": [],
   "source": []
  }
 ],
 "metadata": {
  "kernelspec": {
   "display_name": "Python 3",
   "language": "python",
   "name": "python3"
  },
  "language_info": {
   "codemirror_mode": {
    "name": "ipython",
    "version": 3
   },
   "file_extension": ".py",
   "mimetype": "text/x-python",
   "name": "python",
   "nbconvert_exporter": "python",
   "pygments_lexer": "ipython3",
   "version": "3.7.4"
  }
 },
 "nbformat": 4,
 "nbformat_minor": 4
}
